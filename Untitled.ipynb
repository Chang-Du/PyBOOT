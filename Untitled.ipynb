{
 "cells": [
  {
   "cell_type": "code",
   "execution_count": 20,
   "metadata": {
    "collapsed": true
   },
   "outputs": [],
   "source": [
    "from __future__ import print_function, division\n",
    "import numpy as np"
   ]
  },
  {
   "cell_type": "markdown",
   "metadata": {},
   "source": [
    "# Basic variable types: \n",
    "### integers, floats, strings"
   ]
  },
  {
   "cell_type": "code",
   "execution_count": 2,
   "metadata": {
    "collapsed": true
   },
   "outputs": [],
   "source": [
    "a = 0\n",
    "type(a)"
   ]
  },
  {
   "cell_type": "code",
   "execution_count": 5,
   "metadata": {
    "collapsed": false
   },
   "outputs": [
    {
     "data": {
      "text/plain": [
       "float"
      ]
     },
     "execution_count": 5,
     "metadata": {},
     "output_type": "execute_result"
    }
   ],
   "source": [
    "b = 5.3\n",
    "type(b)"
   ]
  },
  {
   "cell_type": "code",
   "execution_count": 6,
   "metadata": {
    "collapsed": false
   },
   "outputs": [
    {
     "data": {
      "text/plain": [
       "str"
      ]
     },
     "execution_count": 6,
     "metadata": {},
     "output_type": "execute_result"
    }
   ],
   "source": [
    "a = '0'\n",
    "type(a)"
   ]
  },
  {
   "cell_type": "code",
   "execution_count": 19,
   "metadata": {
    "collapsed": false
   },
   "outputs": [
    {
     "data": {
      "text/plain": [
       "str"
      ]
     },
     "execution_count": 19,
     "metadata": {},
     "output_type": "execute_result"
    }
   ],
   "source": [
    "type(a)"
   ]
  },
  {
   "cell_type": "code",
   "execution_count": 169,
   "metadata": {
    "collapsed": false
   },
   "outputs": [
    {
     "data": {
      "text/plain": [
       "True"
      ]
     },
     "execution_count": 169,
     "metadata": {},
     "output_type": "execute_result"
    }
   ],
   "source": [
    "a = 0\n",
    "a == 0"
   ]
  },
  {
   "cell_type": "code",
   "execution_count": null,
   "metadata": {
    "collapsed": true
   },
   "outputs": [],
   "source": [
    "a = \"hello\"\n",
    "a[0]"
   ]
  },
  {
   "cell_type": "code",
   "execution_count": 188,
   "metadata": {
    "collapsed": true
   },
   "outputs": [],
   "source": [
    "a = np.int16(-32769)"
   ]
  },
  {
   "cell_type": "code",
   "execution_count": 189,
   "metadata": {
    "collapsed": false
   },
   "outputs": [
    {
     "data": {
      "text/plain": [
       "numpy.int16"
      ]
     },
     "execution_count": 189,
     "metadata": {},
     "output_type": "execute_result"
    }
   ],
   "source": [
    "type(a)"
   ]
  },
  {
   "cell_type": "code",
   "execution_count": 191,
   "metadata": {
    "collapsed": false
   },
   "outputs": [
    {
     "data": {
      "text/plain": [
       "32767"
      ]
     },
     "execution_count": 191,
     "metadata": {},
     "output_type": "execute_result"
    }
   ],
   "source": [
    "a"
   ]
  },
  {
   "cell_type": "code",
   "execution_count": 201,
   "metadata": {
    "collapsed": true
   },
   "outputs": [],
   "source": [
    "a = 2147483688"
   ]
  },
  {
   "cell_type": "code",
   "execution_count": 202,
   "metadata": {
    "collapsed": false
   },
   "outputs": [
    {
     "data": {
      "text/plain": [
       "int"
      ]
     },
     "execution_count": 202,
     "metadata": {},
     "output_type": "execute_result"
    }
   ],
   "source": [
    "type(a)"
   ]
  },
  {
   "cell_type": "code",
   "execution_count": 203,
   "metadata": {
    "collapsed": false
   },
   "outputs": [
    {
     "data": {
      "text/plain": [
       "2147483688"
      ]
     },
     "execution_count": 203,
     "metadata": {},
     "output_type": "execute_result"
    }
   ],
   "source": [
    "a"
   ]
  },
  {
   "cell_type": "markdown",
   "metadata": {},
   "source": [
    "# series of numbers\n",
    "## numpy"
   ]
  },
  {
   "cell_type": "code",
   "execution_count": 23,
   "metadata": {
    "collapsed": false
   },
   "outputs": [
    {
     "data": {
      "text/plain": [
       "[0]"
      ]
     },
     "execution_count": 23,
     "metadata": {},
     "output_type": "execute_result"
    }
   ],
   "source": [
    "a = [0]\n",
    "a"
   ]
  },
  {
   "cell_type": "code",
   "execution_count": 34,
   "metadata": {
    "collapsed": false
   },
   "outputs": [
    {
     "data": {
      "text/plain": [
       "[0, 3.5, '7']"
      ]
     },
     "execution_count": 34,
     "metadata": {},
     "output_type": "execute_result"
    }
   ],
   "source": [
    "b = [0, 3.5, '7']\n",
    "b"
   ]
  },
  {
   "cell_type": "code",
   "execution_count": 35,
   "metadata": {
    "collapsed": false
   },
   "outputs": [],
   "source": [
    "c = np.array(b)"
   ]
  },
  {
   "cell_type": "code",
   "execution_count": 36,
   "metadata": {
    "collapsed": false
   },
   "outputs": [
    {
     "data": {
      "text/plain": [
       "dtype('S32')"
      ]
     },
     "execution_count": 36,
     "metadata": {},
     "output_type": "execute_result"
    }
   ],
   "source": [
    "c.dtype"
   ]
  },
  {
   "cell_type": "code",
   "execution_count": 100,
   "metadata": {
    "collapsed": false
   },
   "outputs": [
    {
     "data": {
      "text/plain": [
       "(20, 10)"
      ]
     },
     "execution_count": 100,
     "metadata": {},
     "output_type": "execute_result"
    }
   ],
   "source": [
    "np.random.seed(123)\n",
    "n = 60 * np.random.rand(20) + 40\n",
    "\n",
    "tt = (10. * np.random.randn(10,20) + n).T\n",
    "tt.shape"
   ]
  },
  {
   "cell_type": "code",
   "execution_count": 249,
   "metadata": {
    "collapsed": false
   },
   "outputs": [],
   "source": [
    "np.save(\"butTimeTable.npy\", tt)\n"
   ]
  },
  {
   "cell_type": "code",
   "execution_count": 250,
   "metadata": {
    "collapsed": true
   },
   "outputs": [],
   "source": [
    "hours = range(1,11)\n",
    "busses = np.random.choice(range(30, 110), 20)\n",
    "np.save(\"busBusses.npy\", busses)"
   ]
  },
  {
   "cell_type": "code",
   "execution_count": 156,
   "metadata": {
    "collapsed": false
   },
   "outputs": [
    {
     "name": "stdout",
     "output_type": "stream",
     "text": [
      "      1 PM    2 PM    3 PM    4 PM    5 PM    6 PM    7 PM    8 PM    9 PM   10 PM \n",
      "BUS\n",
      " 44   91.83   72.99   96.74   73.41   85.58  101.38   96.98   95.56   77.87   78.38 \n",
      "\n",
      " 50   61.03   60.00   67.86   41.11   53.38   36.92   53.63   55.74   58.57   54.99 \n",
      "\n",
      " 63   60.98   45.56   45.88   66.16   60.03   50.85   45.38   53.81   54.55   60.64 \n",
      "\n",
      " 38   87.99   55.80   81.03   66.19   53.30   67.56   74.38   71.14   87.67   67.10 \n",
      "\n",
      " 55   73.81   79.26   86.31   99.78   90.29   84.38   95.84   84.51   97.12  105.18 \n",
      "\n",
      "106   77.14   71.12   52.12   73.46   91.37   72.87   68.71   72.43   61.80   72.27 \n",
      "\n",
      " 47   86.31  102.23  113.02   95.70   98.60  114.93  104.41  105.50   93.36   98.78 \n",
      "\n",
      " 30   74.71   80.97   89.16   70.23   81.43   78.39   78.97   72.11   55.52   79.02 \n",
      "\n",
      " 52   77.93   92.78   69.31   61.53   70.65   76.98   73.42   84.09   63.37   67.99 \n",
      "\n",
      " 62   49.24   67.66   61.20   51.40   44.91   68.52   78.97   52.58   53.75   54.37 \n",
      "\n",
      " 76   59.19   70.38   48.61   81.46   64.85   65.33   58.19   61.38   57.04   59.64 \n",
      "\n",
      " 50   75.13  106.12   85.74   85.39   67.69   78.10   85.18   81.00   87.66   86.53 \n",
      "\n",
      "109   63.76   53.37   71.00   77.82   62.04   56.34   68.85   55.82   68.09   72.11 \n",
      "\n",
      " 90   15.59   33.19   35.27   30.91   56.01   32.58   46.42   42.83   43.28   49.38 \n",
      "\n",
      " 56   46.17   81.32   75.50   65.69   56.53   56.32   49.76   56.47   65.88   61.13 \n",
      "\n",
      " 92   77.28   76.30   73.31   96.06   89.29   87.50   65.51   85.01   83.02   70.12 \n",
      "\n",
      " 81   60.22   51.25   29.72   47.60   61.08   58.56   40.75   54.98   52.92   44.26 \n",
      "\n",
      " 93   48.79   61.22   60.92   60.84   53.31   53.76   52.21   65.25   18.22   66.65 \n",
      "\n",
      " 43   71.92   80.80   67.86   61.05   58.18   66.40   77.43   74.97   69.20   80.85 \n",
      "\n",
      " 76   78.79   89.46   70.65   58.27   68.58   89.97   66.60   65.80   70.80   75.61 \n",
      "\n"
     ]
    }
   ],
   "source": [
    "def printBusTable(times, i):\n",
    "    print(\"{:>3d} \".format(busses[i]), end=\"\")\n",
    "    for j in times[i]:\n",
    "        print(\"{:>7.2f} \".format(j), end=\"\")\n",
    "    print(\"\\n\")\n",
    "\n",
    "print(\"{:>3}\".format(\"\"), end=\"\")\n",
    "\n",
    "for k in range(10):\n",
    "    print(\"{:>4} PM \".format(hours[k]), end=\"\")\n",
    "print(\"\")\n",
    "\n",
    "print(\"{:>3}\".format(\"BUS\"), end=\"\")\n",
    "print(\"\")\n",
    "\n",
    "for k in range(20):\n",
    "    printBusTable(tt, k)"
   ]
  },
  {
   "cell_type": "code",
   "execution_count": 144,
   "metadata": {
    "collapsed": false
   },
   "outputs": [
    {
     "data": {
      "text/plain": [
       "68.884458640080283"
      ]
     },
     "execution_count": 144,
     "metadata": {},
     "output_type": "execute_result"
    }
   ],
   "source": [
    "tt.mean()"
   ]
  },
  {
   "cell_type": "code",
   "execution_count": 145,
   "metadata": {
    "collapsed": false
   },
   "outputs": [
    {
     "name": "stdout",
     "output_type": "stream",
     "text": [
      "mean time 68.88 minutes for all busses at any time\n"
     ]
    }
   ],
   "source": [
    "print(\"mean time {:.2f} minutes for all busses at any time\".format(tt.mean()))"
   ]
  },
  {
   "cell_type": "code",
   "execution_count": 146,
   "metadata": {
    "collapsed": false
   },
   "outputs": [
    {
     "data": {
      "text/plain": [
       "array([ 66.89079118,  71.58962256,  69.06093555,  68.20293716,\n",
       "        68.35553274,  69.88235848,  69.07994486,  69.5488946 ,\n",
       "        65.98370986,  70.24985942])"
      ]
     },
     "execution_count": 146,
     "metadata": {},
     "output_type": "execute_result"
    }
   ],
   "source": [
    "tt.mean(axis = 0)"
   ]
  },
  {
   "cell_type": "code",
   "execution_count": 147,
   "metadata": {
    "collapsed": false
   },
   "outputs": [
    {
     "name": "stdout",
     "output_type": "stream",
     "text": [
      "mean time by hour\n",
      " 1 PM:  66.89 minutes\n",
      " 2 PM:  71.59 minutes\n",
      " 3 PM:  69.06 minutes\n",
      " 4 PM:  68.20 minutes\n",
      " 5 PM:  68.36 minutes\n",
      " 6 PM:  69.88 minutes\n",
      " 7 PM:  69.08 minutes\n",
      " 8 PM:  69.55 minutes\n",
      " 9 PM:  65.98 minutes\n",
      "10 PM:  70.25 minutes\n"
     ]
    }
   ],
   "source": [
    "print(\"mean time by hour\")\n",
    "print('\\n'.join('{:>2d} PM: {:6.2f} minutes'.format(hours[k[0]], k[1]) for k in enumerate(tt.mean(axis = 0))))\n"
   ]
  },
  {
   "cell_type": "code",
   "execution_count": 148,
   "metadata": {
    "collapsed": false
   },
   "outputs": [
    {
     "name": "stdout",
     "output_type": "stream",
     "text": [
      "mean time by bus\n",
      "   72:  87.07 minutes\n",
      "   45:  54.32 minutes\n",
      "   33:  54.39 minutes\n",
      "   79:  71.22 minutes\n",
      "   63:  89.65 minutes\n",
      "   64:  71.33 minutes\n",
      "   93: 101.28 minutes\n",
      "   42:  76.05 minutes\n",
      "   56:  73.80 minutes\n",
      "  101:  58.26 minutes\n",
      "   70:  62.61 minutes\n",
      "   71:  83.85 minutes\n",
      "   58:  64.92 minutes\n",
      "   45:  38.55 minutes\n",
      "   82:  61.48 minutes\n",
      "   75:  80.34 minutes\n",
      "   98:  50.13 minutes\n",
      "   66:  54.12 minutes\n",
      "   89:  70.87 minutes\n",
      "  103:  73.45 minutes\n"
     ]
    }
   ],
   "source": [
    "print(\"mean time by bus\")\n",
    "print('\\n'.join('{:>5d}: {:6.2f} minutes'.format(busses[k[0]], k[1]) for k in enumerate(tt.mean(axis = 1))))\n"
   ]
  },
  {
   "cell_type": "code",
   "execution_count": 157,
   "metadata": {
    "collapsed": false
   },
   "outputs": [
    {
     "name": "stdout",
     "output_type": "stream",
     "text": [
      "the time it takes the longest is: 2 PM\n"
     ]
    }
   ],
   "source": [
    "hours = np.array(hours)\n",
    "print(\"the time it takes the longest is: {} PM\".format(hours[tt.mean(axis = 0) == tt.mean(axis = 0).max()][0]))"
   ]
  },
  {
   "cell_type": "code",
   "execution_count": 164,
   "metadata": {
    "collapsed": false
   },
   "outputs": [
    {
     "name": "stdout",
     "output_type": "stream",
     "text": [
      "the time it takes the longest is: 2 PM, when the trip takes 71.59 minutes\n"
     ]
    }
   ],
   "source": [
    "meanByTime = tt.mean(axis = 0)\n",
    "print(\"the time it takes the longest is: {} PM, when the trip takes {:.2f} minutes\"\\\n",
    "      .format(hours[meanByTime == meanByTime.max()][0], meanByTime.max()))"
   ]
  },
  {
   "cell_type": "code",
   "execution_count": 165,
   "metadata": {
    "collapsed": false
   },
   "outputs": [
    {
     "name": "stdout",
     "output_type": "stream",
     "text": [
      "the bus that takes the longest is: BUS 47, which takes 101.28 minutes\n"
     ]
    }
   ],
   "source": [
    "meanByBus = tt.mean(axis = 1)\n",
    "print(\"the bus that takes the longest is: BUS {}, which takes {:.2f} minutes\"\\\n",
    "      .format(busses[meanByBus == meanByBus.max()][0], meanByBus.max()))"
   ]
  },
  {
   "cell_type": "code",
   "execution_count": 204,
   "metadata": {
    "collapsed": false
   },
   "outputs": [
    {
     "data": {
      "text/plain": [
       "array([  91.82869011,   72.99278771,   96.74459251,   73.41298391,\n",
       "         85.58215726,  101.38226456,   96.97680737,   95.56072596,\n",
       "         77.87195303,   78.37553397])"
      ]
     },
     "execution_count": 204,
     "metadata": {},
     "output_type": "execute_result"
    }
   ],
   "source": [
    "tt[0]"
   ]
  },
  {
   "cell_type": "code",
   "execution_count": 205,
   "metadata": {
    "collapsed": false
   },
   "outputs": [
    {
     "data": {
      "text/plain": [
       "array([ 61.03022409,  60.00463334,  67.86228679,  41.10873249,\n",
       "        53.37659575,  36.91790247,  53.62835897,  55.73660035,\n",
       "        58.56814116,  54.98889748])"
      ]
     },
     "execution_count": 205,
     "metadata": {},
     "output_type": "execute_result"
    }
   ],
   "source": [
    "tt[1]"
   ]
  },
  {
   "cell_type": "code",
   "execution_count": 207,
   "metadata": {
    "collapsed": false
   },
   "outputs": [
    {
     "data": {
      "text/plain": [
       "array([ 91.82869011,  61.03022409,  60.98477297,  87.98620643,\n",
       "        73.8097995 ,  77.14467806,  86.30704523,  74.71226929,\n",
       "        77.92696605,  49.24024409,  59.18999377,  75.12543348,\n",
       "        63.75814098,  15.59478274,  46.16732427,  77.280952  ,\n",
       "        60.22412814,  48.79074854,  71.92154159,  78.79188234])"
      ]
     },
     "execution_count": 207,
     "metadata": {},
     "output_type": "execute_result"
    }
   ],
   "source": [
    "tt[:,0]"
   ]
  },
  {
   "cell_type": "code",
   "execution_count": 210,
   "metadata": {
    "collapsed": false
   },
   "outputs": [
    {
     "data": {
      "text/plain": [
       "array([ 72.99278771,  60.00463334,  45.55742203,  55.8021912 ,  79.25914025])"
      ]
     },
     "execution_count": 210,
     "metadata": {},
     "output_type": "execute_result"
    }
   ],
   "source": [
    "tt[:5,1]"
   ]
  },
  {
   "cell_type": "code",
   "execution_count": 213,
   "metadata": {
    "collapsed": true
   },
   "outputs": [],
   "source": [
    "a = range(10)\n",
    "b = range(101)"
   ]
  },
  {
   "cell_type": "code",
   "execution_count": 212,
   "metadata": {
    "collapsed": false
   },
   "outputs": [
    {
     "data": {
      "text/plain": [
       "list"
      ]
     },
     "execution_count": 212,
     "metadata": {},
     "output_type": "execute_result"
    }
   ],
   "source": [
    "type(a)"
   ]
  },
  {
   "cell_type": "code",
   "execution_count": 214,
   "metadata": {
    "collapsed": false
   },
   "outputs": [
    {
     "data": {
      "text/plain": [
       "[0, 1, 2, 3, 4, 5, 6, 7, 8, 9]"
      ]
     },
     "execution_count": 214,
     "metadata": {},
     "output_type": "execute_result"
    }
   ],
   "source": [
    "a"
   ]
  },
  {
   "cell_type": "code",
   "execution_count": 215,
   "metadata": {
    "collapsed": false
   },
   "outputs": [
    {
     "data": {
      "text/plain": [
       "[0,\n",
       " 1,\n",
       " 2,\n",
       " 3,\n",
       " 4,\n",
       " 5,\n",
       " 6,\n",
       " 7,\n",
       " 8,\n",
       " 9,\n",
       " 10,\n",
       " 11,\n",
       " 12,\n",
       " 13,\n",
       " 14,\n",
       " 15,\n",
       " 16,\n",
       " 17,\n",
       " 18,\n",
       " 19,\n",
       " 20,\n",
       " 21,\n",
       " 22,\n",
       " 23,\n",
       " 24,\n",
       " 25,\n",
       " 26,\n",
       " 27,\n",
       " 28,\n",
       " 29,\n",
       " 30,\n",
       " 31,\n",
       " 32,\n",
       " 33,\n",
       " 34,\n",
       " 35,\n",
       " 36,\n",
       " 37,\n",
       " 38,\n",
       " 39,\n",
       " 40,\n",
       " 41,\n",
       " 42,\n",
       " 43,\n",
       " 44,\n",
       " 45,\n",
       " 46,\n",
       " 47,\n",
       " 48,\n",
       " 49,\n",
       " 50,\n",
       " 51,\n",
       " 52,\n",
       " 53,\n",
       " 54,\n",
       " 55,\n",
       " 56,\n",
       " 57,\n",
       " 58,\n",
       " 59,\n",
       " 60,\n",
       " 61,\n",
       " 62,\n",
       " 63,\n",
       " 64,\n",
       " 65,\n",
       " 66,\n",
       " 67,\n",
       " 68,\n",
       " 69,\n",
       " 70,\n",
       " 71,\n",
       " 72,\n",
       " 73,\n",
       " 74,\n",
       " 75,\n",
       " 76,\n",
       " 77,\n",
       " 78,\n",
       " 79,\n",
       " 80,\n",
       " 81,\n",
       " 82,\n",
       " 83,\n",
       " 84,\n",
       " 85,\n",
       " 86,\n",
       " 87,\n",
       " 88,\n",
       " 89,\n",
       " 90,\n",
       " 91,\n",
       " 92,\n",
       " 93,\n",
       " 94,\n",
       " 95,\n",
       " 96,\n",
       " 97,\n",
       " 98,\n",
       " 99,\n",
       " 100]"
      ]
     },
     "execution_count": 215,
     "metadata": {},
     "output_type": "execute_result"
    }
   ],
   "source": [
    "b"
   ]
  },
  {
   "cell_type": "code",
   "execution_count": 217,
   "metadata": {
    "collapsed": false
   },
   "outputs": [
    {
     "data": {
      "text/plain": [
       "[0, 1, 2, 3, 4, 5, 6, 7, 8, 9, 'a', 'b', 'c', 'd', 'e', 'f', 'g']"
      ]
     },
     "execution_count": 217,
     "metadata": {},
     "output_type": "execute_result"
    }
   ],
   "source": [
    "b = ['a','b','c','d','e','f','g'] \n",
    "a + b"
   ]
  },
  {
   "cell_type": "code",
   "execution_count": 289,
   "metadata": {
    "collapsed": false
   },
   "outputs": [
    {
     "data": {
      "text/plain": [
       "'[[91 72 96 73 85]\\n [61 60 67 41 53]\\n [60 45 45 66 60]\\n [87 55 81 66 53]\\n [73 79 86 99 90]]abcdefg'"
      ]
     },
     "execution_count": 289,
     "metadata": {},
     "output_type": "execute_result"
    }
   ],
   "source": [
    "b= 'abcdefg'\n",
    "str(a) + b"
   ]
  },
  {
   "cell_type": "code",
   "execution_count": null,
   "metadata": {
    "collapsed": true
   },
   "outputs": [],
   "source": [
    "Lists are indexed and sliced in the same way as strings and arrays.\n",
    "Lists are mutable (i.e., their values can be changed in place).\n",
    "Strings are immutable (i.e., the characters in them cannot be changed).\n"
   ]
  },
  {
   "cell_type": "code",
   "execution_count": 290,
   "metadata": {
    "collapsed": false
   },
   "outputs": [
    {
     "data": {
      "text/plain": [
       "'abcdefgabcdefg'"
      ]
     },
     "execution_count": 290,
     "metadata": {},
     "output_type": "execute_result"
    }
   ],
   "source": [
    "b*2"
   ]
  },
  {
   "cell_type": "code",
   "execution_count": 295,
   "metadata": {
    "collapsed": false
   },
   "outputs": [
    {
     "data": {
      "text/plain": [
       "[91, 72, 96, 73, 85, 91, 72, 96, 73, 85]"
      ]
     },
     "execution_count": 295,
     "metadata": {},
     "output_type": "execute_result"
    }
   ],
   "source": [
    "list(a[0])*2"
   ]
  },
  {
   "cell_type": "code",
   "execution_count": 231,
   "metadata": {
    "collapsed": false
   },
   "outputs": [
    {
     "data": {
      "text/plain": [
       "(5, 5)"
      ]
     },
     "execution_count": 231,
     "metadata": {},
     "output_type": "execute_result"
    }
   ],
   "source": [
    "a = tt[:5,:5].astype(int)\n",
    "a.shape"
   ]
  },
  {
   "cell_type": "code",
   "execution_count": 238,
   "metadata": {
    "collapsed": false
   },
   "outputs": [
    {
     "data": {
      "text/plain": [
       "(15, 5)"
      ]
     },
     "execution_count": 238,
     "metadata": {},
     "output_type": "execute_result"
    }
   ],
   "source": [
    "b = tt[5:,5:].astype(int)\n",
    "b.shape"
   ]
  },
  {
   "cell_type": "code",
   "execution_count": 239,
   "metadata": {
    "collapsed": false
   },
   "outputs": [
    {
     "data": {
      "text/plain": [
       "(20, 5)"
      ]
     },
     "execution_count": 239,
     "metadata": {},
     "output_type": "execute_result"
    }
   ],
   "source": [
    "ab = np.vstack([a, b])\n",
    "ab.shape"
   ]
  },
  {
   "cell_type": "code",
   "execution_count": 240,
   "metadata": {
    "collapsed": false
   },
   "outputs": [
    {
     "data": {
      "text/plain": [
       "array([[ 91,  72,  96,  73,  85],\n",
       "       [ 61,  60,  67,  41,  53],\n",
       "       [ 60,  45,  45,  66,  60],\n",
       "       [ 87,  55,  81,  66,  53],\n",
       "       [ 73,  79,  86,  99,  90],\n",
       "       [ 72,  68,  72,  61,  72],\n",
       "       [114, 104, 105,  93,  98],\n",
       "       [ 78,  78,  72,  55,  79],\n",
       "       [ 76,  73,  84,  63,  67],\n",
       "       [ 68,  78,  52,  53,  54],\n",
       "       [ 65,  58,  61,  57,  59],\n",
       "       [ 78,  85,  80,  87,  86],\n",
       "       [ 56,  68,  55,  68,  72],\n",
       "       [ 32,  46,  42,  43,  49],\n",
       "       [ 56,  49,  56,  65,  61],\n",
       "       [ 87,  65,  85,  83,  70],\n",
       "       [ 58,  40,  54,  52,  44],\n",
       "       [ 53,  52,  65,  18,  66],\n",
       "       [ 66,  77,  74,  69,  80],\n",
       "       [ 89,  66,  65,  70,  75]])"
      ]
     },
     "execution_count": 240,
     "metadata": {},
     "output_type": "execute_result"
    }
   ],
   "source": [
    "ab"
   ]
  },
  {
   "cell_type": "code",
   "execution_count": 241,
   "metadata": {
    "collapsed": false
   },
   "outputs": [
    {
     "data": {
      "text/plain": [
       "(15, 5)"
      ]
     },
     "execution_count": 241,
     "metadata": {},
     "output_type": "execute_result"
    }
   ],
   "source": [
    "b = tt[5:,5:].astype(float)\n",
    "b.shape"
   ]
  },
  {
   "cell_type": "code",
   "execution_count": 242,
   "metadata": {
    "collapsed": false
   },
   "outputs": [
    {
     "data": {
      "text/plain": [
       "array([[  91.        ,   72.        ,   96.        ,   73.        ,   85.        ],\n",
       "       [  61.        ,   60.        ,   67.        ,   41.        ,   53.        ],\n",
       "       [  60.        ,   45.        ,   45.        ,   66.        ,   60.        ],\n",
       "       [  87.        ,   55.        ,   81.        ,   66.        ,   53.        ],\n",
       "       [  73.        ,   79.        ,   86.        ,   99.        ,   90.        ],\n",
       "       [  72.86854378,   68.71403738,   72.43112835,   61.79702835,\n",
       "          72.26935691],\n",
       "       [ 114.93276158,  104.41133895,  105.50238628,   93.35943062,\n",
       "          98.78277939],\n",
       "       [  78.3874604 ,   78.96898309,   72.10555491,   55.51923827,\n",
       "          79.02316128],\n",
       "       [  76.97932739,   73.41862304,   84.09255185,   63.36670996,\n",
       "          67.99069123],\n",
       "       [  68.52445254,   78.97249561,   52.57678652,   53.74647403,\n",
       "          54.37398039],\n",
       "       [  65.33415395,   58.19399315,   61.38295111,   57.04243639,\n",
       "          59.63865558],\n",
       "       [  78.10374313,   85.17605977,   80.99901671,   87.65882487,\n",
       "          86.52981761],\n",
       "       [  56.34111999,   68.85249945,   55.82441791,   68.08625797,\n",
       "          72.10975084],\n",
       "       [  32.58024267,   46.41792735,   42.82946792,   43.28099373,\n",
       "          49.37757159],\n",
       "       [  56.31828323,   49.76376656,   56.47451759,   65.87847643,\n",
       "          61.13387985],\n",
       "       [  87.4965901 ,   65.51103779,   85.00879678,   83.01854661,\n",
       "          70.11890182],\n",
       "       [  58.55899776,   40.75295312,   54.98036344,   52.91969315,\n",
       "          44.25847756],\n",
       "       [  53.76179385,   52.20652832,   65.24639906,   18.21655529,\n",
       "          66.6490358 ],\n",
       "       [  66.40353147,   77.43164409,   74.96692462,   69.20014753,\n",
       "          80.85366556],\n",
       "       [  89.96935633,   66.60290963,   65.79740182,   70.80114802,\n",
       "          75.60585109]])"
      ]
     },
     "execution_count": 242,
     "metadata": {},
     "output_type": "execute_result"
    }
   ],
   "source": [
    "ab = np.vstack([a, b])\n",
    "ab"
   ]
  },
  {
   "cell_type": "code",
   "execution_count": 243,
   "metadata": {
    "collapsed": false
   },
   "outputs": [
    {
     "ename": "ValueError",
     "evalue": "all the input array dimensions except for the concatenation axis must match exactly",
     "output_type": "error",
     "traceback": [
      "\u001b[0;31m---------------------------------------------------------------------------\u001b[0m",
      "\u001b[0;31mValueError\u001b[0m                                Traceback (most recent call last)",
      "\u001b[0;32m<ipython-input-243-ea3e75f25aeb>\u001b[0m in \u001b[0;36m<module>\u001b[0;34m()\u001b[0m\n\u001b[0;32m----> 1\u001b[0;31m \u001b[0mab\u001b[0m \u001b[0;34m=\u001b[0m \u001b[0mnp\u001b[0m\u001b[0;34m.\u001b[0m\u001b[0mhstack\u001b[0m\u001b[0;34m(\u001b[0m\u001b[0;34m[\u001b[0m\u001b[0ma\u001b[0m\u001b[0;34m,\u001b[0m \u001b[0mb\u001b[0m\u001b[0;34m]\u001b[0m\u001b[0;34m)\u001b[0m\u001b[0;34m\u001b[0m\u001b[0m\n\u001b[0m",
      "\u001b[0;32m//anaconda/envs/p2nb/lib/python2.7/site-packages/numpy/core/shape_base.pyc\u001b[0m in \u001b[0;36mhstack\u001b[0;34m(tup)\u001b[0m\n\u001b[1;32m    278\u001b[0m         \u001b[0;32mreturn\u001b[0m \u001b[0m_nx\u001b[0m\u001b[0;34m.\u001b[0m\u001b[0mconcatenate\u001b[0m\u001b[0;34m(\u001b[0m\u001b[0marrs\u001b[0m\u001b[0;34m,\u001b[0m \u001b[0;36m0\u001b[0m\u001b[0;34m)\u001b[0m\u001b[0;34m\u001b[0m\u001b[0m\n\u001b[1;32m    279\u001b[0m     \u001b[0;32melse\u001b[0m\u001b[0;34m:\u001b[0m\u001b[0;34m\u001b[0m\u001b[0m\n\u001b[0;32m--> 280\u001b[0;31m         \u001b[0;32mreturn\u001b[0m \u001b[0m_nx\u001b[0m\u001b[0;34m.\u001b[0m\u001b[0mconcatenate\u001b[0m\u001b[0;34m(\u001b[0m\u001b[0marrs\u001b[0m\u001b[0;34m,\u001b[0m \u001b[0;36m1\u001b[0m\u001b[0;34m)\u001b[0m\u001b[0;34m\u001b[0m\u001b[0m\n\u001b[0m\u001b[1;32m    281\u001b[0m \u001b[0;34m\u001b[0m\u001b[0m\n\u001b[1;32m    282\u001b[0m \u001b[0;32mdef\u001b[0m \u001b[0mstack\u001b[0m\u001b[0;34m(\u001b[0m\u001b[0marrays\u001b[0m\u001b[0;34m,\u001b[0m \u001b[0maxis\u001b[0m\u001b[0;34m=\u001b[0m\u001b[0;36m0\u001b[0m\u001b[0;34m)\u001b[0m\u001b[0;34m:\u001b[0m\u001b[0;34m\u001b[0m\u001b[0m\n",
      "\u001b[0;31mValueError\u001b[0m: all the input array dimensions except for the concatenation axis must match exactly"
     ]
    }
   ],
   "source": [
    "ab = np.hstack([a, b])\n"
   ]
  },
  {
   "cell_type": "code",
   "execution_count": 246,
   "metadata": {
    "collapsed": false
   },
   "outputs": [
    {
     "data": {
      "text/plain": [
       "(5, 2)"
      ]
     },
     "execution_count": 246,
     "metadata": {},
     "output_type": "execute_result"
    }
   ],
   "source": [
    "b = tt[15:,8:].astype(float)\n",
    "b.shape"
   ]
  },
  {
   "cell_type": "code",
   "execution_count": 247,
   "metadata": {
    "collapsed": false
   },
   "outputs": [
    {
     "data": {
      "text/plain": [
       "array([[ 91.        ,  72.        ,  96.        ,  73.        ,\n",
       "         85.        ,  83.01854661,  70.11890182],\n",
       "       [ 61.        ,  60.        ,  67.        ,  41.        ,\n",
       "         53.        ,  52.91969315,  44.25847756],\n",
       "       [ 60.        ,  45.        ,  45.        ,  66.        ,\n",
       "         60.        ,  18.21655529,  66.6490358 ],\n",
       "       [ 87.        ,  55.        ,  81.        ,  66.        ,\n",
       "         53.        ,  69.20014753,  80.85366556],\n",
       "       [ 73.        ,  79.        ,  86.        ,  99.        ,\n",
       "         90.        ,  70.80114802,  75.60585109]])"
      ]
     },
     "execution_count": 247,
     "metadata": {},
     "output_type": "execute_result"
    }
   ],
   "source": [
    "ab = np.hstack([a, b])\n",
    "ab"
   ]
  },
  {
   "cell_type": "markdown",
   "metadata": {},
   "source": [
    "# LOOPS"
   ]
  },
  {
   "cell_type": "code",
   "execution_count": 287,
   "metadata": {
    "collapsed": false
   },
   "outputs": [
    {
     "name": "stdout",
     "output_type": "stream",
     "text": [
      "J  1 (M)  2 (T)  3 (W)  4 (Th)  5 (F)  6 (S)  7 (Sun)  \n",
      "J  8 (M)  9 (T)  10 (W)  11 (Th)  12 (F)  13 (S)  14 (Sun)  \n",
      "J  15 (M)  16 (T)  17 (W)  18 (Th)  19 (F)  20 (S)  21 (Sun)  \n",
      "J  22 (M)  23 (T)  24 (W)  25 (Th)  26 (F)  27 (S)  28 (Sun)  \n",
      "J  29 (M)  30 (T)  31 (W)  F  1 (Th)  2 (F)  3 (S)  4 (Sun)  \n",
      "F  5 (M)  6 (T)  7 (W)  8 (Th)  9 (F)  10 (S)  11 (Sun)  \n",
      "F  12 (M)  13 (T)  14 (W)  15 (Th)  16 (F)  17 (S)  18 (Sun)  \n",
      "F  19 (M)  20 (T)  21 (W)  22 (Th)  23 (F)  24 (S)  25 (Sun)  \n",
      "F  26 (M)  27 (T)  28 (W)  29 (Th)  M  1 (F)  2 (S)  3 (Sun)  \n",
      "M  4 (M)  5 (T)  6 (W)  7 (Th)  8 (F)  9 (S)  10 (Sun)  \n",
      "M  11 (M)  12 (T)  13 (W)  14 (Th)  15 (F)  16 (S)  17 (Sun)  \n",
      "M  18 (M)  19 (T)  20 (W)  21 (Th)  22 (F)  23 (S)  24 (Sun)  \n",
      "M  25 (M)  26 (T)  27 (W)  28 (Th)  29 (F)  30 (S)  31 (Sun)  \n",
      "M  A  1 (M)  2 (T)  3 (W)  4 (Th)  5 (F)  6 (S)  7 (Sun)  \n",
      "A  8 (M)  9 (T)  10 (W)  11 (Th)  12 (F)  13 (S)  14 (Sun)  \n",
      "A  15 (M)  16 (T)  17 (W)  18 (Th)  19 (F)  20 (S)  21 (Sun)  \n",
      "A  22 (M)  23 (T)  24 (W)  25 (Th)  26 (F)  27 (S)  28 (Sun)  \n",
      "A  29 (M)  30 (T)  MAY  1 (W)  2 (Th)  3 (F)  4 (S)  5 (Sun)  \n",
      "MAY  6 (M)  7 (T)  8 (W)  9 (Th)  10 (F)  11 (S)  12 (Sun)  \n",
      "MAY  13 (M)  14 (T)  15 (W)  16 (Th)  17 (F)  18 (S)  19 (Sun)  \n",
      "MAY  20 (M)  21 (T)  22 (W)  23 (Th)  24 (F)  25 (S)  26 (Sun)  \n",
      "MAY  27 (M)  28 (T)  29 (W)  30 (Th)  31 (F)  J  1 (S)  2 (Sun)  \n",
      "J  3 (M)  4 (T)  5 (W)  6 (Th)  7 (F)  8 (S)  9 (Sun)  \n",
      "J  10 (M)  11 (T)  12 (W)  13 (Th)  14 (F)  15 (S)  16 (Sun)  \n",
      "J  17 (M)  18 (T)  19 (W)  20 (Th)  21 (F)  22 (S)  23 (Sun)  \n",
      "J  24 (M)  25 (T)  26 (W)  27 (Th)  28 (F)  29 (S)  30 (Sun)  \n",
      "J  JULY  1 (M)  2 (T)  3 (W)  4 (Th)  5 (F)  6 (S)  7 (Sun)  \n",
      "JULY  8 (M)  9 (T)  10 (W)  11 (Th)  12 (F)  13 (S)  14 (Sun)  \n",
      "JULY  15 (M)  16 (T)  17 (W)  18 (Th)  19 (F)  20 (S)  21 (Sun)  \n",
      "JULY  22 (M)  23 (T)  24 (W)  25 (Th)  26 (F)  27 (S)  28 (Sun)  \n",
      "JULY  29 (M)  30 (T)  31 (W)  A  1 (Th)  2 (F)  3 (S)  4 (Sun)  \n",
      "A  5 (M)  6 (T)  7 (W)  8 (Th)  9 (F)  10 (S)  11 (Sun)  \n",
      "A  12 (M)  13 (T)  14 (W)  15 (Th)  16 (F)  17 (S)  18 (Sun)  \n",
      "A  19 (M)  20 (T)  21 (W)  22 (Th)  23 (F)  24 (S)  25 (Sun)  \n",
      "A  26 (M)  27 (T)  28 (W)  29 (Th)  30 (F)  31 (S)  S  1 (Sun)  \n",
      "S  2 (M)  3 (T)  4 (W)  5 (Th)  6 (F)  7 (S)  8 (Sun)  \n",
      "S  9 (M)  10 (T)  11 (W)  12 (Th)  13 (F)  14 (S)  15 (Sun)  \n",
      "S  16 (M)  17 (T)  18 (W)  19 (Th)  20 (F)  21 (S)  22 (Sun)  \n",
      "S  23 (M)  24 (T)  25 (W)  26 (Th)  27 (F)  28 (S)  29 (Sun)  \n",
      "S  30 (M)  O  1 (T)  2 (W)  3 (Th)  4 (F)  5 (S)  6 (Sun)  \n",
      "O  7 (M)  8 (T)  9 (W)  10 (Th)  11 (F)  12 (S)  13 (Sun)  \n",
      "O  14 (M)  15 (T)  16 (W)  17 (Th)  18 (F)  19 (S)  20 (Sun)  \n",
      "O  21 (M)  22 (T)  23 (W)  24 (Th)  25 (F)  26 (S)  27 (Sun)  \n",
      "O  28 (M)  29 (T)  30 (W)  31 (Th)  N  1 (F)  2 (S)  3 (Sun)  \n",
      "N  4 (M)  5 (T)  6 (W)  7 (Th)  8 (F)  9 (S)  10 (Sun)  \n",
      "N  11 (M)  12 (T)  13 (W)  14 (Th)  15 (F)  16 (S)  17 (Sun)  \n",
      "N  18 (M)  19 (T)  20 (W)  21 (Th)  22 (F)  23 (S)  24 (Sun)  \n",
      "N  25 (M)  26 (T)  27 (W)  28 (Th)  29 (F)  30 (S)  D  1 (Sun)  \n",
      "D  2 (M)  3 (T)  4 (W)  5 (Th)  6 (F)  7 (S)  8 (Sun)  \n",
      "D  9 (M)  10 (T)  11 (W)  12 (Th)  13 (F)  14 (S)  15 (Sun)  \n",
      "D  16 (M)  17 (T)  18 (W)  19 (Th)  20 (F)  21 (S)  22 (Sun)  \n",
      "D  23 (M)  24 (T)  25 (W)  26 (Th)  27 (F)  28 (S)  29 (Sun)  \n",
      "D  30 (M)  31 (T)  "
     ]
    }
   ],
   "source": [
    "# create a calendar\n",
    "days = ['M','T','W','Th','F','S','Sun']\n",
    "months = ['J','F','M','A','MAY','J','JULY','A','S','O','N','D']\n",
    "feb = 29\n",
    "dom = [31,feb,31,30,31,30,31,31,30,31,30,31]\n",
    "jj = -1\n",
    "\n",
    "for i,m in enumerate(months):\n",
    "    j0 = jj + 1\n",
    "    print (m, \" \", end=\"\")\n",
    "    for j in range(dom[i]):\n",
    "        \n",
    "        jj = (j + j0) % 7\n",
    "        \n",
    "        print (j+1, \"(%s)  \"%days[(j+j0)%7], end=\"\")\n",
    "        if (j + j0)%7 == 6:\n",
    "            print (\"\")\n",
    "            print (m, \" \", end=\"\")\n"
   ]
  },
  {
   "cell_type": "code",
   "execution_count": 256,
   "metadata": {
    "collapsed": false
   },
   "outputs": [
    {
     "data": {
      "text/plain": [
       "3"
      ]
     },
     "execution_count": 256,
     "metadata": {},
     "output_type": "execute_result"
    }
   ],
   "source": [
    "3%7\n"
   ]
  },
  {
   "cell_type": "code",
   "execution_count": 296,
   "metadata": {
    "collapsed": true
   },
   "outputs": [],
   "source": [
    " a = [1, 4, 9, 16, 25, 36, 49, 64, 81, 100]\n",
    "# Write one line of Python that takes this list a and makes a new list that has only the even elements of this list in it."
   ]
  },
  {
   "cell_type": "code",
   "execution_count": 298,
   "metadata": {
    "collapsed": false
   },
   "outputs": [
    {
     "data": {
      "text/plain": [
       "[4, 16, 36, 64, 100]"
      ]
     },
     "execution_count": 298,
     "metadata": {},
     "output_type": "execute_result"
    }
   ],
   "source": [
    "[aa for aa in a if not aa%2]"
   ]
  },
  {
   "cell_type": "code",
   "execution_count": null,
   "metadata": {
    "collapsed": true
   },
   "outputs": [],
   "source": []
  }
 ],
 "metadata": {
  "kernelspec": {
   "display_name": "Python 2",
   "language": "python",
   "name": "python2"
  },
  "language_info": {
   "codemirror_mode": {
    "name": "ipython",
    "version": 2
   },
   "file_extension": ".py",
   "mimetype": "text/x-python",
   "name": "python",
   "nbconvert_exporter": "python",
   "pygments_lexer": "ipython2",
   "version": "2.7.12"
  }
 },
 "nbformat": 4,
 "nbformat_minor": 0
}
