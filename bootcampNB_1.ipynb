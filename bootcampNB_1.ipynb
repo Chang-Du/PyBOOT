{
 "cells": [
  {
   "cell_type": "markdown",
   "metadata": {
    "run_control": {
     "frozen": false,
     "read_only": false
    },
    "toc": "true"
   },
   "source": [
    "# Table of Contents\n",
    " <p><div class=\"lev1 toc-item\"><a href=\"#Native-variable-types\" data-toc-modified-id=\"Native-variable-types-1\"><span class=\"toc-item-num\">1&nbsp;&nbsp;</span>Native variable types</a></div><div class=\"lev2 toc-item\"><a href=\"#strings,-int,-floats\" data-toc-modified-id=\"strings,-int,-floats-11\"><span class=\"toc-item-num\">1.1&nbsp;&nbsp;</span>strings, int, floats</a></div><div class=\"lev3 toc-item\"><a href=\"#print-formatting\" data-toc-modified-id=\"print-formatting-111\"><span class=\"toc-item-num\">1.1.1&nbsp;&nbsp;</span>print formatting</a></div><div class=\"lev2 toc-item\"><a href=\"#bool\" data-toc-modified-id=\"bool-12\"><span class=\"toc-item-num\">1.2&nbsp;&nbsp;</span>bool</a></div><div class=\"lev3 toc-item\"><a href=\"#if/else-statements-with-bools\" data-toc-modified-id=\"if/else-statements-with-bools-121\"><span class=\"toc-item-num\">1.2.1&nbsp;&nbsp;</span>if/else statements with bools</a></div><div class=\"lev3 toc-item\"><a href=\"#concatenating-bool-statements\" data-toc-modified-id=\"concatenating-bool-statements-122\"><span class=\"toc-item-num\">1.2.2&nbsp;&nbsp;</span>concatenating bool statements</a></div><div class=\"lev3 toc-item\"><a href=\"#math-with-bools\" data-toc-modified-id=\"math-with-bools-123\"><span class=\"toc-item-num\">1.2.3&nbsp;&nbsp;</span>math with bools</a></div><div class=\"lev2 toc-item\"><a href=\"#lists\" data-toc-modified-id=\"lists-13\"><span class=\"toc-item-num\">1.3&nbsp;&nbsp;</span>lists</a></div><div class=\"lev2 toc-item\"><a href=\"#dictionaries\" data-toc-modified-id=\"dictionaries-14\"><span class=\"toc-item-num\">1.4&nbsp;&nbsp;</span>dictionaries</a></div><div class=\"lev1 toc-item\"><a href=\"#IDE-other-than-jupyter-notebooks\" data-toc-modified-id=\"IDE-other-than-jupyter-notebooks-2\"><span class=\"toc-item-num\">2&nbsp;&nbsp;</span>IDE other than jupyter notebooks</a></div><div class=\"lev2 toc-item\"><a href=\"#python\" data-toc-modified-id=\"python-21\"><span class=\"toc-item-num\">2.1&nbsp;&nbsp;</span>python</a></div><div class=\"lev2 toc-item\"><a href=\"#ipython\" data-toc-modified-id=\"ipython-22\"><span class=\"toc-item-num\">2.2&nbsp;&nbsp;</span>ipython</a></div><div class=\"lev2 toc-item\"><a href=\"#execute-python-from-the-shell\" data-toc-modified-id=\"execute-python-from-the-shell-23\"><span class=\"toc-item-num\">2.3&nbsp;&nbsp;</span>execute python from the shell</a></div><div class=\"lev1 toc-item\"><a href=\"#Numpy-types\" data-toc-modified-id=\"Numpy-types-3\"><span class=\"toc-item-num\">3&nbsp;&nbsp;</span>Numpy types</a></div><div class=\"lev1 toc-item\"><a href=\"#numpy-arrays\" data-toc-modified-id=\"numpy-arrays-4\"><span class=\"toc-item-num\">4&nbsp;&nbsp;</span>numpy arrays</a></div>"
   ]
  },
  {
   "cell_type": "code",
   "execution_count": 1,
   "metadata": {
    "ExecuteTime": {
     "end_time": "2017-09-30T08:25:18.638508",
     "start_time": "2017-09-30T08:25:18.633317"
    },
    "collapsed": true,
    "run_control": {
     "frozen": false,
     "read_only": false
    }
   },
   "outputs": [],
   "source": [
    "from __future__ import print_function\n",
    "#importing this to make code python2&3 compatible\n",
    "# overwrites the default print to require parenthesis\n"
   ]
  },
  {
   "cell_type": "code",
   "execution_count": 2,
   "metadata": {
    "ExecuteTime": {
     "end_time": "2017-09-30T08:25:18.666601",
     "start_time": "2017-09-30T08:25:18.644483"
    },
    "collapsed": false,
    "run_control": {
     "frozen": false,
     "read_only": false
    }
   },
   "outputs": [
    {
     "name": "stdout",
     "output_type": "stream",
     "text": [
      "Hallo\n"
     ]
    }
   ],
   "source": [
    "print(\"Hallo\")"
   ]
  },
  {
   "cell_type": "markdown",
   "metadata": {
    "run_control": {
     "frozen": false,
     "read_only": false
    }
   },
   "source": [
    "# Native variable types"
   ]
  },
  {
   "cell_type": "markdown",
   "metadata": {
    "ExecuteTime": {
     "end_time": "2017-09-29T11:42:37.594618",
     "start_time": "2017-09-29T11:42:37.591669"
    },
    "run_control": {
     "frozen": false,
     "read_only": false
    }
   },
   "source": [
    "## strings, int, floats"
   ]
  },
  {
   "cell_type": "code",
   "execution_count": 3,
   "metadata": {
    "ExecuteTime": {
     "end_time": "2017-09-30T08:25:18.744010",
     "start_time": "2017-09-30T08:25:18.706992"
    },
    "collapsed": false,
    "run_control": {
     "frozen": false,
     "read_only": false
    }
   },
   "outputs": [],
   "source": [
    "stringVariable = 'Hello'"
   ]
  },
  {
   "cell_type": "code",
   "execution_count": 4,
   "metadata": {
    "ExecuteTime": {
     "end_time": "2017-09-30T08:25:18.779379",
     "start_time": "2017-09-30T08:25:18.749986"
    },
    "collapsed": false,
    "run_control": {
     "frozen": false,
     "read_only": false
    }
   },
   "outputs": [
    {
     "data": {
      "text/plain": [
       "str"
      ]
     },
     "execution_count": 4,
     "metadata": {},
     "output_type": "execute_result"
    }
   ],
   "source": [
    "type(stringVariable)"
   ]
  },
  {
   "cell_type": "code",
   "execution_count": 5,
   "metadata": {
    "ExecuteTime": {
     "end_time": "2017-09-30T08:25:18.793779",
     "start_time": "2017-09-30T08:25:18.785073"
    },
    "collapsed": false,
    "run_control": {
     "frozen": false,
     "read_only": false
    }
   },
   "outputs": [
    {
     "name": "stdout",
     "output_type": "stream",
     "text": [
      "Hello\n"
     ]
    }
   ],
   "source": [
    "print(stringVariable)"
   ]
  },
  {
   "cell_type": "code",
   "execution_count": 6,
   "metadata": {
    "ExecuteTime": {
     "end_time": "2017-09-30T08:25:18.801715",
     "start_time": "2017-09-30T08:25:18.796649"
    },
    "collapsed": true,
    "run_control": {
     "frozen": false,
     "read_only": false
    }
   },
   "outputs": [],
   "source": [
    "intVariable = 3"
   ]
  },
  {
   "cell_type": "code",
   "execution_count": 7,
   "metadata": {
    "ExecuteTime": {
     "end_time": "2017-09-30T08:25:18.809552",
     "start_time": "2017-09-30T08:25:18.804157"
    },
    "collapsed": false,
    "run_control": {
     "frozen": false,
     "read_only": false
    }
   },
   "outputs": [
    {
     "data": {
      "text/plain": [
       "int"
      ]
     },
     "execution_count": 7,
     "metadata": {},
     "output_type": "execute_result"
    }
   ],
   "source": [
    "type(intVariable)"
   ]
  },
  {
   "cell_type": "code",
   "execution_count": 8,
   "metadata": {
    "ExecuteTime": {
     "end_time": "2017-09-30T08:25:18.824815",
     "start_time": "2017-09-30T08:25:18.817957"
    },
    "collapsed": true,
    "run_control": {
     "frozen": false,
     "read_only": false
    }
   },
   "outputs": [],
   "source": [
    "floatVariable = 3."
   ]
  },
  {
   "cell_type": "code",
   "execution_count": 9,
   "metadata": {
    "ExecuteTime": {
     "end_time": "2017-09-30T08:25:18.835848",
     "start_time": "2017-09-30T08:25:18.827348"
    },
    "collapsed": false,
    "run_control": {
     "frozen": false,
     "read_only": false
    }
   },
   "outputs": [
    {
     "data": {
      "text/plain": [
       "float"
      ]
     },
     "execution_count": 9,
     "metadata": {},
     "output_type": "execute_result"
    }
   ],
   "source": [
    "type(floatVariable)"
   ]
  },
  {
   "cell_type": "markdown",
   "metadata": {
    "run_control": {
     "frozen": false,
     "read_only": false
    }
   },
   "source": [
    "### print formatting"
   ]
  },
  {
   "cell_type": "code",
   "execution_count": 10,
   "metadata": {
    "ExecuteTime": {
     "end_time": "2017-09-30T08:25:18.855267",
     "start_time": "2017-09-30T08:25:18.847321"
    },
    "collapsed": false,
    "run_control": {
     "frozen": false,
     "read_only": false
    }
   },
   "outputs": [
    {
     "name": "stdout",
     "output_type": "stream",
     "text": [
      "A string test,\n",
      "a number converted to a string 103.3\n",
      "strings wiht 100\n",
      "a float as a string, w set number of digits 3.000\n"
     ]
    }
   ],
   "source": [
    "print('A string %s,\\na number converted to a string %s\\n'%('test', 103.3) + \n",
    "      'strings wiht %r\\n'%(100) + \n",
    "      \"a float as a string, w set number of digits %.3f\"%(floatVariable))"
   ]
  },
  {
   "cell_type": "code",
   "execution_count": 11,
   "metadata": {
    "ExecuteTime": {
     "end_time": "2017-09-30T08:25:18.922783",
     "start_time": "2017-09-30T08:25:18.903696"
    },
    "collapsed": false,
    "run_control": {
     "frozen": false,
     "read_only": false
    }
   },
   "outputs": [
    {
     "name": "stdout",
     "output_type": "stream",
     "text": [
      "A string \"I'm A String!\",\n",
      "a number converted to string 103.3,\n",
      "the 1st string again \"I'm A String!\"\n",
      "a float as a string, w set number of digits 3.000\n"
     ]
    }
   ],
   "source": [
    "print('A string {s},\\na number converted to string {f:.1f},\\nthe 1st string again {s}\\n'\\\n",
    "      .format(s='''\"I'm A String!\"''', f=103.3) + \n",
    "      \"a float as a string, w set number of digits {1:.3f}\".format(stringVariable, \n",
    "                                                                   floatVariable))"
   ]
  },
  {
   "cell_type": "markdown",
   "metadata": {
    "run_control": {
     "frozen": false,
     "read_only": false
    }
   },
   "source": [
    "## bool"
   ]
  },
  {
   "cell_type": "code",
   "execution_count": 12,
   "metadata": {
    "ExecuteTime": {
     "end_time": "2017-09-30T08:25:18.942453",
     "start_time": "2017-09-30T08:25:18.934629"
    },
    "collapsed": false,
    "run_control": {
     "frozen": false,
     "read_only": false
    }
   },
   "outputs": [],
   "source": [
    "boolVar = True"
   ]
  },
  {
   "cell_type": "code",
   "execution_count": 13,
   "metadata": {
    "ExecuteTime": {
     "end_time": "2017-09-30T08:25:18.964296",
     "start_time": "2017-09-30T08:25:18.952668"
    },
    "collapsed": false,
    "run_control": {
     "frozen": false,
     "read_only": false
    }
   },
   "outputs": [
    {
     "data": {
      "text/plain": [
       "bool"
      ]
     },
     "execution_count": 13,
     "metadata": {},
     "output_type": "execute_result"
    }
   ],
   "source": [
    "type(boolVar)"
   ]
  },
  {
   "cell_type": "markdown",
   "metadata": {
    "run_control": {
     "frozen": false,
     "read_only": false
    }
   },
   "source": [
    "### if/else statements with bools"
   ]
  },
  {
   "cell_type": "markdown",
   "metadata": {
    "run_control": {
     "frozen": false,
     "read_only": false
    }
   },
   "source": [
    "** Boolean types are design to verify statements: **\n",
    "they take either True or False value\n",
    "in Python True is 1, False us 0\n",
    "operators like \"==\", \"<\", \">=\", or \"is\", \"in\"... return booleans: True or False\n",
    "the \"if\", \"elif\", \"else\", as well as \"while\" statements uses booleans to make decision\n",
    "a program can behave differently depending on the bool value\n"
   ]
  },
  {
   "cell_type": "code",
   "execution_count": 14,
   "metadata": {
    "ExecuteTime": {
     "end_time": "2017-09-30T08:25:18.979987",
     "start_time": "2017-09-30T08:25:18.971015"
    },
    "collapsed": false,
    "run_control": {
     "frozen": false,
     "read_only": false
    }
   },
   "outputs": [],
   "source": [
    "if not ((type(floatVariable) == float)):\n",
    "    print (\"yes\")"
   ]
  },
  {
   "cell_type": "markdown",
   "metadata": {
    "run_control": {
     "frozen": false,
     "read_only": false
    }
   },
   "source": [
    "\n",
    "in Python booleans map to integers: True=1 False=0\n",
    "so \"if 0\" is equivalent to \"if False\"\n",
    "\n",
    "\"if 1\" is equivalent to \"if True\"\n",
    "\n",
    "and in fact an if statement is verified for every condition returning anything but 0"
   ]
  },
  {
   "cell_type": "code",
   "execution_count": 15,
   "metadata": {
    "ExecuteTime": {
     "end_time": "2017-09-30T08:25:18.991103",
     "start_time": "2017-09-30T08:25:18.983436"
    },
    "collapsed": false,
    "run_control": {
     "frozen": false,
     "read_only": false
    }
   },
   "outputs": [
    {
     "name": "stdout",
     "output_type": "stream",
     "text": [
      "yes\n"
     ]
    }
   ],
   "source": [
    "if 1: \n",
    "    print(\"yes\")\n",
    "else:\n",
    "    print(\"no\")"
   ]
  },
  {
   "cell_type": "code",
   "execution_count": 16,
   "metadata": {
    "ExecuteTime": {
     "end_time": "2017-09-30T08:25:19.027679",
     "start_time": "2017-09-30T08:25:18.998175"
    },
    "collapsed": false,
    "run_control": {
     "frozen": false,
     "read_only": false
    }
   },
   "outputs": [
    {
     "name": "stdout",
     "output_type": "stream",
     "text": [
      "no\n"
     ]
    }
   ],
   "source": [
    "if 0: \n",
    "    print(\"yes\")\n",
    "else:\n",
    "    print(\"no\")"
   ]
  },
  {
   "cell_type": "code",
   "execution_count": 17,
   "metadata": {
    "ExecuteTime": {
     "end_time": "2017-09-30T08:25:19.058998",
     "start_time": "2017-09-30T08:25:19.049733"
    },
    "collapsed": false,
    "run_control": {
     "frozen": false,
     "read_only": false
    }
   },
   "outputs": [
    {
     "name": "stdout",
     "output_type": "stream",
     "text": [
      "yes\n"
     ]
    }
   ],
   "source": [
    "if 2: \n",
    "    print(\"yes\")\n",
    "else:\n",
    "    print(\"no\")"
   ]
  },
  {
   "cell_type": "code",
   "execution_count": 18,
   "metadata": {
    "ExecuteTime": {
     "end_time": "2017-09-30T08:25:19.089277",
     "start_time": "2017-09-30T08:25:19.071104"
    },
    "collapsed": false,
    "run_control": {
     "frozen": false,
     "read_only": false
    }
   },
   "outputs": [
    {
     "name": "stdout",
     "output_type": "stream",
     "text": [
      "yes\n"
     ]
    }
   ],
   "source": [
    "if -1: \n",
    "    print(\"yes\")\n",
    "else:\n",
    "    print(\"no\")"
   ]
  },
  {
   "cell_type": "markdown",
   "metadata": {
    "run_control": {
     "frozen": false,
     "read_only": false
    }
   },
   "source": [
    "### concatenating bool statements"
   ]
  },
  {
   "cell_type": "markdown",
   "metadata": {
    "run_control": {
     "frozen": false,
     "read_only": false
    }
   },
   "source": [
    "** Conditions can be concatenated with the 'and' and 'or' operators (though occasionally you will need '&' and 'I' instead...)**\n",
    "\n"
   ]
  },
  {
   "cell_type": "code",
   "execution_count": 19,
   "metadata": {
    "ExecuteTime": {
     "end_time": "2017-09-30T08:25:19.115083",
     "start_time": "2017-09-30T08:25:19.100432"
    },
    "collapsed": false,
    "run_control": {
     "frozen": false,
     "read_only": false
    }
   },
   "outputs": [
    {
     "name": "stdout",
     "output_type": "stream",
     "text": [
      "yes\n",
      "no\n",
      "yes\n"
     ]
    }
   ],
   "source": [
    "if floatVariable > 0 and floatVariable < 5:\n",
    "    print(\"yes\")\n",
    "else:\n",
    "    print(\"no\")\n",
    "    \n",
    "if floatVariable > 0 and floatVariable < 3:\n",
    "    print(\"yes\")\n",
    "else:\n",
    "    print(\"no\")\n",
    "    \n",
    "if floatVariable > 0 or floatVariable < 3:\n",
    "    print(\"yes\")\n",
    "else:\n",
    "    print(\"no\")"
   ]
  },
  {
   "cell_type": "markdown",
   "metadata": {
    "run_control": {
     "frozen": false,
     "read_only": false
    }
   },
   "source": [
    "### math with bools\n",
    "\n",
    "Because they map to integer you can make math with booleans, then 'or'->+ , 'and'->\\*  \n",
    "(think about it: \n",
    "\n",
    "0\\*anything is 0, \n",
    "\n",
    "and the if statement is verified anytimes the condition is not 0, so if any of the condition returns True, 1, the sum of the conditions will be  > 0\n"
   ]
  },
  {
   "cell_type": "code",
   "execution_count": 20,
   "metadata": {
    "ExecuteTime": {
     "end_time": "2017-09-30T08:25:19.140365",
     "start_time": "2017-09-30T08:25:19.127949"
    },
    "collapsed": false,
    "run_control": {
     "frozen": false,
     "read_only": false
    }
   },
   "outputs": [
    {
     "name": "stdout",
     "output_type": "stream",
     "text": [
      "yes\n",
      "no\n",
      "yes\n"
     ]
    }
   ],
   "source": [
    "if (floatVariable > 0) * (floatVariable < 5):\n",
    "    print(\"yes\")\n",
    "else:\n",
    "    print(\"no\")\n",
    "\n",
    "if (floatVariable > 0) * (floatVariable < 3):\n",
    "    print(\"yes\")\n",
    "else:\n",
    "    print(\"no\")\n",
    "\n",
    "if (floatVariable > 0) + (floatVariable < 3):\n",
    "    print(\"yes\")\n",
    "else:\n",
    "    print(\"no\")"
   ]
  },
  {
   "cell_type": "markdown",
   "metadata": {
    "run_control": {
     "frozen": false,
     "read_only": false
    }
   },
   "source": [
    "## lists"
   ]
  },
  {
   "cell_type": "markdown",
   "metadata": {
    "ExecuteTime": {
     "end_time": "2017-09-29T11:57:55.616690",
     "start_time": "2017-09-29T11:57:55.612477"
    },
    "run_control": {
     "frozen": false,
     "read_only": false
    }
   },
   "source": [
    "some variable types are designed to collect multiple numbers, or multiple strings, or multiple object\n",
    "\n",
    "lists can have heterogeneous content"
   ]
  },
  {
   "cell_type": "markdown",
   "metadata": {
    "ExecuteTime": {
     "end_time": "2017-09-30T08:25:19.153203",
     "start_time": "2017-09-30T08:25:19.144750"
    },
    "collapsed": false,
    "run_control": {
     "frozen": false,
     "read_only": false
    }
   },
   "source": [
    "myList = [0, 1, 3, \"hello\", 3.3]\n",
    "myList"
   ]
  },
  {
   "cell_type": "code",
   "execution_count": 22,
   "metadata": {
    "ExecuteTime": {
     "end_time": "2017-09-30T08:25:19.175476",
     "start_time": "2017-09-30T08:25:19.167034"
    },
    "collapsed": false,
    "run_control": {
     "frozen": false,
     "read_only": false
    }
   },
   "outputs": [
    {
     "data": {
      "text/plain": [
       "[0, 1, 3, 'hello', 3.3, [0, 2, 3.3]]"
      ]
     },
     "execution_count": 22,
     "metadata": {},
     "output_type": "execute_result"
    }
   ],
   "source": [
    "myNestedList =  [0, 1, 3, \"hello\", 3.3, [0, 2, 3.3]]\n",
    "myNestedList"
   ]
  },
  {
   "cell_type": "markdown",
   "metadata": {
    "ExecuteTime": {
     "end_time": "2017-09-29T11:58:15.659828",
     "start_time": "2017-09-29T11:58:15.653870"
    },
    "run_control": {
     "frozen": false,
     "read_only": false
    }
   },
   "source": [
    "strings are actually very similar to lists!"
   ]
  },
  {
   "cell_type": "code",
   "execution_count": 23,
   "metadata": {
    "ExecuteTime": {
     "end_time": "2017-09-30T08:25:20.099278",
     "start_time": "2017-09-30T08:25:20.093693"
    },
    "collapsed": false,
    "run_control": {
     "frozen": false,
     "read_only": false
    }
   },
   "outputs": [
    {
     "data": {
      "text/plain": [
       "'abddef'"
      ]
     },
     "execution_count": 23,
     "metadata": {},
     "output_type": "execute_result"
    }
   ],
   "source": [
    "#e.g. I can add them as lists:\n",
    "'abd' + 'def'"
   ]
  },
  {
   "cell_type": "markdown",
   "metadata": {
    "run_control": {
     "frozen": false,
     "read_only": false
    }
   },
   "source": [
    "strings have a lot of useful attributes. \n",
    "Above you saw that you can refer to the characters of a string as elements of a list. \n",
    "\n",
    "strings are actually lists of characters.\n",
    "for example + works the same way: it concatenates strings\n"
   ]
  },
  {
   "cell_type": "code",
   "execution_count": 24,
   "metadata": {
    "ExecuteTime": {
     "end_time": "2017-09-30T08:25:20.879278",
     "start_time": "2017-09-30T08:25:20.873662"
    },
    "collapsed": false,
    "run_control": {
     "frozen": false,
     "read_only": false
    }
   },
   "outputs": [
    {
     "data": {
      "text/plain": [
       "('hello', 'h', 'llo', 'halo')"
      ]
     },
     "execution_count": 24,
     "metadata": {},
     "output_type": "execute_result"
    }
   ],
   "source": [
    "myNestedList[3], myNestedList[3][0], myNestedList[3][2:], \\\n",
    "myNestedList[3][0] + 'a' + myNestedList[3][-2:]"
   ]
  },
  {
   "cell_type": "code",
   "execution_count": 25,
   "metadata": {
    "ExecuteTime": {
     "end_time": "2017-09-30T08:25:20.900793",
     "start_time": "2017-09-30T08:25:20.892075"
    },
    "collapsed": false,
    "run_control": {
     "frozen": false,
     "read_only": false
    }
   },
   "outputs": [
    {
     "data": {
      "text/plain": [
       "('hello', 'hell', 'ello')"
      ]
     },
     "execution_count": 25,
     "metadata": {},
     "output_type": "execute_result"
    }
   ],
   "source": [
    "myNestedList[3].strip('l'), myNestedList[3].strip('o'), myNestedList[3].strip('h')"
   ]
  },
  {
   "cell_type": "code",
   "execution_count": 26,
   "metadata": {
    "ExecuteTime": {
     "end_time": "2017-09-30T08:25:20.920410",
     "start_time": "2017-09-30T08:25:20.912983"
    },
    "collapsed": false,
    "run_control": {
     "frozen": false,
     "read_only": false
    }
   },
   "outputs": [
    {
     "data": {
      "text/plain": [
       "(['he', '', 'o'], ['h', 'llo'], 'hello')"
      ]
     },
     "execution_count": 26,
     "metadata": {},
     "output_type": "execute_result"
    }
   ],
   "source": [
    "myNestedList[3].split('l'), myNestedList[3].split('e'), 'e'.join(myNestedList[3].split('e'))"
   ]
  },
  {
   "cell_type": "code",
   "execution_count": 27,
   "metadata": {
    "ExecuteTime": {
     "end_time": "2017-09-30T08:25:20.931824",
     "start_time": "2017-09-30T08:25:20.925485"
    },
    "collapsed": false,
    "run_control": {
     "frozen": false,
     "read_only": false
    }
   },
   "outputs": [
    {
     "data": {
      "text/plain": [
       "'HELLO'"
      ]
     },
     "execution_count": 27,
     "metadata": {},
     "output_type": "execute_result"
    }
   ],
   "source": [
    "myNestedList[3].upper()"
   ]
  },
  {
   "cell_type": "code",
   "execution_count": 28,
   "metadata": {
    "ExecuteTime": {
     "end_time": "2017-09-30T08:25:20.945959",
     "start_time": "2017-09-30T08:25:20.938510"
    },
    "collapsed": false,
    "run_control": {
     "frozen": false,
     "read_only": false
    }
   },
   "outputs": [
    {
     "data": {
      "text/plain": [
       "'hello'"
      ]
     },
     "execution_count": 28,
     "metadata": {},
     "output_type": "execute_result"
    }
   ],
   "source": [
    "'Hello'.lower()"
   ]
  },
  {
   "cell_type": "code",
   "execution_count": 29,
   "metadata": {
    "ExecuteTime": {
     "end_time": "2017-09-30T08:25:21.013399",
     "start_time": "2017-09-30T08:25:21.000371"
    },
    "collapsed": false,
    "run_control": {
     "frozen": false,
     "read_only": false
    }
   },
   "outputs": [
    {
     "data": {
      "text/plain": [
       "'halo'"
      ]
     },
     "execution_count": 29,
     "metadata": {},
     "output_type": "execute_result"
    }
   ],
   "source": [
    "'Hello'.replace('Hel','ha')"
   ]
  },
  {
   "cell_type": "markdown",
   "metadata": {
    "run_control": {
     "frozen": false,
     "read_only": false
    }
   },
   "source": [
    "**in the cell below I use a number of string attributes:**\n",
    "-join\n",
    "-strip\n",
    "-split\n",
    "-replace\n",
    "\n",
    "look them up with the ?,e.g. ''.join?, and eviscerate the line of code below!"
   ]
  },
  {
   "cell_type": "code",
   "execution_count": 30,
   "metadata": {
    "ExecuteTime": {
     "end_time": "2017-09-30T08:25:21.504035",
     "start_time": "2017-09-30T08:25:21.498071"
    },
    "collapsed": false,
    "run_control": {
     "frozen": false,
     "read_only": false
    }
   },
   "outputs": [
    {
     "data": {
      "text/plain": [
       "'The fox eats the mouse'"
      ]
     },
     "execution_count": 30,
     "metadata": {},
     "output_type": "execute_result"
    }
   ],
   "source": [
    "' '.join('The fox eats the rabbit '.strip().split(' ')).replace('rabbit', 'mouse')"
   ]
  },
  {
   "cell_type": "markdown",
   "metadata": {
    "run_control": {
     "frozen": false,
     "read_only": false
    }
   },
   "source": [
    "however lists are \"immutables\" (tuples are also immutable types)"
   ]
  },
  {
   "cell_type": "code",
   "execution_count": 31,
   "metadata": {
    "ExecuteTime": {
     "end_time": "2017-09-30T08:25:22.027241",
     "start_time": "2017-09-30T08:25:21.913703"
    },
    "collapsed": false,
    "run_control": {
     "frozen": false,
     "read_only": false
    }
   },
   "outputs": [
    {
     "ename": "TypeError",
     "evalue": "'str' object does not support item assignment",
     "output_type": "error",
     "traceback": [
      "\u001b[0;31m---------------------------------------------------------------------------\u001b[0m",
      "\u001b[0;31mTypeError\u001b[0m                                 Traceback (most recent call last)",
      "\u001b[0;32m<ipython-input-31-0abf7fb37a5e>\u001b[0m in \u001b[0;36m<module>\u001b[0;34m()\u001b[0m\n\u001b[0;32m----> 1\u001b[0;31m \u001b[0mstringVariable\u001b[0m\u001b[0;34m[\u001b[0m\u001b[0;36m2\u001b[0m\u001b[0;34m]\u001b[0m \u001b[0;34m=\u001b[0m \u001b[0;34m'a'\u001b[0m\u001b[0;34m\u001b[0m\u001b[0m\n\u001b[0m",
      "\u001b[0;31mTypeError\u001b[0m: 'str' object does not support item assignment"
     ]
    }
   ],
   "source": [
    "stringVariable[2] = 'a'"
   ]
  },
  {
   "cell_type": "markdown",
   "metadata": {
    "run_control": {
     "frozen": false,
     "read_only": false
    }
   },
   "source": [
    "## dictionaries\n",
    "dictionaries collect key-value pairs: they are container that allow you to give a name to the objects inside. They allow the collection of heterogeneous objects and naturally allow nested structures"
   ]
  },
  {
   "cell_type": "code",
   "execution_count": 32,
   "metadata": {
    "ExecuteTime": {
     "end_time": "2017-09-30T08:25:22.337547",
     "start_time": "2017-09-30T08:25:22.323728"
    },
    "collapsed": false,
    "run_control": {
     "frozen": false,
     "read_only": false
    }
   },
   "outputs": [
    {
     "data": {
      "text/plain": [
       "{'keyDict': {'nested1': 0.1, 'nested2': {}},\n",
       " 'keyFloat': 0.3,\n",
       " 'keyInt': 0,\n",
       " 'keyString': \"I'm a string\"}"
      ]
     },
     "execution_count": 32,
     "metadata": {},
     "output_type": "execute_result"
    }
   ],
   "source": [
    "dictVariable = {'keyInt': 0,\n",
    "               'keyFloat': 0.3,\n",
    "               'keyString': \"I'm a string\",\n",
    "               'keyDict': {}}\n",
    "dictVariable['keyDict']['nested1'] = 0.1\n",
    "dictVariable['keyDict']['nested2'] = {}\n",
    "\n",
    "dictVariable"
   ]
  },
  {
   "cell_type": "markdown",
   "metadata": {
    "ExecuteTime": {
     "end_time": "2017-09-29T12:12:00.581092",
     "start_time": "2017-09-29T12:12:00.576617"
    },
    "run_control": {
     "frozen": false,
     "read_only": false
    }
   },
   "source": [
    "# IDE other than jupyter notebooks\n",
    "## python\n",
    "## ipython\n",
    "## execute python from the shell\n",
    " "
   ]
  },
  {
   "cell_type": "markdown",
   "metadata": {
    "run_control": {
     "frozen": false,
     "read_only": false
    }
   },
   "source": [
    "** EXERCISE: **\n",
    "[instructions](https://github.com/fedhere/PyBOOT/blob/master/printGoodmorningGoodAfternoon_instructions.py)\n",
    "\n",
    "    write a script that prints to standard output \"Good Morning <Name>\" if before 1PM\n",
    "    prints to standard output \"Good Afternoon <Name>\" if after 1PM\n",
    "    where <Name> is the user name input intline\n",
    "    \n",
    "    if you can: make sure it works with both python 2 and 3\n",
    "    hints: \n",
    "    - you can use raw_input/input to accept arguments upon request.\n",
    "    - you can use the datetime package to check the time of the day\n",
    "    - you can use try/except if you come across functions that work differently in python2 vs python3\n"
   ]
  },
  {
   "cell_type": "markdown",
   "metadata": {
    "run_control": {
     "frozen": false,
     "read_only": false
    }
   },
   "source": [
    "# Numpy types \n",
    "Those were all native python types. Other modules may define other variable types"
   ]
  },
  {
   "cell_type": "code",
   "execution_count": 33,
   "metadata": {
    "ExecuteTime": {
     "end_time": "2017-09-30T08:25:24.072723",
     "start_time": "2017-09-30T08:25:23.642004"
    },
    "collapsed": true,
    "run_control": {
     "frozen": false,
     "read_only": false
    }
   },
   "outputs": [],
   "source": [
    "import numpy as np"
   ]
  },
  {
   "cell_type": "code",
   "execution_count": 34,
   "metadata": {
    "ExecuteTime": {
     "end_time": "2017-09-30T08:25:24.080608",
     "start_time": "2017-09-30T08:25:24.074580"
    },
    "collapsed": true,
    "run_control": {
     "frozen": false,
     "read_only": false
    }
   },
   "outputs": [],
   "source": [
    "a = 3 "
   ]
  },
  {
   "cell_type": "code",
   "execution_count": 35,
   "metadata": {
    "ExecuteTime": {
     "end_time": "2017-09-30T08:25:24.090027",
     "start_time": "2017-09-30T08:25:24.082871"
    },
    "collapsed": false,
    "run_control": {
     "frozen": false,
     "read_only": false
    }
   },
   "outputs": [
    {
     "data": {
      "text/plain": [
       "int"
      ]
     },
     "execution_count": 35,
     "metadata": {},
     "output_type": "execute_result"
    }
   ],
   "source": [
    "type(a)"
   ]
  },
  {
   "cell_type": "markdown",
   "metadata": {
    "collapsed": true,
    "run_control": {
     "frozen": false,
     "read_only": false
    }
   },
   "source": [
    "** numpy types have predefined number of bites to store the variable. **\n",
    "The largest and smallest number you can store in a variable is limited by the number of bites used for that variable\n",
    "\n",
    "For default python variables python chooses the number of bits according to the system (the computer its running on)\n",
    "\n",
    " That is why it is important to specify what your code is developed and tested on!"
   ]
  },
  {
   "cell_type": "code",
   "execution_count": 36,
   "metadata": {
    "ExecuteTime": {
     "end_time": "2017-09-30T08:25:24.103461",
     "start_time": "2017-09-30T08:25:24.094013"
    },
    "collapsed": false,
    "run_control": {
     "frozen": false,
     "read_only": false
    }
   },
   "outputs": [],
   "source": [
    "a = np.int16(3)"
   ]
  },
  {
   "cell_type": "code",
   "execution_count": 37,
   "metadata": {
    "ExecuteTime": {
     "end_time": "2017-09-30T08:25:24.133354",
     "start_time": "2017-09-30T08:25:24.109448"
    },
    "collapsed": false,
    "run_control": {
     "frozen": false,
     "read_only": false
    }
   },
   "outputs": [
    {
     "data": {
      "text/plain": [
       "dtype('int16')"
      ]
     },
     "execution_count": 37,
     "metadata": {},
     "output_type": "execute_result"
    }
   ],
   "source": [
    "a.dtype"
   ]
  },
  {
   "cell_type": "markdown",
   "metadata": {
    "run_control": {
     "frozen": false,
     "read_only": false
    }
   },
   "source": [
    "the largest signed integer you can write in 8 bits is 127, the smallest -128. That's (2^8) / 2 - 1 \n",
    "\n",
    "/2 is because you they are signed integers, and one bit is reserved for the sign. \n",
    "\n",
    "-1 because you start from 0\n",
    "\n",
    "The largest UNsigned int is 256\n",
    "\n",
    "Note that there will be no error returned if you try to write a number that is too large!"
   ]
  },
  {
   "cell_type": "code",
   "execution_count": 38,
   "metadata": {
    "ExecuteTime": {
     "end_time": "2017-09-30T08:25:24.459421",
     "start_time": "2017-09-30T08:25:24.455411"
    },
    "collapsed": false,
    "run_control": {
     "frozen": false,
     "read_only": false
    }
   },
   "outputs": [
    {
     "name": "stdout",
     "output_type": "stream",
     "text": [
      "10\n",
      "100\n",
      "127\n",
      "-128\n"
     ]
    }
   ],
   "source": [
    "print(np.int8(10))\n",
    "print(np.int8(100))\n",
    "print(np.int8(127))\n",
    "print(np.int8(128))"
   ]
  },
  {
   "cell_type": "markdown",
   "metadata": {
    "collapsed": false,
    "run_control": {
     "frozen": false,
     "read_only": false
    }
   },
   "source": [
    "max int32 is 2147483646 (2^32)/2-2"
   ]
  },
  {
   "cell_type": "code",
   "execution_count": 39,
   "metadata": {
    "ExecuteTime": {
     "end_time": "2017-09-30T08:25:24.790573",
     "start_time": "2017-09-30T08:25:24.783062"
    },
    "collapsed": false,
    "run_control": {
     "frozen": false,
     "read_only": false
    }
   },
   "outputs": [
    {
     "name": "stdout",
     "output_type": "stream",
     "text": [
      "2147483638\n",
      "2147483647\n",
      "-2147483648\n"
     ]
    }
   ],
   "source": [
    "a = np.int32(2147483638)\n",
    "print(a)\n",
    "a = np.int32(2147483647)\n",
    "print(a)\n",
    "a = np.int32(2147483648)\n",
    "print(a)\n"
   ]
  },
  {
   "cell_type": "markdown",
   "metadata": {
    "run_control": {
     "frozen": false,
     "read_only": false
    }
   },
   "source": [
    "# numpy arrays \n",
    "_must have objects all of the same type inside_, and they will recast the type (to the most complext type in the series) when needed"
   ]
  },
  {
   "cell_type": "code",
   "execution_count": 40,
   "metadata": {
    "ExecuteTime": {
     "end_time": "2017-09-30T08:25:25.124439",
     "start_time": "2017-09-30T08:25:25.116672"
    },
    "collapsed": false,
    "run_control": {
     "frozen": false,
     "read_only": false
    }
   },
   "outputs": [
    {
     "name": "stdout",
     "output_type": "stream",
     "text": [
      "[ 3.  3.  3.  4.]\n"
     ]
    }
   ],
   "source": [
    "myArray = np.array([intVariable, floatVariable, 3 , 4. ])\n",
    "# the integers are converted to float\n",
    "\n",
    "print (myArray)"
   ]
  },
  {
   "cell_type": "code",
   "execution_count": 41,
   "metadata": {
    "ExecuteTime": {
     "end_time": "2017-09-30T08:25:25.136461",
     "start_time": "2017-09-30T08:25:25.129312"
    },
    "collapsed": false,
    "run_control": {
     "frozen": false,
     "read_only": false
    }
   },
   "outputs": [
    {
     "name": "stdout",
     "output_type": "stream",
     "text": [
      "<type 'int'>\n",
      "<type 'numpy.float64'>\n",
      "<type 'numpy.float64'>\n"
     ]
    }
   ],
   "source": [
    "print(type(intVariable)) \n",
    "print(type(myArray[0]))\n",
    "print(type(myArray[1]))"
   ]
  },
  {
   "cell_type": "markdown",
   "metadata": {
    "run_control": {
     "frozen": false,
     "read_only": false
    }
   },
   "source": [
    "integers are converted to float so that all objects in the array are of the same type (and python recast the simpler type integer to the more complex type float, not viceversa)\n",
    "\n",
    "also you saw that how to refer to an element of a list or array: [i] indicates the i-th element of a list/array/tuple..."
   ]
  },
  {
   "cell_type": "code",
   "execution_count": 42,
   "metadata": {
    "ExecuteTime": {
     "end_time": "2017-09-30T08:25:25.619124",
     "start_time": "2017-09-30T08:25:25.610335"
    },
    "collapsed": false,
    "run_control": {
     "frozen": false,
     "read_only": false
    }
   },
   "outputs": [
    {
     "data": {
      "text/plain": [
       "array(['0', '1', '3', 'hello', '3.3'], \n",
       "      dtype='|S21')"
      ]
     },
     "execution_count": 42,
     "metadata": {},
     "output_type": "execute_result"
    }
   ],
   "source": [
    "myArrayStr = np.array(myList)\n",
    "myArrayStr"
   ]
  },
  {
   "cell_type": "markdown",
   "metadata": {
    "run_control": {
     "frozen": false,
     "read_only": false
    }
   },
   "source": [
    "all the numbers in myList are converted to strings if I make an array out of that list."
   ]
  }
 ],
 "metadata": {
  "anaconda-cloud": {},
  "kernelspec": {
   "display_name": "Python [default]",
   "language": "python",
   "name": "python2"
  },
  "language_info": {
   "codemirror_mode": {
    "name": "ipython",
    "version": 2
   },
   "file_extension": ".py",
   "mimetype": "text/x-python",
   "name": "python",
   "nbconvert_exporter": "python",
   "pygments_lexer": "ipython2",
   "version": "2.7.12"
  },
  "latex_envs": {
   "LaTeX_envs_menu_present": true,
   "bibliofile": "biblio.bib",
   "cite_by": "apalike",
   "current_citInitial": 1,
   "eqLabelWithNumbers": true,
   "eqNumInitial": 1,
   "hotkeys": {
    "equation": "Ctrl-E",
    "itemize": "Ctrl-I"
   },
   "labels_anchors": false,
   "latex_user_defs": false,
   "report_style_numbering": false,
   "user_envs_cfg": false
  },
  "toc": {
   "colors": {
    "hover_highlight": "#DAA520",
    "running_highlight": "#FF0000",
    "selected_highlight": "#FFD700"
   },
   "moveMenuLeft": true,
   "nav_menu": {
    "height": "426px",
    "width": "252px"
   },
   "navigate_menu": true,
   "number_sections": true,
   "sideBar": true,
   "threshold": 4,
   "toc_cell": true,
   "toc_section_display": "block",
   "toc_window_display": true
  }
 },
 "nbformat": 4,
 "nbformat_minor": 0
}
