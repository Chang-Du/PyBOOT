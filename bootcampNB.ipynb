{
 "cells": [
  {
   "cell_type": "markdown",
   "metadata": {
    "run_control": {
     "frozen": false,
     "read_only": false
    },
    "toc": "true"
   },
   "source": [
    "# Table of Contents\n",
    " <p><div class=\"lev1 toc-item\"><a href=\"#Native-variable-types\" data-toc-modified-id=\"Native-variable-types-1\"><span class=\"toc-item-num\">1&nbsp;&nbsp;</span>Native variable types</a></div><div class=\"lev2 toc-item\"><a href=\"#strings,-int,-floats\" data-toc-modified-id=\"strings,-int,-floats-11\"><span class=\"toc-item-num\">1.1&nbsp;&nbsp;</span>strings, int, floats</a></div><div class=\"lev3 toc-item\"><a href=\"#print-formatting\" data-toc-modified-id=\"print-formatting-111\"><span class=\"toc-item-num\">1.1.1&nbsp;&nbsp;</span>print formatting</a></div><div class=\"lev2 toc-item\"><a href=\"#bool\" data-toc-modified-id=\"bool-12\"><span class=\"toc-item-num\">1.2&nbsp;&nbsp;</span>bool</a></div><div class=\"lev3 toc-item\"><a href=\"#if/else-statements-with-bools\" data-toc-modified-id=\"if/else-statements-with-bools-121\"><span class=\"toc-item-num\">1.2.1&nbsp;&nbsp;</span>if/else statements with bools</a></div><div class=\"lev3 toc-item\"><a href=\"#concatenating-bool-statements\" data-toc-modified-id=\"concatenating-bool-statements-122\"><span class=\"toc-item-num\">1.2.2&nbsp;&nbsp;</span>concatenating bool statements</a></div><div class=\"lev3 toc-item\"><a href=\"#math-with-bools\" data-toc-modified-id=\"math-with-bools-123\"><span class=\"toc-item-num\">1.2.3&nbsp;&nbsp;</span>math with bools</a></div><div class=\"lev2 toc-item\"><a href=\"#lists\" data-toc-modified-id=\"lists-13\"><span class=\"toc-item-num\">1.3&nbsp;&nbsp;</span>lists</a></div><div class=\"lev2 toc-item\"><a href=\"#dictionaries\" data-toc-modified-id=\"dictionaries-14\"><span class=\"toc-item-num\">1.4&nbsp;&nbsp;</span>dictionaries</a></div><div class=\"lev1 toc-item\"><a href=\"#IDE-other-than-jupyter-notebooks\" data-toc-modified-id=\"IDE-other-than-jupyter-notebooks-2\"><span class=\"toc-item-num\">2&nbsp;&nbsp;</span>IDE other than jupyter notebooks</a></div><div class=\"lev2 toc-item\"><a href=\"#python\" data-toc-modified-id=\"python-21\"><span class=\"toc-item-num\">2.1&nbsp;&nbsp;</span>python</a></div><div class=\"lev2 toc-item\"><a href=\"#ipython\" data-toc-modified-id=\"ipython-22\"><span class=\"toc-item-num\">2.2&nbsp;&nbsp;</span>ipython</a></div><div class=\"lev2 toc-item\"><a href=\"#execute-python-from-the-shell\" data-toc-modified-id=\"execute-python-from-the-shell-23\"><span class=\"toc-item-num\">2.3&nbsp;&nbsp;</span>execute python from the shell</a></div><div class=\"lev1 toc-item\"><a href=\"#Numpy-types\" data-toc-modified-id=\"Numpy-types-3\"><span class=\"toc-item-num\">3&nbsp;&nbsp;</span>Numpy types</a></div><div class=\"lev1 toc-item\"><a href=\"#numpy-arrays\" data-toc-modified-id=\"numpy-arrays-4\"><span class=\"toc-item-num\">4&nbsp;&nbsp;</span>numpy arrays</a></div><div class=\"lev1 toc-item\"><a href=\"#PART-2:-Slicing,-Broadcasting,-and-math-operators-on-arrays-and-lists\" data-toc-modified-id=\"PART-2:-Slicing,-Broadcasting,-and-math-operators-on-arrays-and-lists-5\"><span class=\"toc-item-num\">5&nbsp;&nbsp;</span>PART 2: Slicing, Broadcasting, and math operators on arrays and lists</a></div><div class=\"lev2 toc-item\"><a href=\"#operations-with-arrays\" data-toc-modified-id=\"operations-with-arrays-51\"><span class=\"toc-item-num\">5.1&nbsp;&nbsp;</span>operations with arrays</a></div><div class=\"lev2 toc-item\"><a href=\"#slicing\" data-toc-modified-id=\"slicing-52\"><span class=\"toc-item-num\">5.2&nbsp;&nbsp;</span>slicing</a></div><div class=\"lev1 toc-item\"><a href=\"#PART-3:-Functions\" data-toc-modified-id=\"PART-3:-Functions-6\"><span class=\"toc-item-num\">6&nbsp;&nbsp;</span>PART 3: Functions</a></div><div class=\"lev1 toc-item\"><a href=\"#file-IO\" data-toc-modified-id=\"file-IO-7\"><span class=\"toc-item-num\">7&nbsp;&nbsp;</span>file IO</a></div><div class=\"lev1 toc-item\"><a href=\"#PART-4:-multi-dimensional-arrays\" data-toc-modified-id=\"PART-4:-multi-dimensional-arrays-8\"><span class=\"toc-item-num\">8&nbsp;&nbsp;</span>PART 4: multi dimensional arrays</a></div><div class=\"lev1 toc-item\"><a href=\"#Part-5:--iterators---for-loops,-enumerate,-and-list-comprehensions\" data-toc-modified-id=\"Part-5:--iterators---for-loops,-enumerate,-and-list-comprehensions-9\"><span class=\"toc-item-num\">9&nbsp;&nbsp;</span>Part 5:  iterators - for loops, enumerate, and list comprehensions</a></div><div class=\"lev2 toc-item\"><a href=\"#for-loops\" data-toc-modified-id=\"for-loops-91\"><span class=\"toc-item-num\">9.1&nbsp;&nbsp;</span>for loops</a></div><div class=\"lev2 toc-item\"><a href=\"#enumerate\" data-toc-modified-id=\"enumerate-92\"><span class=\"toc-item-num\">9.2&nbsp;&nbsp;</span>enumerate</a></div><div class=\"lev2 toc-item\"><a href=\"#list-comprehension\" data-toc-modified-id=\"list-comprehension-93\"><span class=\"toc-item-num\">9.3&nbsp;&nbsp;</span>list comprehension</a></div><div class=\"lev1 toc-item\"><a href=\"#PART-6:-matplotlib\" data-toc-modified-id=\"PART-6:-matplotlib-10\"><span class=\"toc-item-num\">10&nbsp;&nbsp;</span>PART 6: matplotlib</a></div><div class=\"lev2 toc-item\"><a href=\"#setting-up-pylab-plotting\" data-toc-modified-id=\"setting-up-pylab-plotting-101\"><span class=\"toc-item-num\">10.1&nbsp;&nbsp;</span>setting up pylab plotting</a></div><div class=\"lev3 toc-item\"><a href=\"#figures\" data-toc-modified-id=\"figures-1011\"><span class=\"toc-item-num\">10.1.1&nbsp;&nbsp;</span>figures</a></div><div class=\"lev2 toc-item\"><a href=\"#color-maps\" data-toc-modified-id=\"color-maps-102\"><span class=\"toc-item-num\">10.2&nbsp;&nbsp;</span>color maps</a></div>"
   ]
  },
  {
   "cell_type": "code",
   "execution_count": 1,
   "metadata": {
    "ExecuteTime": {
     "end_time": "2017-09-30T08:25:18.638508",
     "start_time": "2017-09-30T08:25:18.633317"
    },
    "collapsed": true,
    "run_control": {
     "frozen": false,
     "read_only": false
    }
   },
   "outputs": [],
   "source": [
    "from __future__ import print_function\n",
    "#importing this to make code python2&3 compatible\n",
    "# overwrites the default print to require parenthesis\n"
   ]
  },
  {
   "cell_type": "code",
   "execution_count": 2,
   "metadata": {
    "ExecuteTime": {
     "end_time": "2017-09-30T08:25:18.666601",
     "start_time": "2017-09-30T08:25:18.644483"
    },
    "collapsed": false,
    "run_control": {
     "frozen": false,
     "read_only": false
    }
   },
   "outputs": [
    {
     "name": "stdout",
     "output_type": "stream",
     "text": [
      "Hallo\n"
     ]
    }
   ],
   "source": [
    "print(\"Hallo\")"
   ]
  },
  {
   "cell_type": "markdown",
   "metadata": {
    "run_control": {
     "frozen": false,
     "read_only": false
    }
   },
   "source": [
    "# Native variable types"
   ]
  },
  {
   "cell_type": "markdown",
   "metadata": {
    "ExecuteTime": {
     "end_time": "2017-09-29T11:42:37.594618",
     "start_time": "2017-09-29T11:42:37.591669"
    },
    "run_control": {
     "frozen": false,
     "read_only": false
    }
   },
   "source": [
    "## strings, int, floats"
   ]
  },
  {
   "cell_type": "code",
   "execution_count": 3,
   "metadata": {
    "ExecuteTime": {
     "end_time": "2017-09-30T08:25:18.744010",
     "start_time": "2017-09-30T08:25:18.706992"
    },
    "collapsed": false,
    "run_control": {
     "frozen": false,
     "read_only": false
    }
   },
   "outputs": [],
   "source": [
    "stringVariable = 'Hello'"
   ]
  },
  {
   "cell_type": "code",
   "execution_count": 4,
   "metadata": {
    "ExecuteTime": {
     "end_time": "2017-09-30T08:25:18.779379",
     "start_time": "2017-09-30T08:25:18.749986"
    },
    "collapsed": false,
    "run_control": {
     "frozen": false,
     "read_only": false
    }
   },
   "outputs": [
    {
     "data": {
      "text/plain": [
       "str"
      ]
     },
     "execution_count": 4,
     "metadata": {},
     "output_type": "execute_result"
    }
   ],
   "source": [
    "type(stringVariable)"
   ]
  },
  {
   "cell_type": "code",
   "execution_count": 5,
   "metadata": {
    "ExecuteTime": {
     "end_time": "2017-09-30T08:25:18.793779",
     "start_time": "2017-09-30T08:25:18.785073"
    },
    "collapsed": false,
    "run_control": {
     "frozen": false,
     "read_only": false
    }
   },
   "outputs": [
    {
     "name": "stdout",
     "output_type": "stream",
     "text": [
      "Hello\n"
     ]
    }
   ],
   "source": [
    "print(stringVariable)"
   ]
  },
  {
   "cell_type": "code",
   "execution_count": 6,
   "metadata": {
    "ExecuteTime": {
     "end_time": "2017-09-30T08:25:18.801715",
     "start_time": "2017-09-30T08:25:18.796649"
    },
    "collapsed": true,
    "run_control": {
     "frozen": false,
     "read_only": false
    }
   },
   "outputs": [],
   "source": [
    "intVariable = 3"
   ]
  },
  {
   "cell_type": "code",
   "execution_count": 7,
   "metadata": {
    "ExecuteTime": {
     "end_time": "2017-09-30T08:25:18.809552",
     "start_time": "2017-09-30T08:25:18.804157"
    },
    "collapsed": false,
    "run_control": {
     "frozen": false,
     "read_only": false
    }
   },
   "outputs": [
    {
     "data": {
      "text/plain": [
       "int"
      ]
     },
     "execution_count": 7,
     "metadata": {},
     "output_type": "execute_result"
    }
   ],
   "source": [
    "type(intVariable)"
   ]
  },
  {
   "cell_type": "code",
   "execution_count": 8,
   "metadata": {
    "ExecuteTime": {
     "end_time": "2017-09-30T08:25:18.824815",
     "start_time": "2017-09-30T08:25:18.817957"
    },
    "collapsed": true,
    "run_control": {
     "frozen": false,
     "read_only": false
    }
   },
   "outputs": [],
   "source": [
    "floatVariable = 3."
   ]
  },
  {
   "cell_type": "code",
   "execution_count": 9,
   "metadata": {
    "ExecuteTime": {
     "end_time": "2017-09-30T08:25:18.835848",
     "start_time": "2017-09-30T08:25:18.827348"
    },
    "collapsed": false,
    "run_control": {
     "frozen": false,
     "read_only": false
    }
   },
   "outputs": [
    {
     "data": {
      "text/plain": [
       "float"
      ]
     },
     "execution_count": 9,
     "metadata": {},
     "output_type": "execute_result"
    }
   ],
   "source": [
    "type(floatVariable)"
   ]
  },
  {
   "cell_type": "markdown",
   "metadata": {
    "run_control": {
     "frozen": false,
     "read_only": false
    }
   },
   "source": [
    "### print formatting"
   ]
  },
  {
   "cell_type": "code",
   "execution_count": 10,
   "metadata": {
    "ExecuteTime": {
     "end_time": "2017-09-30T08:25:18.855267",
     "start_time": "2017-09-30T08:25:18.847321"
    },
    "collapsed": false,
    "run_control": {
     "frozen": false,
     "read_only": false
    }
   },
   "outputs": [
    {
     "name": "stdout",
     "output_type": "stream",
     "text": [
      "A string test,\n",
      "a number converted to a string 103.3\n",
      "strings wiht 100\n",
      "a float as a string, w set number of digits 3.000\n"
     ]
    }
   ],
   "source": [
    "print('A string %s,\\na number converted to a string %s\\n'%('test', 103.3) + \n",
    "      'strings wiht %r\\n'%(100) + \n",
    "      \"a float as a string, w set number of digits %.3f\"%(floatVariable))"
   ]
  },
  {
   "cell_type": "code",
   "execution_count": 11,
   "metadata": {
    "ExecuteTime": {
     "end_time": "2017-09-30T08:25:18.922783",
     "start_time": "2017-09-30T08:25:18.903696"
    },
    "collapsed": false,
    "run_control": {
     "frozen": false,
     "read_only": false
    }
   },
   "outputs": [
    {
     "name": "stdout",
     "output_type": "stream",
     "text": [
      "A string \"I'm A String!\",\n",
      "a number converted to string 103.3,\n",
      "the 1st string again \"I'm A String!\"\n",
      "a float as a string, w set number of digits 3.000\n"
     ]
    }
   ],
   "source": [
    "print('A string {s},\\na number converted to string {f:.1f},\\nthe 1st string again {s}\\n'\\\n",
    "      .format(s='''\"I'm A String!\"''', f=103.3) + \n",
    "      \"a float as a string, w set number of digits {1:.3f}\".format(stringVariable, \n",
    "                                                                   floatVariable))"
   ]
  },
  {
   "cell_type": "markdown",
   "metadata": {
    "run_control": {
     "frozen": false,
     "read_only": false
    }
   },
   "source": [
    "## bool"
   ]
  },
  {
   "cell_type": "code",
   "execution_count": 12,
   "metadata": {
    "ExecuteTime": {
     "end_time": "2017-09-30T08:25:18.942453",
     "start_time": "2017-09-30T08:25:18.934629"
    },
    "collapsed": false,
    "run_control": {
     "frozen": false,
     "read_only": false
    }
   },
   "outputs": [],
   "source": [
    "boolVar = True"
   ]
  },
  {
   "cell_type": "code",
   "execution_count": 13,
   "metadata": {
    "ExecuteTime": {
     "end_time": "2017-09-30T08:25:18.964296",
     "start_time": "2017-09-30T08:25:18.952668"
    },
    "collapsed": false,
    "run_control": {
     "frozen": false,
     "read_only": false
    }
   },
   "outputs": [
    {
     "data": {
      "text/plain": [
       "bool"
      ]
     },
     "execution_count": 13,
     "metadata": {},
     "output_type": "execute_result"
    }
   ],
   "source": [
    "type(boolVar)"
   ]
  },
  {
   "cell_type": "markdown",
   "metadata": {
    "run_control": {
     "frozen": false,
     "read_only": false
    }
   },
   "source": [
    "### if/else statements with bools"
   ]
  },
  {
   "cell_type": "markdown",
   "metadata": {
    "run_control": {
     "frozen": false,
     "read_only": false
    }
   },
   "source": [
    "** Boolean types are design to verify statements: **\n",
    "they take either True or False value\n",
    "in Python True is 1, False us 0\n",
    "operators like \"==\", \"<\", \">=\", or \"is\", \"in\"... return booleans: True or False\n",
    "the \"if\", \"elif\", \"else\", as well as \"while\" statements uses booleans to make decision\n",
    "a program can behave differently depending on the bool value\n"
   ]
  },
  {
   "cell_type": "code",
   "execution_count": 14,
   "metadata": {
    "ExecuteTime": {
     "end_time": "2017-09-30T08:25:18.979987",
     "start_time": "2017-09-30T08:25:18.971015"
    },
    "collapsed": false,
    "run_control": {
     "frozen": false,
     "read_only": false
    }
   },
   "outputs": [],
   "source": [
    "if not ((type(floatVariable) == float)):\n",
    "    print (\"yes\")"
   ]
  },
  {
   "cell_type": "markdown",
   "metadata": {
    "run_control": {
     "frozen": false,
     "read_only": false
    }
   },
   "source": [
    "\n",
    "in Python booleans map to integers: True=1 False=0\n",
    "so \"if 0\" is equivalent to \"if False\"\n",
    "\n",
    "\"if 1\" is equivalent to \"if True\"\n",
    "\n",
    "and in fact an if statement is verified for every condition returning anything but 0"
   ]
  },
  {
   "cell_type": "code",
   "execution_count": 15,
   "metadata": {
    "ExecuteTime": {
     "end_time": "2017-09-30T08:25:18.991103",
     "start_time": "2017-09-30T08:25:18.983436"
    },
    "collapsed": false,
    "run_control": {
     "frozen": false,
     "read_only": false
    }
   },
   "outputs": [
    {
     "name": "stdout",
     "output_type": "stream",
     "text": [
      "yes\n"
     ]
    }
   ],
   "source": [
    "if 1: \n",
    "    print(\"yes\")\n",
    "else:\n",
    "    print(\"no\")"
   ]
  },
  {
   "cell_type": "code",
   "execution_count": 16,
   "metadata": {
    "ExecuteTime": {
     "end_time": "2017-09-30T08:25:19.027679",
     "start_time": "2017-09-30T08:25:18.998175"
    },
    "collapsed": false,
    "run_control": {
     "frozen": false,
     "read_only": false
    }
   },
   "outputs": [
    {
     "name": "stdout",
     "output_type": "stream",
     "text": [
      "no\n"
     ]
    }
   ],
   "source": [
    "if 0: \n",
    "    print(\"yes\")\n",
    "else:\n",
    "    print(\"no\")"
   ]
  },
  {
   "cell_type": "code",
   "execution_count": 17,
   "metadata": {
    "ExecuteTime": {
     "end_time": "2017-09-30T08:25:19.058998",
     "start_time": "2017-09-30T08:25:19.049733"
    },
    "collapsed": false,
    "run_control": {
     "frozen": false,
     "read_only": false
    }
   },
   "outputs": [
    {
     "name": "stdout",
     "output_type": "stream",
     "text": [
      "yes\n"
     ]
    }
   ],
   "source": [
    "if 2: \n",
    "    print(\"yes\")\n",
    "else:\n",
    "    print(\"no\")"
   ]
  },
  {
   "cell_type": "code",
   "execution_count": 18,
   "metadata": {
    "ExecuteTime": {
     "end_time": "2017-09-30T08:25:19.089277",
     "start_time": "2017-09-30T08:25:19.071104"
    },
    "collapsed": false,
    "run_control": {
     "frozen": false,
     "read_only": false
    }
   },
   "outputs": [
    {
     "name": "stdout",
     "output_type": "stream",
     "text": [
      "yes\n"
     ]
    }
   ],
   "source": [
    "if -1: \n",
    "    print(\"yes\")\n",
    "else:\n",
    "    print(\"no\")"
   ]
  },
  {
   "cell_type": "markdown",
   "metadata": {
    "run_control": {
     "frozen": false,
     "read_only": false
    }
   },
   "source": [
    "### concatenating bool statements"
   ]
  },
  {
   "cell_type": "markdown",
   "metadata": {
    "run_control": {
     "frozen": false,
     "read_only": false
    }
   },
   "source": [
    "** Conditions can be concatenated with the 'and' and 'or' operators (though occasionally you will need '&' and 'I' instead...)**\n",
    "\n"
   ]
  },
  {
   "cell_type": "code",
   "execution_count": 19,
   "metadata": {
    "ExecuteTime": {
     "end_time": "2017-09-30T08:25:19.115083",
     "start_time": "2017-09-30T08:25:19.100432"
    },
    "collapsed": false,
    "run_control": {
     "frozen": false,
     "read_only": false
    }
   },
   "outputs": [
    {
     "name": "stdout",
     "output_type": "stream",
     "text": [
      "yes\n",
      "no\n",
      "yes\n"
     ]
    }
   ],
   "source": [
    "if floatVariable > 0 and floatVariable < 5:\n",
    "    print(\"yes\")\n",
    "else:\n",
    "    print(\"no\")\n",
    "    \n",
    "if floatVariable > 0 and floatVariable < 3:\n",
    "    print(\"yes\")\n",
    "else:\n",
    "    print(\"no\")\n",
    "    \n",
    "if floatVariable > 0 or floatVariable < 3:\n",
    "    print(\"yes\")\n",
    "else:\n",
    "    print(\"no\")"
   ]
  },
  {
   "cell_type": "markdown",
   "metadata": {
    "run_control": {
     "frozen": false,
     "read_only": false
    }
   },
   "source": [
    "### math with bools\n",
    "\n",
    "Because they map to integer you can make math with booleans, then 'or'->+ , 'and'->\\*  \n",
    "(think about it: \n",
    "\n",
    "0\\*anything is 0, \n",
    "\n",
    "and the if statement is verified anytimes the condition is not 0, so if any of the condition returns True, 1, the sum of the conditions will be  > 0\n"
   ]
  },
  {
   "cell_type": "code",
   "execution_count": 20,
   "metadata": {
    "ExecuteTime": {
     "end_time": "2017-09-30T08:25:19.140365",
     "start_time": "2017-09-30T08:25:19.127949"
    },
    "collapsed": false,
    "run_control": {
     "frozen": false,
     "read_only": false
    }
   },
   "outputs": [
    {
     "name": "stdout",
     "output_type": "stream",
     "text": [
      "yes\n",
      "no\n",
      "yes\n"
     ]
    }
   ],
   "source": [
    "if (floatVariable > 0) * (floatVariable < 5):\n",
    "    print(\"yes\")\n",
    "else:\n",
    "    print(\"no\")\n",
    "\n",
    "if (floatVariable > 0) * (floatVariable < 3):\n",
    "    print(\"yes\")\n",
    "else:\n",
    "    print(\"no\")\n",
    "\n",
    "if (floatVariable > 0) + (floatVariable < 3):\n",
    "    print(\"yes\")\n",
    "else:\n",
    "    print(\"no\")"
   ]
  },
  {
   "cell_type": "markdown",
   "metadata": {
    "run_control": {
     "frozen": false,
     "read_only": false
    }
   },
   "source": [
    "## lists"
   ]
  },
  {
   "cell_type": "markdown",
   "metadata": {
    "ExecuteTime": {
     "end_time": "2017-09-29T11:57:55.616690",
     "start_time": "2017-09-29T11:57:55.612477"
    },
    "run_control": {
     "frozen": false,
     "read_only": false
    }
   },
   "source": [
    "some variable types are designed to collect multiple numbers, or multiple strings, or multiple object\n",
    "\n",
    "lists can have heterogeneous content"
   ]
  },
  {
   "cell_type": "code",
   "execution_count": 21,
   "metadata": {
    "ExecuteTime": {
     "end_time": "2017-09-30T08:25:19.153203",
     "start_time": "2017-09-30T08:25:19.144750"
    },
    "collapsed": false,
    "run_control": {
     "frozen": false,
     "read_only": false
    }
   },
   "outputs": [
    {
     "data": {
      "text/plain": [
       "[0, 1, 3, 'hello', 3.3]"
      ]
     },
     "execution_count": 21,
     "metadata": {},
     "output_type": "execute_result"
    }
   ],
   "source": [
    "myList = [0, 1, 3, \"hello\", 3.3]\n",
    "myList"
   ]
  },
  {
   "cell_type": "code",
   "execution_count": 22,
   "metadata": {
    "ExecuteTime": {
     "end_time": "2017-09-30T08:25:19.175476",
     "start_time": "2017-09-30T08:25:19.167034"
    },
    "collapsed": false,
    "run_control": {
     "frozen": false,
     "read_only": false
    }
   },
   "outputs": [
    {
     "data": {
      "text/plain": [
       "[0, 1, 3, 'hello', 3.3, [0, 2, 3.3]]"
      ]
     },
     "execution_count": 22,
     "metadata": {},
     "output_type": "execute_result"
    }
   ],
   "source": [
    "myNestedList =  [0, 1, 3, \"hello\", 3.3, [0, 2, 3.3]]\n",
    "myNestedList"
   ]
  },
  {
   "cell_type": "markdown",
   "metadata": {
    "ExecuteTime": {
     "end_time": "2017-09-29T11:58:15.659828",
     "start_time": "2017-09-29T11:58:15.653870"
    },
    "run_control": {
     "frozen": false,
     "read_only": false
    }
   },
   "source": [
    "strings are actually very similar to lists!"
   ]
  },
  {
   "cell_type": "code",
   "execution_count": 23,
   "metadata": {
    "ExecuteTime": {
     "end_time": "2017-09-30T08:25:20.099278",
     "start_time": "2017-09-30T08:25:20.093693"
    },
    "collapsed": false,
    "run_control": {
     "frozen": false,
     "read_only": false
    }
   },
   "outputs": [
    {
     "data": {
      "text/plain": [
       "'abddef'"
      ]
     },
     "execution_count": 23,
     "metadata": {},
     "output_type": "execute_result"
    }
   ],
   "source": [
    "#e.g. I can add them as lists:\n",
    "'abd' + 'def'"
   ]
  },
  {
   "cell_type": "markdown",
   "metadata": {
    "run_control": {
     "frozen": false,
     "read_only": false
    }
   },
   "source": [
    "strings have a lot of useful attributes. \n",
    "Above you saw that you can refer to the characters of a string as elements of a list. \n",
    "\n",
    "strings are actually lists of characters.\n",
    "for example + works the same way: it concatenates strings\n"
   ]
  },
  {
   "cell_type": "code",
   "execution_count": 24,
   "metadata": {
    "ExecuteTime": {
     "end_time": "2017-09-30T08:25:20.879278",
     "start_time": "2017-09-30T08:25:20.873662"
    },
    "collapsed": false,
    "run_control": {
     "frozen": false,
     "read_only": false
    }
   },
   "outputs": [
    {
     "data": {
      "text/plain": [
       "('hello', 'h', 'llo', 'halo')"
      ]
     },
     "execution_count": 24,
     "metadata": {},
     "output_type": "execute_result"
    }
   ],
   "source": [
    "myNestedList[3], myNestedList[3][0], myNestedList[3][2:], \\\n",
    "myNestedList[3][0] + 'a' + myNestedList[3][-2:]"
   ]
  },
  {
   "cell_type": "code",
   "execution_count": 25,
   "metadata": {
    "ExecuteTime": {
     "end_time": "2017-09-30T08:25:20.900793",
     "start_time": "2017-09-30T08:25:20.892075"
    },
    "collapsed": false,
    "run_control": {
     "frozen": false,
     "read_only": false
    }
   },
   "outputs": [
    {
     "data": {
      "text/plain": [
       "('hello', 'hell', 'ello')"
      ]
     },
     "execution_count": 25,
     "metadata": {},
     "output_type": "execute_result"
    }
   ],
   "source": [
    "myNestedList[3].strip('l'), myNestedList[3].strip('o'), myNestedList[3].strip('h')"
   ]
  },
  {
   "cell_type": "code",
   "execution_count": 26,
   "metadata": {
    "ExecuteTime": {
     "end_time": "2017-09-30T08:25:20.920410",
     "start_time": "2017-09-30T08:25:20.912983"
    },
    "collapsed": false,
    "run_control": {
     "frozen": false,
     "read_only": false
    }
   },
   "outputs": [
    {
     "data": {
      "text/plain": [
       "(['he', '', 'o'], ['h', 'llo'], 'hello')"
      ]
     },
     "execution_count": 26,
     "metadata": {},
     "output_type": "execute_result"
    }
   ],
   "source": [
    "myNestedList[3].split('l'), myNestedList[3].split('e'), 'e'.join(myNestedList[3].split('e'))"
   ]
  },
  {
   "cell_type": "code",
   "execution_count": 27,
   "metadata": {
    "ExecuteTime": {
     "end_time": "2017-09-30T08:25:20.931824",
     "start_time": "2017-09-30T08:25:20.925485"
    },
    "collapsed": false,
    "run_control": {
     "frozen": false,
     "read_only": false
    }
   },
   "outputs": [
    {
     "data": {
      "text/plain": [
       "'HELLO'"
      ]
     },
     "execution_count": 27,
     "metadata": {},
     "output_type": "execute_result"
    }
   ],
   "source": [
    "myNestedList[3].upper()"
   ]
  },
  {
   "cell_type": "code",
   "execution_count": 28,
   "metadata": {
    "ExecuteTime": {
     "end_time": "2017-09-30T08:25:20.945959",
     "start_time": "2017-09-30T08:25:20.938510"
    },
    "collapsed": false,
    "run_control": {
     "frozen": false,
     "read_only": false
    }
   },
   "outputs": [
    {
     "data": {
      "text/plain": [
       "'hello'"
      ]
     },
     "execution_count": 28,
     "metadata": {},
     "output_type": "execute_result"
    }
   ],
   "source": [
    "'Hello'.lower()"
   ]
  },
  {
   "cell_type": "code",
   "execution_count": 29,
   "metadata": {
    "ExecuteTime": {
     "end_time": "2017-09-30T08:25:21.013399",
     "start_time": "2017-09-30T08:25:21.000371"
    },
    "collapsed": false,
    "run_control": {
     "frozen": false,
     "read_only": false
    }
   },
   "outputs": [
    {
     "data": {
      "text/plain": [
       "'halo'"
      ]
     },
     "execution_count": 29,
     "metadata": {},
     "output_type": "execute_result"
    }
   ],
   "source": [
    "'Hello'.replace('Hel','ha')"
   ]
  },
  {
   "cell_type": "markdown",
   "metadata": {
    "run_control": {
     "frozen": false,
     "read_only": false
    }
   },
   "source": [
    "**in the cell below I use a number of string attributes:**\n",
    "-join\n",
    "-strip\n",
    "-split\n",
    "-replace\n",
    "\n",
    "look them up with the ?,e.g. ''.join?, and eviscerate the line of code below!"
   ]
  },
  {
   "cell_type": "code",
   "execution_count": 30,
   "metadata": {
    "ExecuteTime": {
     "end_time": "2017-09-30T08:25:21.504035",
     "start_time": "2017-09-30T08:25:21.498071"
    },
    "collapsed": false,
    "run_control": {
     "frozen": false,
     "read_only": false
    }
   },
   "outputs": [
    {
     "data": {
      "text/plain": [
       "'The fox eats the mouse'"
      ]
     },
     "execution_count": 30,
     "metadata": {},
     "output_type": "execute_result"
    }
   ],
   "source": [
    "' '.join('The fox eats the rabbit '.strip().split(' ')).replace('rabbit', 'mouse')"
   ]
  },
  {
   "cell_type": "markdown",
   "metadata": {
    "run_control": {
     "frozen": false,
     "read_only": false
    }
   },
   "source": [
    "however lists are \"immutables\" (tuples are also immutable types)"
   ]
  },
  {
   "cell_type": "code",
   "execution_count": 31,
   "metadata": {
    "ExecuteTime": {
     "end_time": "2017-09-30T08:25:22.027241",
     "start_time": "2017-09-30T08:25:21.913703"
    },
    "collapsed": false,
    "run_control": {
     "frozen": false,
     "read_only": false
    }
   },
   "outputs": [
    {
     "ename": "TypeError",
     "evalue": "'str' object does not support item assignment",
     "output_type": "error",
     "traceback": [
      "\u001b[0;31m---------------------------------------------------------------------------\u001b[0m",
      "\u001b[0;31mTypeError\u001b[0m                                 Traceback (most recent call last)",
      "\u001b[0;32m<ipython-input-31-0abf7fb37a5e>\u001b[0m in \u001b[0;36m<module>\u001b[0;34m()\u001b[0m\n\u001b[0;32m----> 1\u001b[0;31m \u001b[0mstringVariable\u001b[0m\u001b[0;34m[\u001b[0m\u001b[0;36m2\u001b[0m\u001b[0;34m]\u001b[0m \u001b[0;34m=\u001b[0m \u001b[0;34m'a'\u001b[0m\u001b[0;34m\u001b[0m\u001b[0m\n\u001b[0m",
      "\u001b[0;31mTypeError\u001b[0m: 'str' object does not support item assignment"
     ]
    }
   ],
   "source": [
    "stringVariable[2] = 'a'"
   ]
  },
  {
   "cell_type": "markdown",
   "metadata": {
    "run_control": {
     "frozen": false,
     "read_only": false
    }
   },
   "source": [
    "## dictionaries\n",
    "dictionaries collect key-value pairs: they are container that allow you to give a name to the objects inside. They allow the collection of heterogeneous objects and naturally allow nested structures"
   ]
  },
  {
   "cell_type": "code",
   "execution_count": 32,
   "metadata": {
    "ExecuteTime": {
     "end_time": "2017-09-30T08:25:22.337547",
     "start_time": "2017-09-30T08:25:22.323728"
    },
    "collapsed": false,
    "run_control": {
     "frozen": false,
     "read_only": false
    }
   },
   "outputs": [
    {
     "data": {
      "text/plain": [
       "{'keyDict': {'nested1': 0.1, 'nested2': {}},\n",
       " 'keyFloat': 0.3,\n",
       " 'keyInt': 0,\n",
       " 'keyString': \"I'm a string\"}"
      ]
     },
     "execution_count": 32,
     "metadata": {},
     "output_type": "execute_result"
    }
   ],
   "source": [
    "dictVariable = {'keyInt': 0,\n",
    "               'keyFloat': 0.3,\n",
    "               'keyString': \"I'm a string\",\n",
    "               'keyDict': {}}\n",
    "dictVariable['keyDict']['nested1'] = 0.1\n",
    "dictVariable['keyDict']['nested2'] = {}\n",
    "\n",
    "dictVariable"
   ]
  },
  {
   "cell_type": "markdown",
   "metadata": {
    "ExecuteTime": {
     "end_time": "2017-09-29T12:12:00.581092",
     "start_time": "2017-09-29T12:12:00.576617"
    },
    "run_control": {
     "frozen": false,
     "read_only": false
    }
   },
   "source": [
    "# IDE other than jupyter notebooks\n",
    "## python\n",
    "## ipython\n",
    "## execute python from the shell\n",
    " "
   ]
  },
  {
   "cell_type": "markdown",
   "metadata": {
    "run_control": {
     "frozen": false,
     "read_only": false
    }
   },
   "source": [
    "** EXERCISE: **\n",
    "[instructions](https://github.com/fedhere/PyBOOT/blob/master/printGoodmorningGoodAfternoon_instructions.py)\n",
    "\n",
    "    write a script that prints to standard output \"Good Morning <Name>\" if before 1PM\n",
    "    prints to standard output \"Good Afternoon <Name>\" if after 1PM\n",
    "    where <Name> is the user name input intline\n",
    "    \n",
    "    if you can: make sure it works with both python 2 and 3\n",
    "    hints: \n",
    "    - you can use raw_input/input to accept arguments upon request.\n",
    "    - you can use the datetime package to check the time of the day\n",
    "    - you can use try/except if you come across functions that work differently in python2 vs python3\n"
   ]
  },
  {
   "cell_type": "markdown",
   "metadata": {
    "run_control": {
     "frozen": false,
     "read_only": false
    }
   },
   "source": [
    "# Numpy types \n",
    "Those were all native python types. Other modules may define other variable types"
   ]
  },
  {
   "cell_type": "code",
   "execution_count": 33,
   "metadata": {
    "ExecuteTime": {
     "end_time": "2017-09-30T08:25:24.072723",
     "start_time": "2017-09-30T08:25:23.642004"
    },
    "collapsed": true,
    "run_control": {
     "frozen": false,
     "read_only": false
    }
   },
   "outputs": [],
   "source": [
    "import numpy as np"
   ]
  },
  {
   "cell_type": "code",
   "execution_count": 34,
   "metadata": {
    "ExecuteTime": {
     "end_time": "2017-09-30T08:25:24.080608",
     "start_time": "2017-09-30T08:25:24.074580"
    },
    "collapsed": true,
    "run_control": {
     "frozen": false,
     "read_only": false
    }
   },
   "outputs": [],
   "source": [
    "a = 3 "
   ]
  },
  {
   "cell_type": "code",
   "execution_count": 35,
   "metadata": {
    "ExecuteTime": {
     "end_time": "2017-09-30T08:25:24.090027",
     "start_time": "2017-09-30T08:25:24.082871"
    },
    "collapsed": false,
    "run_control": {
     "frozen": false,
     "read_only": false
    }
   },
   "outputs": [
    {
     "data": {
      "text/plain": [
       "int"
      ]
     },
     "execution_count": 35,
     "metadata": {},
     "output_type": "execute_result"
    }
   ],
   "source": [
    "type(a)"
   ]
  },
  {
   "cell_type": "markdown",
   "metadata": {
    "collapsed": true,
    "run_control": {
     "frozen": false,
     "read_only": false
    }
   },
   "source": [
    "** numpy types have predefined number of bites to store the variable. **\n",
    "The largest and smallest number you can store in a variable is limited by the number of bites used for that variable\n",
    "\n",
    "For default python variables python chooses the number of bits according to the system (the computer its running on)\n",
    "\n",
    " That is why it is important to specify what your code is developed and tested on!"
   ]
  },
  {
   "cell_type": "code",
   "execution_count": 36,
   "metadata": {
    "ExecuteTime": {
     "end_time": "2017-09-30T08:25:24.103461",
     "start_time": "2017-09-30T08:25:24.094013"
    },
    "collapsed": false,
    "run_control": {
     "frozen": false,
     "read_only": false
    }
   },
   "outputs": [],
   "source": [
    "a = np.int16(3)"
   ]
  },
  {
   "cell_type": "code",
   "execution_count": 37,
   "metadata": {
    "ExecuteTime": {
     "end_time": "2017-09-30T08:25:24.133354",
     "start_time": "2017-09-30T08:25:24.109448"
    },
    "collapsed": false,
    "run_control": {
     "frozen": false,
     "read_only": false
    }
   },
   "outputs": [
    {
     "data": {
      "text/plain": [
       "dtype('int16')"
      ]
     },
     "execution_count": 37,
     "metadata": {},
     "output_type": "execute_result"
    }
   ],
   "source": [
    "a.dtype"
   ]
  },
  {
   "cell_type": "markdown",
   "metadata": {
    "run_control": {
     "frozen": false,
     "read_only": false
    }
   },
   "source": [
    "the largest signed integer you can write in 8 bits is 127, the smallest -128. That's (2^8) / 2 - 1 \n",
    "\n",
    "/2 is because you they are signed integers, and one bit is reserved for the sign. \n",
    "\n",
    "-1 because you start from 0\n",
    "\n",
    "The largest UNsigned int is 256\n",
    "\n",
    "Note that there will be no error returned if you try to write a number that is too large!"
   ]
  },
  {
   "cell_type": "code",
   "execution_count": 38,
   "metadata": {
    "ExecuteTime": {
     "end_time": "2017-09-30T08:25:24.459421",
     "start_time": "2017-09-30T08:25:24.455411"
    },
    "collapsed": false,
    "run_control": {
     "frozen": false,
     "read_only": false
    }
   },
   "outputs": [
    {
     "name": "stdout",
     "output_type": "stream",
     "text": [
      "10\n",
      "100\n",
      "127\n",
      "-128\n"
     ]
    }
   ],
   "source": [
    "print(np.int8(10))\n",
    "print(np.int8(100))\n",
    "print(np.int8(127))\n",
    "print(np.int8(128))"
   ]
  },
  {
   "cell_type": "markdown",
   "metadata": {
    "collapsed": false,
    "run_control": {
     "frozen": false,
     "read_only": false
    }
   },
   "source": [
    "max int32 is 2147483646 (2^32)/2-2"
   ]
  },
  {
   "cell_type": "code",
   "execution_count": 39,
   "metadata": {
    "ExecuteTime": {
     "end_time": "2017-09-30T08:25:24.790573",
     "start_time": "2017-09-30T08:25:24.783062"
    },
    "collapsed": false,
    "run_control": {
     "frozen": false,
     "read_only": false
    }
   },
   "outputs": [
    {
     "name": "stdout",
     "output_type": "stream",
     "text": [
      "2147483638\n",
      "2147483647\n",
      "-2147483648\n"
     ]
    }
   ],
   "source": [
    "a = np.int32(2147483638)\n",
    "print(a)\n",
    "a = np.int32(2147483647)\n",
    "print(a)\n",
    "a = np.int32(2147483648)\n",
    "print(a)\n"
   ]
  },
  {
   "cell_type": "markdown",
   "metadata": {
    "run_control": {
     "frozen": false,
     "read_only": false
    }
   },
   "source": [
    "# numpy arrays \n",
    "_must have objects all of the same type inside_, and they will recast the type (to the most complext type in the series) when needed"
   ]
  },
  {
   "cell_type": "code",
   "execution_count": 40,
   "metadata": {
    "ExecuteTime": {
     "end_time": "2017-09-30T08:25:25.124439",
     "start_time": "2017-09-30T08:25:25.116672"
    },
    "collapsed": false,
    "run_control": {
     "frozen": false,
     "read_only": false
    }
   },
   "outputs": [
    {
     "name": "stdout",
     "output_type": "stream",
     "text": [
      "[ 3.  3.  3.  4.]\n"
     ]
    }
   ],
   "source": [
    "myArray = np.array([intVariable, floatVariable, 3 , 4. ])\n",
    "# the integers are converted to float\n",
    "\n",
    "print (myArray)"
   ]
  },
  {
   "cell_type": "code",
   "execution_count": 41,
   "metadata": {
    "ExecuteTime": {
     "end_time": "2017-09-30T08:25:25.136461",
     "start_time": "2017-09-30T08:25:25.129312"
    },
    "collapsed": false,
    "run_control": {
     "frozen": false,
     "read_only": false
    }
   },
   "outputs": [
    {
     "name": "stdout",
     "output_type": "stream",
     "text": [
      "<type 'int'>\n",
      "<type 'numpy.float64'>\n",
      "<type 'numpy.float64'>\n"
     ]
    }
   ],
   "source": [
    "print(type(intVariable)) \n",
    "print(type(myArray[0]))\n",
    "print(type(myArray[1]))"
   ]
  },
  {
   "cell_type": "markdown",
   "metadata": {
    "run_control": {
     "frozen": false,
     "read_only": false
    }
   },
   "source": [
    "integers are converted to float so that all objects in the array are of the same type (and python recast the simpler type integer to the more complex type float, not viceversa)\n",
    "\n",
    "also you saw that how to refer to an element of a list or array: [i] indicates the i-th element of a list/array/tuple..."
   ]
  },
  {
   "cell_type": "code",
   "execution_count": 42,
   "metadata": {
    "ExecuteTime": {
     "end_time": "2017-09-30T08:25:25.619124",
     "start_time": "2017-09-30T08:25:25.610335"
    },
    "collapsed": false,
    "run_control": {
     "frozen": false,
     "read_only": false
    }
   },
   "outputs": [
    {
     "data": {
      "text/plain": [
       "array(['0', '1', '3', 'hello', '3.3'], \n",
       "      dtype='|S21')"
      ]
     },
     "execution_count": 42,
     "metadata": {},
     "output_type": "execute_result"
    }
   ],
   "source": [
    "myArrayStr = np.array(myList)\n",
    "myArrayStr"
   ]
  },
  {
   "cell_type": "markdown",
   "metadata": {
    "run_control": {
     "frozen": false,
     "read_only": false
    }
   },
   "source": [
    "all the numbers in myList are converted to strings if I make an array out of that list."
   ]
  },
  {
   "cell_type": "markdown",
   "metadata": {
    "run_control": {
     "frozen": false,
     "read_only": false
    }
   },
   "source": [
    "# PART 2: Slicing, Broadcasting, and math operators on arrays and lists"
   ]
  },
  {
   "cell_type": "code",
   "execution_count": 43,
   "metadata": {
    "ExecuteTime": {
     "end_time": "2017-09-30T08:25:26.457714",
     "start_time": "2017-09-30T08:25:26.449469"
    },
    "collapsed": false,
    "run_control": {
     "frozen": false,
     "read_only": false
    }
   },
   "outputs": [
    {
     "data": {
      "text/plain": [
       "[1, 3, 'hello', 3.3, 'Hello', 'there']"
      ]
     },
     "execution_count": 43,
     "metadata": {},
     "output_type": "execute_result"
    }
   ],
   "source": [
    "#the + operator inlists  concatenates the lists\n",
    "\n",
    "myList[1:] + [\"Hello\", \"there\"]"
   ]
  },
  {
   "cell_type": "markdown",
   "metadata": {
    "ExecuteTime": {
     "end_time": "2017-09-29T12:58:50.816380",
     "start_time": "2017-09-29T12:58:50.810474"
    },
    "run_control": {
     "frozen": false,
     "read_only": false
    }
   },
   "source": [
    "## operations with arrays\n",
    "+, -, *, / generally operate element by element. I can for example multiply an array by a float/int"
   ]
  },
  {
   "cell_type": "code",
   "execution_count": 44,
   "metadata": {
    "ExecuteTime": {
     "end_time": "2017-09-30T08:25:26.921872",
     "start_time": "2017-09-30T08:25:26.882339"
    },
    "collapsed": false,
    "run_control": {
     "frozen": false,
     "read_only": false
    }
   },
   "outputs": [
    {
     "ename": "NameError",
     "evalue": "name 'myOtherArray' is not defined",
     "output_type": "error",
     "traceback": [
      "\u001b[0;31m---------------------------------------------------------------------------\u001b[0m",
      "\u001b[0;31mNameError\u001b[0m                                 Traceback (most recent call last)",
      "\u001b[0;32m<ipython-input-44-e3b47843a58c>\u001b[0m in \u001b[0;36m<module>\u001b[0;34m()\u001b[0m\n\u001b[0;32m----> 1\u001b[0;31m \u001b[0mmyOtherArray\u001b[0m\u001b[0;34m,\u001b[0m \u001b[0mmyOtherArray\u001b[0m \u001b[0;34m*\u001b[0m \u001b[0;36m2\u001b[0m\u001b[0;34m,\u001b[0m \u001b[0mmyOtherArray\u001b[0m \u001b[0;34m+\u001b[0m \u001b[0;36m2\u001b[0m\u001b[0;34m\u001b[0m\u001b[0m\n\u001b[0m",
      "\u001b[0;31mNameError\u001b[0m: name 'myOtherArray' is not defined"
     ]
    }
   ],
   "source": [
    "myOtherArray, myOtherArray * 2, myOtherArray + 2"
   ]
  },
  {
   "cell_type": "markdown",
   "metadata": {
    "collapsed": false,
    "run_control": {
     "frozen": false,
     "read_only": false
    }
   },
   "source": [
    " the %  operator may be useful: it returns the remainder of a division: a % b returns the remainder of a/b. \n",
    " This is useful to find out if a number is even or odd"
   ]
  },
  {
   "cell_type": "code",
   "execution_count": 45,
   "metadata": {
    "ExecuteTime": {
     "end_time": "2017-09-30T08:25:27.785997",
     "start_time": "2017-09-30T08:25:27.781984"
    },
    "collapsed": false,
    "run_control": {
     "frozen": false,
     "read_only": false
    }
   },
   "outputs": [
    {
     "data": {
      "text/plain": [
       "1"
      ]
     },
     "execution_count": 45,
     "metadata": {},
     "output_type": "execute_result"
    }
   ],
   "source": [
    "5 % 2"
   ]
  },
  {
   "cell_type": "code",
   "execution_count": 46,
   "metadata": {
    "ExecuteTime": {
     "end_time": "2017-09-30T08:25:27.804707",
     "start_time": "2017-09-30T08:25:27.796648"
    },
    "collapsed": false,
    "run_control": {
     "frozen": false,
     "read_only": false
    }
   },
   "outputs": [
    {
     "data": {
      "text/plain": [
       "1.0"
      ]
     },
     "execution_count": 46,
     "metadata": {},
     "output_type": "execute_result"
    }
   ],
   "source": [
    "5. % 2."
   ]
  },
  {
   "cell_type": "code",
   "execution_count": 47,
   "metadata": {
    "ExecuteTime": {
     "end_time": "2017-09-30T08:25:27.836658",
     "start_time": "2017-09-30T08:25:27.814541"
    },
    "collapsed": false,
    "run_control": {
     "frozen": false,
     "read_only": false
    }
   },
   "outputs": [
    {
     "ename": "NameError",
     "evalue": "name 'myOtherArray' is not defined",
     "output_type": "error",
     "traceback": [
      "\u001b[0;31m---------------------------------------------------------------------------\u001b[0m",
      "\u001b[0;31mNameError\u001b[0m                                 Traceback (most recent call last)",
      "\u001b[0;32m<ipython-input-47-e50144141b0c>\u001b[0m in \u001b[0;36m<module>\u001b[0;34m()\u001b[0m\n\u001b[1;32m      1\u001b[0m \u001b[0;31m# add 2 arrays of same shape\u001b[0m\u001b[0;34m\u001b[0m\u001b[0;34m\u001b[0m\u001b[0m\n\u001b[0;32m----> 2\u001b[0;31m \u001b[0mmyOtherArray\u001b[0m \u001b[0;34m+\u001b[0m \u001b[0mmyOtherArray\u001b[0m\u001b[0;34m\u001b[0m\u001b[0m\n\u001b[0m",
      "\u001b[0;31mNameError\u001b[0m: name 'myOtherArray' is not defined"
     ]
    }
   ],
   "source": [
    "# add 2 arrays of same shape\n",
    "myOtherArray + myOtherArray"
   ]
  },
  {
   "cell_type": "code",
   "execution_count": null,
   "metadata": {
    "ExecuteTime": {
     "end_time": "2017-09-30T08:25:27.837568",
     "start_time": "2017-09-30T12:25:27.820Z"
    },
    "collapsed": false,
    "run_control": {
     "frozen": false,
     "read_only": false
    }
   },
   "outputs": [],
   "source": [
    "myDoubleArray = 2 * myOtherArray\n",
    "myDoubleArray"
   ]
  },
  {
   "cell_type": "code",
   "execution_count": null,
   "metadata": {
    "ExecuteTime": {
     "end_time": "2017-09-30T08:25:27.838227",
     "start_time": "2017-09-30T12:25:27.832Z"
    },
    "collapsed": false,
    "run_control": {
     "frozen": false,
     "read_only": false
    }
   },
   "outputs": [],
   "source": [
    "# they must be of the same shape: same size on all axes\n",
    "myDoubleArray + myOtherArray[:2]"
   ]
  },
  {
   "cell_type": "markdown",
   "metadata": {
    "ExecuteTime": {
     "end_time": "2017-09-29T12:52:01.458291",
     "start_time": "2017-09-29T12:52:01.454095"
    },
    "run_control": {
     "frozen": false,
     "read_only": false
    }
   },
   "source": [
    "## slicing"
   ]
  },
  {
   "cell_type": "markdown",
   "metadata": {
    "run_control": {
     "frozen": false,
     "read_only": false
    }
   },
   "source": [
    "below I extract a subset of the elements of myList: from element 2, corresponding to index 1 (since arrays and lists are indexed starting at 0) to the last element. \n",
    "\n",
    "\":\" indicates that I am selecting a range of indices. the first number is included, the last is not included. "
   ]
  },
  {
   "cell_type": "code",
   "execution_count": 48,
   "metadata": {
    "ExecuteTime": {
     "end_time": "2017-09-30T08:25:28.813784",
     "start_time": "2017-09-30T08:25:28.808390"
    },
    "collapsed": false,
    "run_control": {
     "frozen": false,
     "read_only": false
    }
   },
   "outputs": [
    {
     "data": {
      "text/plain": [
       "[1, 3, 'hello']"
      ]
     },
     "execution_count": 48,
     "metadata": {},
     "output_type": "execute_result"
    }
   ],
   "source": [
    "myList[1:4]"
   ]
  },
  {
   "cell_type": "markdown",
   "metadata": {
    "run_control": {
     "frozen": false,
     "read_only": false
    }
   },
   "source": [
    "omitting one of the range limits mean \"till the min/max possible value\""
   ]
  },
  {
   "cell_type": "code",
   "execution_count": 49,
   "metadata": {
    "ExecuteTime": {
     "end_time": "2017-09-30T08:25:29.294386",
     "start_time": "2017-09-30T08:25:29.289994"
    },
    "collapsed": false,
    "run_control": {
     "frozen": false,
     "read_only": false
    }
   },
   "outputs": [
    {
     "data": {
      "text/plain": [
       "[1, 3, 'hello', 3.3]"
      ]
     },
     "execution_count": 49,
     "metadata": {},
     "output_type": "execute_result"
    }
   ],
   "source": [
    "myList[1:]"
   ]
  },
  {
   "cell_type": "code",
   "execution_count": 50,
   "metadata": {
    "ExecuteTime": {
     "end_time": "2017-09-30T08:25:29.328615",
     "start_time": "2017-09-30T08:25:29.320623"
    },
    "collapsed": false,
    "run_control": {
     "frozen": false,
     "read_only": false
    }
   },
   "outputs": [
    {
     "data": {
      "text/plain": [
       "[0, 1, 3, 'hello']"
      ]
     },
     "execution_count": 50,
     "metadata": {},
     "output_type": "execute_result"
    }
   ],
   "source": [
    "myList[:4]"
   ]
  },
  {
   "cell_type": "markdown",
   "metadata": {
    "run_control": {
     "frozen": false,
     "read_only": false
    }
   },
   "source": [
    "if i _slice_ the array with the [:] I can also define a stride: pick one every n elements.\n",
    "\n",
    "[2:8:2] would mean extract every other element starting with the third (remember first index is 0) till the 8th, "
   ]
  },
  {
   "cell_type": "code",
   "execution_count": 51,
   "metadata": {
    "ExecuteTime": {
     "end_time": "2017-09-30T08:25:29.869770",
     "start_time": "2017-09-30T08:25:29.865693"
    },
    "collapsed": false,
    "run_control": {
     "frozen": false,
     "read_only": false
    }
   },
   "outputs": [
    {
     "name": "stdout",
     "output_type": "stream",
     "text": [
      "['0' '1' '3' 'hello' '3.3']\n",
      "['1' 'hello']\n"
     ]
    }
   ],
   "source": [
    "print(myArrayStr)\n",
    "print(myArrayStr[1:5:2])"
   ]
  },
  {
   "cell_type": "code",
   "execution_count": 52,
   "metadata": {
    "ExecuteTime": {
     "end_time": "2017-09-30T08:25:29.892286",
     "start_time": "2017-09-30T08:25:29.887412"
    },
    "collapsed": false,
    "run_control": {
     "frozen": false,
     "read_only": false
    }
   },
   "outputs": [],
   "source": [
    "# a positive stride goes from left to right\n",
    "# a negative stride goes from right to left"
   ]
  },
  {
   "cell_type": "markdown",
   "metadata": {
    "run_control": {
     "frozen": false,
     "read_only": false
    }
   },
   "source": [
    "operations with arrays: +, -, *, / generally operate element by element. I can for example multiply an array by a float/int\n",
    "\n",
    "add 2 arrays of same shape\n"
   ]
  },
  {
   "cell_type": "code",
   "execution_count": 53,
   "metadata": {
    "ExecuteTime": {
     "end_time": "2017-09-30T08:25:30.576137",
     "start_time": "2017-09-30T08:25:30.569839"
    },
    "collapsed": false,
    "run_control": {
     "frozen": false,
     "read_only": false
    }
   },
   "outputs": [
    {
     "data": {
      "text/plain": [
       "array(['3.3', 'hello', '3'], \n",
       "      dtype='|S21')"
      ]
     },
     "execution_count": 53,
     "metadata": {},
     "output_type": "execute_result"
    }
   ],
   "source": [
    "myArrayStr[4:1:-1]"
   ]
  },
  {
   "cell_type": "code",
   "execution_count": 54,
   "metadata": {
    "ExecuteTime": {
     "end_time": "2017-09-30T08:25:30.600756",
     "start_time": "2017-09-30T08:25:30.592237"
    },
    "collapsed": false,
    "run_control": {
     "frozen": false,
     "read_only": false
    }
   },
   "outputs": [
    {
     "data": {
      "text/plain": [
       "array([ 3.,  1.,  0.])"
      ]
     },
     "execution_count": 54,
     "metadata": {},
     "output_type": "execute_result"
    }
   ],
   "source": [
    "myOtherArray = np.array(myList[2::-1]).astype(float)\n",
    "myOtherArray"
   ]
  },
  {
   "cell_type": "markdown",
   "metadata": {
    "run_control": {
     "frozen": false,
     "read_only": false
    }
   },
   "source": [
    "generally python variables and python objects have a number of attributes associated to them\n",
    "\n",
    "(that is kind of what it means that it is an \"object oriented\" language)\n",
    "\n",
    "the function dir prints all attributes of a python object"
   ]
  },
  {
   "cell_type": "code",
   "execution_count": 55,
   "metadata": {
    "ExecuteTime": {
     "end_time": "2017-09-30T08:25:31.181352",
     "start_time": "2017-09-30T08:25:31.178818"
    },
    "collapsed": false,
    "run_control": {
     "frozen": false,
     "read_only": false
    }
   },
   "outputs": [],
   "source": [
    "#dir(myArray)"
   ]
  },
  {
   "cell_type": "code",
   "execution_count": 56,
   "metadata": {
    "ExecuteTime": {
     "end_time": "2017-09-30T08:25:31.204092",
     "start_time": "2017-09-30T08:25:31.194128"
    },
    "collapsed": true,
    "run_control": {
     "frozen": false,
     "read_only": false
    }
   },
   "outputs": [],
   "source": [
    "myArray?"
   ]
  },
  {
   "cell_type": "code",
   "execution_count": 57,
   "metadata": {
    "ExecuteTime": {
     "end_time": "2017-09-30T08:25:31.321334",
     "start_time": "2017-09-30T08:25:31.300460"
    },
    "collapsed": false,
    "run_control": {
     "frozen": false,
     "read_only": false
    }
   },
   "outputs": [
    {
     "data": {
      "text/plain": [
       "(4,)"
      ]
     },
     "execution_count": 57,
     "metadata": {},
     "output_type": "execute_result"
    }
   ],
   "source": [
    "# example: the attribute shape returns the shape of the array.\n",
    "myArray.shape"
   ]
  },
  {
   "cell_type": "code",
   "execution_count": 58,
   "metadata": {
    "ExecuteTime": {
     "end_time": "2017-09-30T08:25:31.365606",
     "start_time": "2017-09-30T08:25:31.337219"
    },
    "collapsed": false,
    "run_control": {
     "frozen": false,
     "read_only": false
    }
   },
   "outputs": [
    {
     "data": {
      "text/plain": [
       "array([[ 3.,  3.],\n",
       "       [ 3.,  4.]])"
      ]
     },
     "execution_count": 58,
     "metadata": {},
     "output_type": "execute_result"
    }
   ],
   "source": [
    "# example: the method (meaning it is actually a function) reshape returns an array of different shape, \n",
    "# but notice that it does not change it \"inplace\" : the array is unchanged and a new array is returned\n",
    "myArray.reshape((2,2))"
   ]
  },
  {
   "cell_type": "code",
   "execution_count": 59,
   "metadata": {
    "ExecuteTime": {
     "end_time": "2017-09-30T08:25:31.412506",
     "start_time": "2017-09-30T08:25:31.404540"
    },
    "collapsed": false,
    "run_control": {
     "frozen": false,
     "read_only": false
    }
   },
   "outputs": [
    {
     "data": {
      "text/plain": [
       "array([ 3.,  3.,  3.,  4.])"
      ]
     },
     "execution_count": 59,
     "metadata": {},
     "output_type": "execute_result"
    }
   ],
   "source": [
    "myArray"
   ]
  },
  {
   "cell_type": "code",
   "execution_count": 60,
   "metadata": {
    "ExecuteTime": {
     "end_time": "2017-09-30T08:25:31.437617",
     "start_time": "2017-09-30T08:25:31.433184"
    },
    "collapsed": true,
    "run_control": {
     "frozen": false,
     "read_only": false
    }
   },
   "outputs": [],
   "source": [
    "myThirdArray = np.array([1, 2, 3, 4, 5])"
   ]
  },
  {
   "cell_type": "markdown",
   "metadata": {
    "collapsed": false,
    "run_control": {
     "frozen": false,
     "read_only": false
    }
   },
   "source": [
    "conditions applied to arrays return boolean arrays indicating for which inices the condition is satisfied \n",
    "\n",
    "##### depending on your setup you may need to use the attributes .all() and .any(), butI wont go into it now"
   ]
  },
  {
   "cell_type": "code",
   "execution_count": 61,
   "metadata": {
    "ExecuteTime": {
     "end_time": "2017-09-30T08:25:32.158213",
     "start_time": "2017-09-30T08:25:32.147790"
    },
    "collapsed": false,
    "run_control": {
     "frozen": false,
     "read_only": false
    }
   },
   "outputs": [
    {
     "data": {
      "text/plain": [
       "array([False, False,  True,  True,  True], dtype=bool)"
      ]
     },
     "execution_count": 61,
     "metadata": {},
     "output_type": "execute_result"
    }
   ],
   "source": [
    "(myThirdArray > 2)"
   ]
  },
  {
   "cell_type": "markdown",
   "metadata": {
    "run_control": {
     "frozen": false,
     "read_only": false
    }
   },
   "source": [
    "** EXERCISE:**\n",
    "- create a numpy array containing numbers from 1 to 10\n",
    "- extract only even numbers with boolean operations\n",
    "- reverse it \n",
    "- make all those number odd\n",
    "    (hint: you can use use range or np.arange to create the array)"
   ]
  },
  {
   "cell_type": "code",
   "execution_count": 133,
   "metadata": {
    "ExecuteTime": {
     "end_time": "2017-09-30T13:12:05.096918",
     "start_time": "2017-09-30T13:12:05.091545"
    },
    "collapsed": false
   },
   "outputs": [
    {
     "data": {
      "text/plain": [
       "[1, 3, 5, 7, 9]"
      ]
     },
     "execution_count": 133,
     "metadata": {},
     "output_type": "execute_result"
    }
   ],
   "source": [
    "range(1, 11, 2)"
   ]
  },
  {
   "cell_type": "code",
   "execution_count": 134,
   "metadata": {
    "ExecuteTime": {
     "end_time": "2017-09-30T13:12:25.542088",
     "start_time": "2017-09-30T13:12:25.537064"
    },
    "collapsed": false,
    "hide_input": false,
    "run_control": {
     "frozen": false,
     "read_only": false
    }
   },
   "outputs": [
    {
     "name": "stdout",
     "output_type": "stream",
     "text": [
      "[ 1  2  3  4  5  6  7  8  9 10]\n"
     ]
    }
   ],
   "source": [
    "thisArray = np.arange(1,11)\n",
    "print (thisArray)"
   ]
  },
  {
   "cell_type": "code",
   "execution_count": 63,
   "metadata": {
    "ExecuteTime": {
     "end_time": "2017-09-30T08:25:32.887850",
     "start_time": "2017-09-30T08:25:32.882959"
    },
    "collapsed": true,
    "hide_input": false,
    "run_control": {
     "frozen": false,
     "read_only": false
    }
   },
   "outputs": [],
   "source": [
    "thisArray = np.array(range(1,11))"
   ]
  },
  {
   "cell_type": "code",
   "execution_count": 64,
   "metadata": {
    "ExecuteTime": {
     "end_time": "2017-09-30T08:25:32.907998",
     "start_time": "2017-09-30T08:25:32.900290"
    },
    "collapsed": false,
    "hide_input": false,
    "run_control": {
     "frozen": false,
     "read_only": false
    }
   },
   "outputs": [
    {
     "data": {
      "text/plain": [
       "array([False,  True, False,  True, False,  True, False,  True, False,  True], dtype=bool)"
      ]
     },
     "execution_count": 64,
     "metadata": {},
     "output_type": "execute_result"
    }
   ],
   "source": [
    "(thisArray % 2) == 0"
   ]
  },
  {
   "cell_type": "code",
   "execution_count": 139,
   "metadata": {
    "ExecuteTime": {
     "end_time": "2017-09-30T13:14:38.542709",
     "start_time": "2017-09-30T13:14:38.533083"
    },
    "collapsed": false,
    "hide_input": false,
    "run_control": {
     "frozen": false,
     "read_only": false
    }
   },
   "outputs": [
    {
     "name": "stdout",
     "output_type": "stream",
     "text": [
      "[ 2  4  6  8 10]\n",
      "[11  9  7  5  3]\n"
     ]
    }
   ],
   "source": [
    "print((thisArray[(thisArray % 2) == 0]))\n",
    "print((thisArray[(thisArray % 2) == 0])[::-1] + 1)"
   ]
  },
  {
   "cell_type": "code",
   "execution_count": 147,
   "metadata": {
    "ExecuteTime": {
     "end_time": "2017-09-30T13:42:20.724508",
     "start_time": "2017-09-30T13:42:20.704984"
    },
    "collapsed": false,
    "hide_input": false,
    "run_control": {
     "frozen": false,
     "read_only": false
    }
   },
   "outputs": [
    {
     "ename": "TypeError",
     "evalue": "only integer arrays with one element can be converted to an index",
     "output_type": "error",
     "traceback": [
      "\u001b[0;31m---------------------------------------------------------------------------\u001b[0m",
      "\u001b[0;31mTypeError\u001b[0m                                 Traceback (most recent call last)",
      "\u001b[0;32m<ipython-input-147-a27f8629a133>\u001b[0m in \u001b[0;36m<module>\u001b[0;34m()\u001b[0m\n\u001b[1;32m      1\u001b[0m \u001b[0;31m# notice that you cannot do \"broadcasting\" with lists, only with arrays\u001b[0m\u001b[0;34m\u001b[0m\u001b[0;34m\u001b[0m\u001b[0m\n\u001b[0;32m----> 2\u001b[0;31m \u001b[0mlist\u001b[0m\u001b[0;34m(\u001b[0m\u001b[0mthisArray\u001b[0m\u001b[0;34m)\u001b[0m\u001b[0;34m[\u001b[0m\u001b[0;34m(\u001b[0m\u001b[0mthisArray\u001b[0m \u001b[0;34m%\u001b[0m \u001b[0;36m2\u001b[0m\u001b[0;34m)\u001b[0m \u001b[0;34m==\u001b[0m \u001b[0;36m0\u001b[0m\u001b[0;34m]\u001b[0m\u001b[0;34m\u001b[0m\u001b[0m\n\u001b[0m",
      "\u001b[0;31mTypeError\u001b[0m: only integer arrays with one element can be converted to an index"
     ]
    }
   ],
   "source": [
    "# notice that you cannot do \"broadcasting\" with lists, only with arrays\n",
    "list(thisArray)[(thisArray % 2) == 0]"
   ]
  },
  {
   "cell_type": "markdown",
   "metadata": {
    "run_control": {
     "frozen": false,
     "read_only": false
    }
   },
   "source": [
    " other useful things: choosing subset in both columns and rows; \n",
    " in these slicing operations the axes are separated by commas in the indices \n",
    " here I take the 3rd and 4th row, and the 1st, 2nd, 3rd columns\n"
   ]
  },
  {
   "cell_type": "code",
   "execution_count": 68,
   "metadata": {
    "ExecuteTime": {
     "end_time": "2017-09-30T08:25:34.361513",
     "start_time": "2017-09-30T08:25:34.356135"
    },
    "collapsed": false,
    "run_control": {
     "frozen": false,
     "read_only": false
    }
   },
   "outputs": [],
   "source": [
    "multiDArray = np.random.randn(10, 100)"
   ]
  },
  {
   "cell_type": "code",
   "execution_count": 69,
   "metadata": {
    "ExecuteTime": {
     "end_time": "2017-09-30T08:25:34.385953",
     "start_time": "2017-09-30T08:25:34.376217"
    },
    "collapsed": false,
    "run_control": {
     "frozen": false,
     "read_only": false
    }
   },
   "outputs": [
    {
     "data": {
      "text/plain": [
       "array([[ 2.06357923,  0.35237616,  1.00021747],\n",
       "       [ 0.33484012,  0.47233811,  0.07292619]])"
      ]
     },
     "execution_count": 69,
     "metadata": {},
     "output_type": "execute_result"
    }
   ],
   "source": [
    "multiDArray[2:4, :3]"
   ]
  },
  {
   "cell_type": "markdown",
   "metadata": {
    "run_control": {
     "frozen": false,
     "read_only": false
    }
   },
   "source": [
    "# PART 3: Functions"
   ]
  },
  {
   "cell_type": "code",
   "execution_count": 70,
   "metadata": {
    "ExecuteTime": {
     "end_time": "2017-09-30T08:25:35.167590",
     "start_time": "2017-09-30T08:25:35.163708"
    },
    "collapsed": true,
    "run_control": {
     "frozen": false,
     "read_only": false
    }
   },
   "outputs": [],
   "source": [
    "def myHelloWorld(name=''):\n",
    "    '''prints hello world\n",
    "    arguments\n",
    "        name: your name (optional)\n",
    "    '''\n",
    "    print (\"Hello World\")"
   ]
  },
  {
   "cell_type": "code",
   "execution_count": 71,
   "metadata": {
    "ExecuteTime": {
     "end_time": "2017-09-30T08:25:35.247681",
     "start_time": "2017-09-30T08:25:35.191107"
    },
    "collapsed": false,
    "hide_input": false,
    "run_control": {
     "frozen": false,
     "read_only": false
    }
   },
   "outputs": [],
   "source": [
    "#this will print your docstring!\n",
    "myHelloWorld?"
   ]
  },
  {
   "cell_type": "code",
   "execution_count": 72,
   "metadata": {
    "ExecuteTime": {
     "end_time": "2017-09-30T08:25:35.265370",
     "start_time": "2017-09-30T08:25:35.251357"
    },
    "collapsed": true,
    "hide_input": true,
    "run_control": {
     "frozen": false,
     "read_only": false
    }
   },
   "outputs": [],
   "source": [
    "def extractReverseEvenValues(dataarr):\n",
    "    '''Extracts only even values from an array\n",
    "    arguments:\n",
    "        an array of int or float numbers\n",
    "    '''\n",
    "    #check if the input is an array as it should be\n",
    "    if type(dataarr) == np.ndarray:\n",
    "        evens = dataarr[dataarr % 2 == 0]\n",
    "        return dataarr[-1::-1]\n",
    "    print(\"You should have passed an array\")\n",
    "    return -1"
   ]
  },
  {
   "cell_type": "markdown",
   "metadata": {
    "run_control": {
     "frozen": false,
     "read_only": false
    }
   },
   "source": [
    "** Functions can take different types of arguments. ** \n",
    "The function below needs at least one argument, aString\n",
    "\n",
    "a second argument can be passed, but if it is omitted the function still works, and uses the default values as per declaration (3 in this case)"
   ]
  },
  {
   "cell_type": "code",
   "execution_count": 73,
   "metadata": {
    "ExecuteTime": {
     "end_time": "2017-09-30T08:25:36.071366",
     "start_time": "2017-09-30T08:25:36.067932"
    },
    "collapsed": true,
    "run_control": {
     "frozen": false,
     "read_only": false
    }
   },
   "outputs": [],
   "source": [
    "def myOtherFunc(aString, aInt = 3):\n",
    "    '''Concatenates a string to itself\n",
    "    Arguments:\n",
    "        aString: string. The string to be concatenated\n",
    "        aInt: (optional) integer. The number of times to duplicate the string\n",
    "    Returns:\n",
    "        the concatenated string\n",
    "    '''\n",
    "    return aString * aInt"
   ]
  },
  {
   "cell_type": "code",
   "execution_count": 74,
   "metadata": {
    "ExecuteTime": {
     "end_time": "2017-09-30T08:25:36.110415",
     "start_time": "2017-09-30T08:25:36.085736"
    },
    "collapsed": false,
    "run_control": {
     "frozen": false,
     "read_only": false
    }
   },
   "outputs": [
    {
     "ename": "TypeError",
     "evalue": "myOtherFunc() takes at least 1 argument (0 given)",
     "output_type": "error",
     "traceback": [
      "\u001b[0;31m---------------------------------------------------------------------------\u001b[0m",
      "\u001b[0;31mTypeError\u001b[0m                                 Traceback (most recent call last)",
      "\u001b[0;32m<ipython-input-74-3f8ae69cc934>\u001b[0m in \u001b[0;36m<module>\u001b[0;34m()\u001b[0m\n\u001b[0;32m----> 1\u001b[0;31m \u001b[0mmyOtherFunc\u001b[0m\u001b[0;34m(\u001b[0m\u001b[0;34m)\u001b[0m\u001b[0;34m\u001b[0m\u001b[0m\n\u001b[0m",
      "\u001b[0;31mTypeError\u001b[0m: myOtherFunc() takes at least 1 argument (0 given)"
     ]
    }
   ],
   "source": [
    "myOtherFunc()"
   ]
  },
  {
   "cell_type": "code",
   "execution_count": 140,
   "metadata": {
    "ExecuteTime": {
     "end_time": "2017-09-30T13:40:31.825848",
     "start_time": "2017-09-30T13:40:31.818873"
    },
    "collapsed": false,
    "run_control": {
     "frozen": false,
     "read_only": false
    }
   },
   "outputs": [
    {
     "data": {
      "text/plain": [
       "'HelloHelloHello'"
      ]
     },
     "execution_count": 140,
     "metadata": {},
     "output_type": "execute_result"
    }
   ],
   "source": [
    "myOtherFunc('Hello')"
   ]
  },
  {
   "cell_type": "code",
   "execution_count": 141,
   "metadata": {
    "ExecuteTime": {
     "end_time": "2017-09-30T13:40:32.623455",
     "start_time": "2017-09-30T13:40:32.617662"
    },
    "collapsed": false,
    "run_control": {
     "frozen": false,
     "read_only": false
    }
   },
   "outputs": [
    {
     "data": {
      "text/plain": [
       "'HelloHelloHelloHelloHello'"
      ]
     },
     "execution_count": 141,
     "metadata": {},
     "output_type": "execute_result"
    }
   ],
   "source": [
    "myOtherFunc('Hello', aInt = 5)"
   ]
  },
  {
   "cell_type": "code",
   "execution_count": 142,
   "metadata": {
    "ExecuteTime": {
     "end_time": "2017-09-30T13:40:33.422895",
     "start_time": "2017-09-30T13:40:33.413897"
    },
    "collapsed": false,
    "hide_input": true,
    "run_control": {
     "frozen": false,
     "read_only": false
    }
   },
   "outputs": [
    {
     "name": "stdout",
     "output_type": "stream",
     "text": [
      "here is the function definition\n"
     ]
    }
   ],
   "source": [
    "def extractReverseEvenValues(dataArr):\n",
    "    '''extract and reverses even values from an array\n",
    "    arguments:\n",
    "        dataArr: a numpy 1D array of size>0\n",
    "    '''\n",
    "    if not type(dataArr) == np.ndarray:\n",
    "        print (\"you should have passed an array\")\n",
    "        return -1\n",
    "    return dataArr[dataArr % 2 == 0][::-1]\n",
    "print (\"here is the function definition\")"
   ]
  },
  {
   "cell_type": "code",
   "execution_count": 143,
   "metadata": {
    "ExecuteTime": {
     "end_time": "2017-09-30T13:40:41.265114",
     "start_time": "2017-09-30T13:40:41.256036"
    },
    "collapsed": false,
    "hide_input": false,
    "run_control": {
     "frozen": false,
     "read_only": false
    }
   },
   "outputs": [
    {
     "data": {
      "text/plain": [
       "array([9, 7, 5, 3, 1])"
      ]
     },
     "execution_count": 143,
     "metadata": {},
     "output_type": "execute_result"
    }
   ],
   "source": [
    "extracted = extractReverseEvenValues(np.arange(0,10,2))\n",
    "if type(extracted) == np.ndarray :\n",
    "    newDataArr = extracted + 1\n",
    "newDataArr    "
   ]
  },
  {
   "cell_type": "code",
   "execution_count": 144,
   "metadata": {
    "ExecuteTime": {
     "end_time": "2017-09-30T13:40:52.847181",
     "start_time": "2017-09-30T13:40:52.840265"
    },
    "collapsed": false,
    "run_control": {
     "frozen": false,
     "read_only": false
    }
   },
   "outputs": [
    {
     "name": "stdout",
     "output_type": "stream",
     "text": [
      "you should have passed an array\n"
     ]
    },
    {
     "data": {
      "text/plain": [
       "-1"
      ]
     },
     "execution_count": 144,
     "metadata": {},
     "output_type": "execute_result"
    }
   ],
   "source": [
    "extractReverseEvenValues(3)"
   ]
  },
  {
   "cell_type": "code",
   "execution_count": 145,
   "metadata": {
    "ExecuteTime": {
     "end_time": "2017-09-30T13:40:53.372314",
     "start_time": "2017-09-30T13:40:53.365286"
    },
    "collapsed": false,
    "run_control": {
     "frozen": false,
     "read_only": false
    }
   },
   "outputs": [
    {
     "name": "stdout",
     "output_type": "stream",
     "text": [
      "you should have passed an array\n"
     ]
    },
    {
     "data": {
      "text/plain": [
       "-1"
      ]
     },
     "execution_count": 145,
     "metadata": {},
     "output_type": "execute_result"
    }
   ],
   "source": [
    "extractReverseEvenValues([0,2,1])"
   ]
  },
  {
   "cell_type": "markdown",
   "metadata": {
    "run_control": {
     "frozen": false,
     "read_only": false
    }
   },
   "source": [
    "** EXERCISE**\n",
    " - create a function that takes a string\n",
    " - checks if the string is a palindrome\n",
    " - returns 1 if true\n",
    " - return -1 if false\n",
    " - and also prints \"Yes its a palindrome\" \n",
    " - or \"this is not a palindrome\"\n",
    " - if you finish early add a print statement that prints  ONLY the unique part (rad in radar)\n",
    "\n",
    "I wrote mine in a python file names ispalindrome.py and I can import it from it and run it (see below)"
   ]
  },
  {
   "cell_type": "code",
   "execution_count": 154,
   "metadata": {
    "ExecuteTime": {
     "end_time": "2017-09-30T14:04:48.965365",
     "start_time": "2017-09-30T14:04:48.940378"
    },
    "collapsed": false,
    "run_control": {
     "frozen": false,
     "read_only": false
    }
   },
   "outputs": [
    {
     "ename": "TypeError",
     "evalue": "lookForPal() takes exactly 1 argument (0 given)",
     "output_type": "error",
     "traceback": [
      "\u001b[0;31m---------------------------------------------------------------------------\u001b[0m",
      "\u001b[0;31mTypeError\u001b[0m                                 Traceback (most recent call last)",
      "\u001b[0;32m<ipython-input-154-5886a5001922>\u001b[0m in \u001b[0;36m<module>\u001b[0;34m()\u001b[0m\n\u001b[1;32m      3\u001b[0m \u001b[0;32mimport\u001b[0m \u001b[0mispalindrome\u001b[0m \u001b[0;32mas\u001b[0m \u001b[0mipl\u001b[0m\u001b[0;34m\u001b[0m\u001b[0m\n\u001b[1;32m      4\u001b[0m \u001b[0mreload\u001b[0m\u001b[0;34m(\u001b[0m\u001b[0mipl\u001b[0m\u001b[0;34m)\u001b[0m\u001b[0;34m\u001b[0m\u001b[0m\n\u001b[0;32m----> 5\u001b[0;31m \u001b[0mipl\u001b[0m\u001b[0;34m.\u001b[0m\u001b[0mlookForPal\u001b[0m\u001b[0;34m(\u001b[0m\u001b[0;34m)\u001b[0m\u001b[0;34m\u001b[0m\u001b[0m\n\u001b[0m",
      "\u001b[0;31mTypeError\u001b[0m: lookForPal() takes exactly 1 argument (0 given)"
     ]
    }
   ],
   "source": [
    "from ispalindrome import lookForPal\n",
    "\n",
    "import ispalindrome as ipl\n",
    "reload(ipl)\n",
    "ipl.lookForPal()"
   ]
  },
  {
   "cell_type": "code",
   "execution_count": 158,
   "metadata": {
    "ExecuteTime": {
     "end_time": "2017-09-30T14:07:18.121881",
     "start_time": "2017-09-30T14:07:18.115864"
    },
    "collapsed": false
   },
   "outputs": [
    {
     "data": {
      "text/plain": [
       "'Hannah'"
      ]
     },
     "execution_count": 158,
     "metadata": {},
     "output_type": "execute_result"
    }
   ],
   "source": [
    "hanna = 'Hann,ah,.:,'\n",
    "for c in ',.:;':\n",
    "    hanna = hanna.replace(c,'')\n",
    "hanna"
   ]
  },
  {
   "cell_type": "code",
   "execution_count": 76,
   "metadata": {
    "ExecuteTime": {
     "end_time": "2017-09-30T08:25:37.088453",
     "start_time": "2017-09-30T08:25:37.081658"
    },
    "collapsed": false,
    "run_control": {
     "frozen": false,
     "read_only": false
    }
   },
   "outputs": [
    {
     "name": "stdout",
     "output_type": "stream",
     "text": [
      "('Yes its a palindrome', 'Han')\n"
     ]
    },
    {
     "data": {
      "text/plain": [
       "1"
      ]
     },
     "execution_count": 76,
     "metadata": {},
     "output_type": "execute_result"
    }
   ],
   "source": [
    "lookForPal('Hannah')"
   ]
  },
  {
   "cell_type": "code",
   "execution_count": 162,
   "metadata": {
    "ExecuteTime": {
     "end_time": "2017-09-30T14:12:43.325071",
     "start_time": "2017-09-30T14:12:43.317255"
    },
    "collapsed": false
   },
   "outputs": [
    {
     "data": {
      "text/plain": [
       "4"
      ]
     },
     "execution_count": 162,
     "metadata": {},
     "output_type": "execute_result"
    }
   ],
   "source": [
    "int(3.9 + 0.5)"
   ]
  },
  {
   "cell_type": "code",
   "execution_count": 77,
   "metadata": {
    "ExecuteTime": {
     "end_time": "2017-09-30T08:25:37.107651",
     "start_time": "2017-09-30T08:25:37.100633"
    },
    "collapsed": false,
    "run_control": {
     "frozen": false,
     "read_only": false
    }
   },
   "outputs": [
    {
     "name": "stdout",
     "output_type": "stream",
     "text": [
      "('Yes its a palindrome', 'rad')\n"
     ]
    },
    {
     "data": {
      "text/plain": [
       "1"
      ]
     },
     "execution_count": 77,
     "metadata": {},
     "output_type": "execute_result"
    }
   ],
   "source": [
    "lookForPal('radar')"
   ]
  },
  {
   "cell_type": "code",
   "execution_count": 78,
   "metadata": {
    "ExecuteTime": {
     "end_time": "2017-09-30T08:25:37.202946",
     "start_time": "2017-09-30T08:25:37.189022"
    },
    "collapsed": false,
    "run_control": {
     "frozen": false,
     "read_only": false
    }
   },
   "outputs": [
    {
     "name": "stdout",
     "output_type": "stream",
     "text": [
      "this is not a palindrome\n"
     ]
    },
    {
     "data": {
      "text/plain": [
       "-1"
      ]
     },
     "execution_count": 78,
     "metadata": {},
     "output_type": "execute_result"
    }
   ],
   "source": [
    "lookForPal('whatever')"
   ]
  },
  {
   "cell_type": "markdown",
   "metadata": {
    "run_control": {
     "frozen": false,
     "read_only": false
    }
   },
   "source": [
    "# file IO  \n",
    "more on this topic in [this notebook](readingData.ipynb), and [this one which uses pandas](PandasDataWrangling-Chap7.ipynb)"
   ]
  },
  {
   "cell_type": "markdown",
   "metadata": {
    "run_control": {
     "frozen": false,
     "read_only": false
    }
   },
   "source": [
    "I am going to create a file that contains 10 rows, each saying \"0 1 2 3 4 5 6 7 8 9\""
   ]
  },
  {
   "cell_type": "code",
   "execution_count": 79,
   "metadata": {
    "ExecuteTime": {
     "end_time": "2017-09-30T08:25:39.045688",
     "start_time": "2017-09-30T08:25:39.033587"
    },
    "collapsed": false,
    "run_control": {
     "frozen": false,
     "read_only": false
    }
   },
   "outputs": [],
   "source": [
    "fout = open(\"temp.txt\", \"w\")\n",
    "\n",
    "for i in range(10):\n",
    "    for j in range(10):\n",
    "        print(j, \" \", end=\"\", file=fout)\n",
    "    print(\"\", file=fout)\n",
    "\n",
    "fout.close()"
   ]
  },
  {
   "cell_type": "markdown",
   "metadata": {
    "collapsed": true,
    "run_control": {
     "frozen": false,
     "read_only": false
    }
   },
   "source": [
    "Below I read the file with the readlines() file method, which returns a single string for every line\n",
    "\n",
    "and I use string methods and conversions to store the numbers in a 1D array"
   ]
  },
  {
   "cell_type": "code",
   "execution_count": 174,
   "metadata": {
    "ExecuteTime": {
     "end_time": "2017-09-30T14:18:33.194003",
     "start_time": "2017-09-30T14:18:33.181652"
    },
    "collapsed": false,
    "run_control": {
     "frozen": false,
     "read_only": false
    }
   },
   "outputs": [
    {
     "name": "stdout",
     "output_type": "stream",
     "text": [
      "['0', '1', '2', '3', '4', '5', '6', '7', '8', '9']\n",
      "0 <type 'str'>\n",
      "1 <type 'str'>\n",
      "2 <type 'str'>\n",
      "3 <type 'str'>\n",
      "4 <type 'str'>\n",
      "5 <type 'str'>\n",
      "6 <type 'str'>\n",
      "7 <type 'str'>\n",
      "8 <type 'str'>\n",
      "9 <type 'str'>\n",
      "['0', '1', '2', '3', '4', '5', '6', '7', '8', '9']\n",
      "0 <type 'str'>\n",
      "1 <type 'str'>\n",
      "2 <type 'str'>\n",
      "3 <type 'str'>\n",
      "4 <type 'str'>\n",
      "5 <type 'str'>\n",
      "6 <type 'str'>\n",
      "7 <type 'str'>\n",
      "8 <type 'str'>\n",
      "9 <type 'str'>\n",
      "['0', '1', '2', '3', '4', '5', '6', '7', '8', '9']\n",
      "0 <type 'str'>\n",
      "1 <type 'str'>\n",
      "2 <type 'str'>\n",
      "3 <type 'str'>\n",
      "4 <type 'str'>\n",
      "5 <type 'str'>\n",
      "6 <type 'str'>\n",
      "7 <type 'str'>\n",
      "8 <type 'str'>\n",
      "9 <type 'str'>\n",
      "['0', '1', '2', '3', '4', '5', '6', '7', '8', '9']\n",
      "0 <type 'str'>\n",
      "1 <type 'str'>\n",
      "2 <type 'str'>\n",
      "3 <type 'str'>\n",
      "4 <type 'str'>\n",
      "5 <type 'str'>\n",
      "6 <type 'str'>\n",
      "7 <type 'str'>\n",
      "8 <type 'str'>\n",
      "9 <type 'str'>\n",
      "['0', '1', '2', '3', '4', '5', '6', '7', '8', '9']\n",
      "0 <type 'str'>\n",
      "1 <type 'str'>\n",
      "2 <type 'str'>\n",
      "3 <type 'str'>\n",
      "4 <type 'str'>\n",
      "5 <type 'str'>\n",
      "6 <type 'str'>\n",
      "7 <type 'str'>\n",
      "8 <type 'str'>\n",
      "9 <type 'str'>\n",
      "['0', '1', '2', '3', '4', '5', '6', '7', '8', '9']\n",
      "0 <type 'str'>\n",
      "1 <type 'str'>\n",
      "2 <type 'str'>\n",
      "3 <type 'str'>\n",
      "4 <type 'str'>\n",
      "5 <type 'str'>\n",
      "6 <type 'str'>\n",
      "7 <type 'str'>\n",
      "8 <type 'str'>\n",
      "9 <type 'str'>\n",
      "['0', '1', '2', '3', '4', '5', '6', '7', '8', '9']\n",
      "0 <type 'str'>\n",
      "1 <type 'str'>\n",
      "2 <type 'str'>\n",
      "3 <type 'str'>\n",
      "4 <type 'str'>\n",
      "5 <type 'str'>\n",
      "6 <type 'str'>\n",
      "7 <type 'str'>\n",
      "8 <type 'str'>\n",
      "9 <type 'str'>\n",
      "['0', '1', '2', '3', '4', '5', '6', '7', '8', '9']\n",
      "0 <type 'str'>\n",
      "1 <type 'str'>\n",
      "2 <type 'str'>\n",
      "3 <type 'str'>\n",
      "4 <type 'str'>\n",
      "5 <type 'str'>\n",
      "6 <type 'str'>\n",
      "7 <type 'str'>\n",
      "8 <type 'str'>\n",
      "9 <type 'str'>\n",
      "['0', '1', '2', '3', '4', '5', '6', '7', '8', '9']\n",
      "0 <type 'str'>\n",
      "1 <type 'str'>\n",
      "2 <type 'str'>\n",
      "3 <type 'str'>\n",
      "4 <type 'str'>\n",
      "5 <type 'str'>\n",
      "6 <type 'str'>\n",
      "7 <type 'str'>\n",
      "8 <type 'str'>\n",
      "9 <type 'str'>\n",
      "['0', '1', '2', '3', '4', '5', '6', '7', '8', '9']\n",
      "0 <type 'str'>\n",
      "1 <type 'str'>\n",
      "2 <type 'str'>\n",
      "3 <type 'str'>\n",
      "4 <type 'str'>\n",
      "5 <type 'str'>\n",
      "6 <type 'str'>\n",
      "7 <type 'str'>\n",
      "8 <type 'str'>\n",
      "9 <type 'str'>\n"
     ]
    }
   ],
   "source": [
    "tmpList = []\n",
    "\n",
    "fin = open(\"temp.txt\", \"r\")\n",
    "for ln in fin.readlines():\n",
    "    print (ln.split())\n",
    "    for dig in ln.split():\n",
    "        print (dig, type(dig))\n",
    "        tmpList.append(int(dig))\n"
   ]
  },
  {
   "cell_type": "code",
   "execution_count": 170,
   "metadata": {
    "ExecuteTime": {
     "end_time": "2017-09-30T14:17:10.514249",
     "start_time": "2017-09-30T14:17:10.500801"
    },
    "collapsed": false,
    "run_control": {
     "frozen": false,
     "read_only": false
    },
    "scrolled": true
   },
   "outputs": [
    {
     "data": {
      "text/plain": [
       "array([0, 1, 2, 3, 4, 5, 6, 7, 8, 9, 0, 1, 2, 3, 4, 5, 6, 7, 8, 9, 0, 1, 2,\n",
       "       3, 4, 5, 6, 7, 8, 9, 0, 1, 2, 3, 4, 5, 6, 7, 8, 9, 0, 1, 2, 3, 4, 5,\n",
       "       6, 7, 8, 9, 0, 1, 2, 3, 4, 5, 6, 7, 8, 9, 0, 1, 2, 3, 4, 5, 6, 7, 8,\n",
       "       9, 0, 1, 2, 3, 4, 5, 6, 7, 8, 9, 0, 1, 2, 3, 4, 5, 6, 7, 8, 9, 0, 1,\n",
       "       2, 3, 4, 5, 6, 7, 8, 9])"
      ]
     },
     "execution_count": 170,
     "metadata": {},
     "output_type": "execute_result"
    }
   ],
   "source": [
    "tmpList = np.array(tmpList)\n",
    "tmpList"
   ]
  },
  {
   "cell_type": "markdown",
   "metadata": {
    "collapsed": false,
    "run_control": {
     "frozen": false,
     "read_only": false
    }
   },
   "source": [
    "# PART 4: multi dimensional arrays"
   ]
  },
  {
   "cell_type": "markdown",
   "metadata": {
    "collapsed": false,
    "run_control": {
     "frozen": false,
     "read_only": false
    }
   },
   "source": [
    "** EXERCISE:**\n",
    " - download the npy files from the bootcamp github repo into the pwd (present working directory)\n"
   ]
  },
  {
   "cell_type": "code",
   "execution_count": 82,
   "metadata": {
    "ExecuteTime": {
     "end_time": "2017-09-30T08:25:42.487485",
     "start_time": "2017-09-30T08:25:41.947958"
    },
    "collapsed": false,
    "run_control": {
     "frozen": false,
     "read_only": false
    }
   },
   "outputs": [
    {
     "name": "stdout",
     "output_type": "stream",
     "text": [
      "  % Total    % Received % Xferd  Average Speed   Time    Time     Time  Current\n",
      "                                 Dload  Upload   Total   Spent    Left  Speed\n",
      "100   240  100   240    0     0   1570      0 --:--:-- --:--:-- --:--:--  2000\n",
      "  % Total    % Received % Xferd  Average Speed   Time    Time     Time  Current\n",
      "                                 Dload  Upload   Total   Spent    Left  Speed\n",
      "100  1680  100  1680    0     0  16403      0 --:--:-- --:--:-- --:--:-- 16969\n"
     ]
    }
   ],
   "source": [
    "!curl -O https://raw.githubusercontent.com/fedhere/PyBOOT/master/busBusses.npy\n",
    "!curl -O https://raw.githubusercontent.com/fedhere/PyBOOT/master/busTimeTable.npy"
   ]
  },
  {
   "cell_type": "markdown",
   "metadata": {
    "run_control": {
     "frozen": false,
     "read_only": false
    }
   },
   "source": [
    "-  the files are numpy arrays stored as binary objects. You can load them with the function np.load()"
   ]
  },
  {
   "cell_type": "code",
   "execution_count": 175,
   "metadata": {
    "ExecuteTime": {
     "end_time": "2017-09-30T14:23:48.691555",
     "start_time": "2017-09-30T14:23:48.687421"
    },
    "collapsed": false,
    "run_control": {
     "frozen": false,
     "read_only": false
    }
   },
   "outputs": [],
   "source": [
    "tt = np.load(\"busTimeTable.npy\")"
   ]
  },
  {
   "cell_type": "code",
   "execution_count": 176,
   "metadata": {
    "ExecuteTime": {
     "end_time": "2017-09-30T14:23:50.145913",
     "start_time": "2017-09-30T14:23:50.140470"
    },
    "collapsed": true,
    "run_control": {
     "frozen": false,
     "read_only": false
    }
   },
   "outputs": [],
   "source": [
    "busses = np.load(\"busBusses.npy\")"
   ]
  },
  {
   "cell_type": "code",
   "execution_count": 177,
   "metadata": {
    "ExecuteTime": {
     "end_time": "2017-09-30T14:23:50.528670",
     "start_time": "2017-09-30T14:23:50.522164"
    },
    "collapsed": false,
    "run_control": {
     "frozen": false,
     "read_only": false
    }
   },
   "outputs": [
    {
     "data": {
      "text/plain": [
       "array([ 77,  72,  79,  97,  85,  57,  86,  96,  31,  76,  33,  98, 109,\n",
       "       108,  52,  92,  58,  94,  66, 104])"
      ]
     },
     "execution_count": 177,
     "metadata": {},
     "output_type": "execute_result"
    }
   ],
   "source": [
    "busses"
   ]
  },
  {
   "cell_type": "code",
   "execution_count": 178,
   "metadata": {
    "ExecuteTime": {
     "end_time": "2017-09-30T14:23:51.413169",
     "start_time": "2017-09-30T14:23:51.407966"
    },
    "collapsed": false,
    "run_control": {
     "frozen": false,
     "read_only": false
    }
   },
   "outputs": [
    {
     "data": {
      "text/plain": [
       "(20, 10)"
      ]
     },
     "execution_count": 178,
     "metadata": {},
     "output_type": "execute_result"
    }
   ],
   "source": [
    "tt.shape"
   ]
  },
  {
   "cell_type": "code",
   "execution_count": 87,
   "metadata": {
    "ExecuteTime": {
     "end_time": "2017-09-30T08:25:43.952823",
     "start_time": "2017-09-30T08:25:43.948476"
    },
    "collapsed": true,
    "run_control": {
     "frozen": false,
     "read_only": false
    }
   },
   "outputs": [],
   "source": [
    "hours = range(1,11)"
   ]
  },
  {
   "cell_type": "code",
   "execution_count": 88,
   "metadata": {
    "ExecuteTime": {
     "end_time": "2017-09-30T08:25:43.982315",
     "start_time": "2017-09-30T08:25:43.974834"
    },
    "collapsed": false,
    "run_control": {
     "frozen": false,
     "read_only": false
    }
   },
   "outputs": [
    {
     "data": {
      "text/plain": [
       "[1, 2, 3, 4, 5, 6, 7, 8, 9, 10]"
      ]
     },
     "execution_count": 88,
     "metadata": {},
     "output_type": "execute_result"
    }
   ],
   "source": [
    "hours"
   ]
  },
  {
   "cell_type": "markdown",
   "metadata": {
    "run_control": {
     "frozen": false,
     "read_only": false
    }
   },
   "source": [
    "this is a made-up but time table indicating the duration of trips for different busses at different times of the day\n",
    "\n",
    "below I print it in an orderly form\n"
   ]
  },
  {
   "cell_type": "code",
   "execution_count": 89,
   "metadata": {
    "ExecuteTime": {
     "end_time": "2017-09-30T08:25:45.155595",
     "start_time": "2017-09-30T08:25:45.131584"
    },
    "collapsed": false,
    "run_control": {
     "frozen": false,
     "read_only": false
    }
   },
   "outputs": [
    {
     "name": "stdout",
     "output_type": "stream",
     "text": [
      "      1 PM    2 PM    3 PM    4 PM    5 PM    6 PM    7 PM    8 PM    9 PM   10 PM \n",
      "BUS\n",
      " 77   91.83   72.99   96.74   73.41   85.58  101.38   96.98   95.56   77.87   78.38 \n",
      "\n",
      " 72   61.03   60.00   67.86   41.11   53.38   36.92   53.63   55.74   58.57   54.99 \n",
      "\n",
      " 79   60.98   45.56   45.88   66.16   60.03   50.85   45.38   53.81   54.55   60.64 \n",
      "\n",
      " 97   87.99   55.80   81.03   66.19   53.30   67.56   74.38   71.14   87.67   67.10 \n",
      "\n",
      " 85   73.81   79.26   86.31   99.78   90.29   84.38   95.84   84.51   97.12  105.18 \n",
      "\n",
      " 57   77.14   71.12   52.12   73.46   91.37   72.87   68.71   72.43   61.80   72.27 \n",
      "\n",
      " 86   86.31  102.23  113.02   95.70   98.60  114.93  104.41  105.50   93.36   98.78 \n",
      "\n",
      " 96   74.71   80.97   89.16   70.23   81.43   78.39   78.97   72.11   55.52   79.02 \n",
      "\n",
      " 31   77.93   92.78   69.31   61.53   70.65   76.98   73.42   84.09   63.37   67.99 \n",
      "\n",
      " 76   49.24   67.66   61.20   51.40   44.91   68.52   78.97   52.58   53.75   54.37 \n",
      "\n",
      " 33   59.19   70.38   48.61   81.46   64.85   65.33   58.19   61.38   57.04   59.64 \n",
      "\n",
      " 98   75.13  106.12   85.74   85.39   67.69   78.10   85.18   81.00   87.66   86.53 \n",
      "\n",
      "109   63.76   53.37   71.00   77.82   62.04   56.34   68.85   55.82   68.09   72.11 \n",
      "\n",
      "108   15.59   33.19   35.27   30.91   56.01   32.58   46.42   42.83   43.28   49.38 \n",
      "\n",
      " 52   46.17   81.32   75.50   65.69   56.53   56.32   49.76   56.47   65.88   61.13 \n",
      "\n",
      " 92   77.28   76.30   73.31   96.06   89.29   87.50   65.51   85.01   83.02   70.12 \n",
      "\n",
      " 58   60.22   51.25   29.72   47.60   61.08   58.56   40.75   54.98   52.92   44.26 \n",
      "\n",
      " 94   48.79   61.22   60.92   60.84   53.31   53.76   52.21   65.25   18.22   66.65 \n",
      "\n",
      " 66   71.92   80.80   67.86   61.05   58.18   66.40   77.43   74.97   69.20   80.85 \n",
      "\n",
      "104   78.79   89.46   70.65   58.27   68.58   89.97   66.60   65.80   70.80   75.61 \n",
      "\n"
     ]
    }
   ],
   "source": [
    "def printBusTable(times, i):\n",
    "    print(\"{:>3d} \".format(busses[i]), end=\"\")\n",
    "    for j in times[i]:\n",
    "        print(\"{:>7.2f} \".format(j), end=\"\")\n",
    "    print(\"\\n\")\n",
    "\n",
    "print(\"{:>3}\".format(\"\"), end=\"\")\n",
    "\n",
    "for k in range(10):\n",
    "    print(\"{:>4} PM \".format(hours[k]), end=\"\")\n",
    "print(\"\")\n",
    "\n",
    "print(\"{:>3}\".format(\"BUS\"), end=\"\")\n",
    "print(\"\")\n",
    "\n",
    "for k in range(20):\n",
    "    printBusTable(tt, k)"
   ]
  },
  {
   "cell_type": "markdown",
   "metadata": {
    "run_control": {
     "frozen": false,
     "read_only": false
    }
   },
   "source": [
    "you can take the mean of all travel times with the mean method of the array\n",
    "(for the rest of this exercise I will take care of writing out nicely formatted sentences)"
   ]
  },
  {
   "cell_type": "code",
   "execution_count": 90,
   "metadata": {
    "ExecuteTime": {
     "end_time": "2017-09-30T08:25:46.238514",
     "start_time": "2017-09-30T08:25:46.233068"
    },
    "collapsed": false,
    "hide_input": true,
    "run_control": {
     "frozen": false,
     "read_only": false
    }
   },
   "outputs": [
    {
     "name": "stdout",
     "output_type": "stream",
     "text": [
      "mean time 68.88 minutes for all busses at any time\n"
     ]
    }
   ],
   "source": [
    "print(\"mean time {:.2f} minutes for all busses at any time\".format(tt.mean()))"
   ]
  },
  {
   "cell_type": "markdown",
   "metadata": {
    "run_control": {
     "frozen": false,
     "read_only": false
    }
   },
   "source": [
    "** EXERCISE:**\n",
    "you have travel time for 20 busses at 10 hours of the day, 1PM through 10PM\n",
    "\n",
    "the names of the busses are stored in busses (busBusses.npy)\n",
    "\n",
    "the hours of the day are stored in hours (hours = range(1, 11))\n",
    "\n",
    "the travel times are in tt (busTimeTable.npy)\n",
    "\n",
    "- find the hour (1PM to 10PM) of the day when on average it takes the longest to ride \n",
    "\n",
    "- find the bus that takes the longest to ride on average (averaged over all hours of the day)\n",
    "\n",
    "- print the name of the bus that takes the longest \n",
    "\n",
    "- hour of the day when it takes the longest"
   ]
  },
  {
   "cell_type": "markdown",
   "metadata": {
    "run_control": {
     "frozen": false,
     "read_only": false
    }
   },
   "source": [
    "you can use: \n",
    "- the mean method of np arrays, e.g. tt.mean(axis = 0)\n",
    "- the maxmethod of np arrays, e.g. myarray.max()\n",
    "- broadcast the names and hours (but remember: that one is a list!) to extract the value corresonding to the location of max\n",
    "    \n"
   ]
  },
  {
   "cell_type": "code",
   "execution_count": 91,
   "metadata": {
    "ExecuteTime": {
     "end_time": "2017-09-30T08:25:48.416884",
     "start_time": "2017-09-30T08:25:48.409988"
    },
    "collapsed": false,
    "hide_input": true,
    "run_control": {
     "frozen": false,
     "read_only": false
    }
   },
   "outputs": [
    {
     "name": "stdout",
     "output_type": "stream",
     "text": [
      "[ 66.89079118  71.58962256  69.06093555  68.20293716  68.35553274\n",
      "  69.88235848  69.07994486  69.5488946   65.98370986  70.24985942]\n",
      "[  87.07284964   54.32223729   54.38554215   71.21568138   89.64702147\n",
      "   71.33018484  101.28441894   76.05122622   73.80479543   58.25958501\n",
      "   62.60818564   83.85318143   64.91983233   38.54594242   61.47842137\n",
      "   80.33921739   50.13357402   54.11684661   70.86680243   73.45362679]\n"
     ]
    }
   ],
   "source": [
    "#using the axis argumentI can choose to takethe averagealongrowsoralongcolumns\n",
    "print(tt.mean(axis = 0))\n",
    "print(tt.mean(axis = 1))"
   ]
  },
  {
   "cell_type": "code",
   "execution_count": 92,
   "metadata": {
    "ExecuteTime": {
     "end_time": "2017-09-30T08:25:48.443211",
     "start_time": "2017-09-30T08:25:48.428956"
    },
    "collapsed": false,
    "hide_input": true,
    "run_control": {
     "frozen": false,
     "read_only": false
    }
   },
   "outputs": [
    {
     "data": {
      "text/plain": [
       "array([False,  True, False, False, False, False, False, False, False, False], dtype=bool)"
      ]
     },
     "execution_count": 92,
     "metadata": {},
     "output_type": "execute_result"
    }
   ],
   "source": [
    "#with an == operator and the .max()method I can find the longest column, on average\n",
    "tt.mean(axis = 0) == tt.mean(axis = 0).max()"
   ]
  },
  {
   "cell_type": "code",
   "execution_count": 93,
   "metadata": {
    "ExecuteTime": {
     "end_time": "2017-09-30T08:25:48.465021",
     "start_time": "2017-09-30T08:25:48.456977"
    },
    "collapsed": false,
    "hide_input": true,
    "run_control": {
     "frozen": false,
     "read_only": false
    }
   },
   "outputs": [
    {
     "data": {
      "text/plain": [
       "array([False, False, False, False, False, False,  True, False, False,\n",
       "       False, False, False, False, False, False, False, False, False,\n",
       "       False, False], dtype=bool)"
      ]
     },
     "execution_count": 93,
     "metadata": {},
     "output_type": "execute_result"
    }
   ],
   "source": [
    "#with an == operator and the .max()method I can find the longest row, on average\n",
    "tt.mean(axis = 1) == tt.mean(axis = 1).max()"
   ]
  },
  {
   "cell_type": "code",
   "execution_count": 94,
   "metadata": {
    "ExecuteTime": {
     "end_time": "2017-09-30T08:25:48.500972",
     "start_time": "2017-09-30T08:25:48.475463"
    },
    "collapsed": false,
    "hide_input": true,
    "run_control": {
     "frozen": false,
     "read_only": false
    }
   },
   "outputs": [
    {
     "data": {
      "text/plain": [
       "array([86])"
      ]
     },
     "execution_count": 94,
     "metadata": {},
     "output_type": "execute_result"
    }
   ],
   "source": [
    "#broadcasting I can extract the corresponding bus and the corresponding time of the day\n",
    "busses[tt.mean(axis = 1) == tt.mean(axis = 1).max()]"
   ]
  },
  {
   "cell_type": "code",
   "execution_count": 95,
   "metadata": {
    "ExecuteTime": {
     "end_time": "2017-09-30T08:25:48.556141",
     "start_time": "2017-09-30T08:25:48.537486"
    },
    "collapsed": false,
    "hide_input": true,
    "run_control": {
     "frozen": false,
     "read_only": false
    }
   },
   "outputs": [
    {
     "name": "stdout",
     "output_type": "stream",
     "text": [
      "the bus that takes the longest is: BUS 86, which takes 101.28 minutes\n"
     ]
    }
   ],
   "source": [
    "meanByBus = tt.mean(axis = 1)\n",
    "print(\"the bus that takes the longest is: BUS {}, which takes {:.2f} minutes\"\\\n",
    "      .format(busses[meanByBus == meanByBus.max()][0], meanByBus.max()))"
   ]
  },
  {
   "cell_type": "code",
   "execution_count": 96,
   "metadata": {
    "ExecuteTime": {
     "end_time": "2017-09-30T08:25:48.672721",
     "start_time": "2017-09-30T08:25:48.663163"
    },
    "collapsed": false,
    "hide_input": true,
    "run_control": {
     "frozen": false,
     "read_only": false
    }
   },
   "outputs": [
    {
     "data": {
      "text/plain": [
       "array([2])"
      ]
     },
     "execution_count": 96,
     "metadata": {},
     "output_type": "execute_result"
    }
   ],
   "source": [
    "np.array(hours)[tt.mean(axis = 0) == tt.mean(axis = 0).max()]"
   ]
  },
  {
   "cell_type": "code",
   "execution_count": 97,
   "metadata": {
    "ExecuteTime": {
     "end_time": "2017-09-30T08:25:48.727582",
     "start_time": "2017-09-30T08:25:48.720613"
    },
    "collapsed": false,
    "hide_input": true,
    "run_control": {
     "frozen": false,
     "read_only": false
    }
   },
   "outputs": [
    {
     "name": "stdout",
     "output_type": "stream",
     "text": [
      "the time it takes the longest is: 2 PM, when the trip takes 71.59 minutes\n"
     ]
    }
   ],
   "source": [
    "meanByTime = tt.mean(axis = 0)\n",
    "print(\"the time it takes the longest is: {} PM, when the trip takes {:.2f} minutes\"\\\n",
    "      .format(np.array(hours)[meanByTime == meanByTime.max()][0], meanByTime.max()))"
   ]
  },
  {
   "cell_type": "markdown",
   "metadata": {
    "run_control": {
     "frozen": false,
     "read_only": false
    }
   },
   "source": [
    "# Part 5:  iterators - for loops, enumerate, and list comprehensions"
   ]
  },
  {
   "cell_type": "markdown",
   "metadata": {
    "run_control": {
     "frozen": false,
     "read_only": false
    }
   },
   "source": [
    "## for loops\n",
    "generally for loops should be avoided as much as possible in python because they are very inefficient computationally. Slicing and broadcasting can in many instances replace a for loop."
   ]
  },
  {
   "cell_type": "code",
   "execution_count": 98,
   "metadata": {
    "ExecuteTime": {
     "end_time": "2017-09-30T08:25:51.176320",
     "start_time": "2017-09-30T08:25:51.169702"
    },
    "collapsed": false,
    "run_control": {
     "frozen": false,
     "read_only": false
    }
   },
   "outputs": [
    {
     "name": "stdout",
     "output_type": "stream",
     "text": [
      "0\n",
      "1\n",
      "2\n",
      "3\n",
      "4\n",
      "5\n",
      "6\n",
      "7\n",
      "8\n",
      "9\n"
     ]
    }
   ],
   "source": [
    "for i in range(10):\n",
    "    print (i)"
   ]
  },
  {
   "cell_type": "code",
   "execution_count": 99,
   "metadata": {
    "ExecuteTime": {
     "end_time": "2017-09-30T08:25:51.202368",
     "start_time": "2017-09-30T08:25:51.192041"
    },
    "collapsed": false,
    "run_control": {
     "frozen": false,
     "read_only": false
    }
   },
   "outputs": [
    {
     "name": "stdout",
     "output_type": "stream",
     "text": [
      "keyFloat\n",
      "keyDict\n",
      "keyInt\n",
      "keyString\n"
     ]
    }
   ],
   "source": [
    "for k in dictVariable:\n",
    "    print (k)"
   ]
  },
  {
   "cell_type": "markdown",
   "metadata": {
    "run_control": {
     "frozen": false,
     "read_only": false
    }
   },
   "source": [
    "**Exercise:**\n",
    "create a calendar with nested for loops ([instructions](LoopExercise.ipynb))"
   ]
  },
  {
   "cell_type": "markdown",
   "metadata": {
    "run_control": {
     "frozen": false,
     "read_only": false
    }
   },
   "source": [
    "## enumerate\n",
    "the enumerate() python core function iterates over a container (list, array tuple, dictionary) and returns the iteration number and the iteration element"
   ]
  },
  {
   "cell_type": "code",
   "execution_count": 100,
   "metadata": {
    "ExecuteTime": {
     "end_time": "2017-09-30T08:25:54.299955",
     "start_time": "2017-09-30T08:25:54.292480"
    },
    "collapsed": false,
    "run_control": {
     "frozen": false,
     "read_only": false
    }
   },
   "outputs": [
    {
     "name": "stdout",
     "output_type": "stream",
     "text": [
      "0 a\n",
      "1 b\n",
      "2 c\n"
     ]
    }
   ],
   "source": [
    "for i,e in enumerate(['a','b','c']):\n",
    "    print (i,e)"
   ]
  },
  {
   "cell_type": "markdown",
   "metadata": {
    "run_control": {
     "frozen": false,
     "read_only": false
    }
   },
   "source": [
    "enumerate returns a tuple: above I split the tuple extracting the elements"
   ]
  },
  {
   "cell_type": "code",
   "execution_count": 101,
   "metadata": {
    "ExecuteTime": {
     "end_time": "2017-09-30T08:25:55.571201",
     "start_time": "2017-09-30T08:25:55.567478"
    },
    "collapsed": false,
    "run_control": {
     "frozen": false,
     "read_only": false
    }
   },
   "outputs": [
    {
     "name": "stdout",
     "output_type": "stream",
     "text": [
      "(0, 'a')\n",
      "(1, 'b')\n",
      "(2, 'c')\n"
     ]
    }
   ],
   "source": [
    "for t in enumerate(['a','b','c']):\n",
    "    print (t)"
   ]
  },
  {
   "cell_type": "code",
   "execution_count": 102,
   "metadata": {
    "ExecuteTime": {
     "end_time": "2017-09-30T08:25:55.607095",
     "start_time": "2017-09-30T08:25:55.593069"
    },
    "collapsed": false,
    "run_control": {
     "frozen": false,
     "read_only": false
    }
   },
   "outputs": [
    {
     "data": {
      "text/plain": [
       "(2, 'c')"
      ]
     },
     "execution_count": 102,
     "metadata": {},
     "output_type": "execute_result"
    }
   ],
   "source": [
    "#a tuple is an immutable list\n",
    "t"
   ]
  },
  {
   "cell_type": "code",
   "execution_count": 103,
   "metadata": {
    "ExecuteTime": {
     "end_time": "2017-09-30T08:25:55.647322",
     "start_time": "2017-09-30T08:25:55.615215"
    },
    "collapsed": false,
    "run_control": {
     "frozen": false,
     "read_only": false
    }
   },
   "outputs": [
    {
     "ename": "TypeError",
     "evalue": "'tuple' object does not support item assignment",
     "output_type": "error",
     "traceback": [
      "\u001b[0;31m---------------------------------------------------------------------------\u001b[0m",
      "\u001b[0;31mTypeError\u001b[0m                                 Traceback (most recent call last)",
      "\u001b[0;32m<ipython-input-103-0a69537257d5>\u001b[0m in \u001b[0;36m<module>\u001b[0;34m()\u001b[0m\n\u001b[0;32m----> 1\u001b[0;31m \u001b[0mt\u001b[0m\u001b[0;34m[\u001b[0m\u001b[0;36m0\u001b[0m\u001b[0;34m]\u001b[0m \u001b[0;34m=\u001b[0m \u001b[0;36m1\u001b[0m\u001b[0;34m\u001b[0m\u001b[0m\n\u001b[0m",
      "\u001b[0;31mTypeError\u001b[0m: 'tuple' object does not support item assignment"
     ]
    }
   ],
   "source": [
    "t[0] = 1"
   ]
  },
  {
   "cell_type": "markdown",
   "metadata": {
    "run_control": {
     "frozen": false,
     "read_only": false
    }
   },
   "source": [
    "**Exercise**"
   ]
  },
  {
   "cell_type": "markdown",
   "metadata": {
    "run_control": {
     "frozen": false,
     "read_only": false
    }
   },
   "source": [
    "- put the average times into a dictionary, with key the bus number, and value the average travel time for that bus\n",
    "- for loop in python iterate over lists, or arrays (or generally \"iterable objects\") extracting the content of each cell cell by cell\n",
    "- if i want both the content of the cell as well as its indext, enumerate does just that:\n",
    "- I use enumerate"
   ]
  },
  {
   "cell_type": "code",
   "execution_count": 104,
   "metadata": {
    "ExecuteTime": {
     "end_time": "2017-09-30T08:25:58.374653",
     "start_time": "2017-09-30T08:25:58.368491"
    },
    "collapsed": false,
    "run_control": {
     "frozen": false,
     "read_only": false
    }
   },
   "outputs": [
    {
     "name": "stdout",
     "output_type": "stream",
     "text": [
      "0 77\n",
      "1 72\n",
      "2 79\n",
      "3 97\n",
      "4 85\n",
      "5 57\n",
      "6 86\n",
      "7 96\n",
      "8 31\n",
      "9 76\n",
      "10 33\n",
      "11 98\n",
      "12 109\n",
      "13 108\n",
      "14 52\n",
      "15 92\n",
      "16 58\n",
      "17 94\n",
      "18 66\n",
      "19 104\n"
     ]
    }
   ],
   "source": [
    "for i, bus in enumerate(busses):\n",
    "    print(i,bus)"
   ]
  },
  {
   "cell_type": "code",
   "execution_count": 105,
   "metadata": {
    "ExecuteTime": {
     "end_time": "2017-09-30T08:25:58.398928",
     "start_time": "2017-09-30T08:25:58.391431"
    },
    "collapsed": false,
    "run_control": {
     "frozen": false,
     "read_only": false
    }
   },
   "outputs": [
    {
     "data": {
      "text/plain": [
       "array([ 77,  72,  79,  97,  85,  57,  86,  96,  31,  76,  33,  98, 109,\n",
       "       108,  52,  92,  58,  94,  66, 104])"
      ]
     },
     "execution_count": 105,
     "metadata": {},
     "output_type": "execute_result"
    }
   ],
   "source": [
    "busses"
   ]
  },
  {
   "cell_type": "code",
   "execution_count": 106,
   "metadata": {
    "ExecuteTime": {
     "end_time": "2017-09-30T08:25:58.419385",
     "start_time": "2017-09-30T08:25:58.414457"
    },
    "collapsed": false,
    "run_control": {
     "frozen": false,
     "read_only": false
    }
   },
   "outputs": [],
   "source": [
    "busdict = {}\n",
    "for i, bus in enumerate(busses):\n",
    "    busdict[bus] = tt[i].mean()"
   ]
  },
  {
   "cell_type": "code",
   "execution_count": 107,
   "metadata": {
    "ExecuteTime": {
     "end_time": "2017-09-30T08:25:58.441554",
     "start_time": "2017-09-30T08:25:58.429891"
    },
    "collapsed": false,
    "run_control": {
     "frozen": false,
     "read_only": false
    }
   },
   "outputs": [
    {
     "data": {
      "text/plain": [
       "{31: 73.804795431302225,\n",
       " 33: 62.608185642510435,\n",
       " 52: 61.47842136879526,\n",
       " 57: 71.3301848406592,\n",
       " 58: 50.133574020988704,\n",
       " 66: 70.866802429591885,\n",
       " 72: 54.322237288358494,\n",
       " 76: 58.2595850117266,\n",
       " 77: 87.072849638989027,\n",
       " 79: 54.385542147083335,\n",
       " 85: 89.647021472973876,\n",
       " 86: 101.28441893639999,\n",
       " 92: 80.339217393491566,\n",
       " 94: 54.11684660851904,\n",
       " 96: 76.051226218361322,\n",
       " 97: 71.215681380434305,\n",
       " 98: 83.853181431989469,\n",
       " 104: 73.453626788717543,\n",
       " 108: 38.545942424531958,\n",
       " 109: 64.919832326181549}"
      ]
     },
     "execution_count": 107,
     "metadata": {},
     "output_type": "execute_result"
    }
   ],
   "source": [
    "busdict"
   ]
  },
  {
   "cell_type": "markdown",
   "metadata": {
    "run_control": {
     "frozen": false,
     "read_only": false
    }
   },
   "source": [
    "lets put the index, bus number, and time average for that bus into a list"
   ]
  },
  {
   "cell_type": "code",
   "execution_count": 108,
   "metadata": {
    "ExecuteTime": {
     "end_time": "2017-09-30T08:25:59.997512",
     "start_time": "2017-09-30T08:25:59.984566"
    },
    "collapsed": false,
    "run_control": {
     "frozen": false,
     "read_only": false
    }
   },
   "outputs": [
    {
     "data": {
      "text/plain": [
       "[(0, 77, 87.072849638989027),\n",
       " (1, 72, 54.322237288358494),\n",
       " (2, 79, 54.385542147083335),\n",
       " (3, 97, 71.215681380434305),\n",
       " (4, 85, 89.647021472973876),\n",
       " (5, 57, 71.3301848406592),\n",
       " (6, 86, 101.28441893639999),\n",
       " (7, 96, 76.051226218361322),\n",
       " (8, 31, 73.804795431302225),\n",
       " (9, 76, 58.2595850117266),\n",
       " (10, 33, 62.608185642510435),\n",
       " (11, 98, 83.853181431989469),\n",
       " (12, 109, 64.919832326181549),\n",
       " (13, 108, 38.545942424531958),\n",
       " (14, 52, 61.47842136879526),\n",
       " (15, 92, 80.339217393491566),\n",
       " (16, 58, 50.133574020988704),\n",
       " (17, 94, 54.11684660851904),\n",
       " (18, 66, 70.866802429591885),\n",
       " (19, 104, 73.453626788717543)]"
      ]
     },
     "execution_count": 108,
     "metadata": {},
     "output_type": "execute_result"
    }
   ],
   "source": [
    "busAverages = []\n",
    "for i, bus in enumerate(busses):\n",
    "    busAverages.append((i, bus, tt[i].mean()))\n",
    "busAverages    "
   ]
  },
  {
   "cell_type": "markdown",
   "metadata": {
    "run_control": {
     "frozen": false,
     "read_only": false
    }
   },
   "source": [
    "this can be done in a single line with a _list comprehension_ which is a very compact and efficient way to write a for loop if what I want to do is return the result of some operation into a list"
   ]
  },
  {
   "cell_type": "code",
   "execution_count": 109,
   "metadata": {
    "ExecuteTime": {
     "end_time": "2017-09-30T08:26:01.536574",
     "start_time": "2017-09-30T08:26:01.531734"
    },
    "collapsed": false,
    "run_control": {
     "frozen": false,
     "read_only": false
    }
   },
   "outputs": [],
   "source": [
    "# list comprehension\n",
    "busAverages2 = [(i, bus) for i, bus in enumerate(busses)] "
   ]
  },
  {
   "cell_type": "code",
   "execution_count": 110,
   "metadata": {
    "ExecuteTime": {
     "end_time": "2017-09-30T08:26:01.573106",
     "start_time": "2017-09-30T08:26:01.565076"
    },
    "collapsed": false,
    "run_control": {
     "frozen": false,
     "read_only": false
    }
   },
   "outputs": [
    {
     "name": "stdout",
     "output_type": "stream",
     "text": [
      "mean time by bus\n",
      "   77:  87.07 minutes\n",
      "   72:  54.32 minutes\n",
      "   79:  54.39 minutes\n",
      "   97:  71.22 minutes\n",
      "   85:  89.65 minutes\n",
      "   57:  71.33 minutes\n",
      "   86: 101.28 minutes\n",
      "   96:  76.05 minutes\n",
      "   31:  73.80 minutes\n",
      "   76:  58.26 minutes\n",
      "   33:  62.61 minutes\n",
      "   98:  83.85 minutes\n",
      "  109:  64.92 minutes\n",
      "  108:  38.55 minutes\n",
      "   52:  61.48 minutes\n",
      "   92:  80.34 minutes\n",
      "   58:  50.13 minutes\n",
      "   94:  54.12 minutes\n",
      "   66:  70.87 minutes\n",
      "  104:  73.45 minutes\n"
     ]
    }
   ],
   "source": [
    "print(\"mean time by bus\")\n",
    "print('\\n'.join('{:>5d}: {:6.2f} minutes'.format(busses[k[0]], k[1]) for k in enumerate(tt.mean(axis = 1))))\n"
   ]
  },
  {
   "cell_type": "code",
   "execution_count": 111,
   "metadata": {
    "ExecuteTime": {
     "end_time": "2017-09-30T08:26:01.592721",
     "start_time": "2017-09-30T08:26:01.585850"
    },
    "collapsed": false,
    "run_control": {
     "frozen": false,
     "read_only": false
    }
   },
   "outputs": [
    {
     "name": "stdout",
     "output_type": "stream",
     "text": [
      "mean time by hour\n",
      " 1 PM:  66.89 minutes\n",
      " 2 PM:  71.59 minutes\n",
      " 3 PM:  69.06 minutes\n",
      " 4 PM:  68.20 minutes\n",
      " 5 PM:  68.36 minutes\n",
      " 6 PM:  69.88 minutes\n",
      " 7 PM:  69.08 minutes\n",
      " 8 PM:  69.55 minutes\n",
      " 9 PM:  65.98 minutes\n",
      "10 PM:  70.25 minutes\n"
     ]
    }
   ],
   "source": [
    "print(\"mean time by hour\")\n",
    "print('\\n'.join('{:>2d} PM: {:6.2f} minutes'.format(hours[k[0]], k[1]) for k in enumerate(tt.mean(axis = 0))))\n"
   ]
  },
  {
   "cell_type": "markdown",
   "metadata": {
    "run_control": {
     "frozen": false,
     "read_only": false
    }
   },
   "source": [
    "## list comprehension\n",
    "list comprehension is a way to write a for loop in a line and return a list container. It has significant computational advantages over for loops"
   ]
  },
  {
   "cell_type": "code",
   "execution_count": 112,
   "metadata": {
    "ExecuteTime": {
     "end_time": "2017-09-30T08:26:03.693817",
     "start_time": "2017-09-30T08:26:03.683095"
    },
    "collapsed": false,
    "run_control": {
     "frozen": false,
     "read_only": false
    }
   },
   "outputs": [],
   "source": [
    "aList = []\n",
    "for i in range(10000):\n",
    "    aList.append(\"%s\"%i)"
   ]
  },
  {
   "cell_type": "code",
   "execution_count": 113,
   "metadata": {
    "ExecuteTime": {
     "end_time": "2017-09-30T08:26:03.716829",
     "start_time": "2017-09-30T08:26:03.706396"
    },
    "collapsed": false,
    "run_control": {
     "frozen": false,
     "read_only": false
    }
   },
   "outputs": [
    {
     "data": {
      "text/plain": [
       "['0', '1', '2', '3', '4', '5', '6', '7', '8', '9']"
      ]
     },
     "execution_count": 113,
     "metadata": {},
     "output_type": "execute_result"
    }
   ],
   "source": [
    "aList[:10]"
   ]
  },
  {
   "cell_type": "code",
   "execution_count": 114,
   "metadata": {
    "ExecuteTime": {
     "end_time": "2017-09-30T08:26:03.738828",
     "start_time": "2017-09-30T08:26:03.727011"
    },
    "collapsed": false,
    "run_control": {
     "frozen": false,
     "read_only": false
    }
   },
   "outputs": [],
   "source": [
    "aList = [\"%s\"%i for i in range(10000)]"
   ]
  },
  {
   "cell_type": "code",
   "execution_count": 115,
   "metadata": {
    "ExecuteTime": {
     "end_time": "2017-09-30T08:26:03.753820",
     "start_time": "2017-09-30T08:26:03.746659"
    },
    "collapsed": false,
    "run_control": {
     "frozen": false,
     "read_only": false
    }
   },
   "outputs": [
    {
     "data": {
      "text/plain": [
       "['0', '1', '2', '3', '4', '5', '6', '7', '8', '9']"
      ]
     },
     "execution_count": 115,
     "metadata": {},
     "output_type": "execute_result"
    }
   ],
   "source": [
    "aList[:10]"
   ]
  },
  {
   "cell_type": "code",
   "execution_count": null,
   "metadata": {
    "collapsed": false,
    "run_control": {
     "frozen": false,
     "read_only": false
    }
   },
   "outputs": [],
   "source": []
  },
  {
   "cell_type": "markdown",
   "metadata": {
    "run_control": {
     "frozen": false,
     "read_only": false
    }
   },
   "source": [
    "# PART 6: matplotlib"
   ]
  },
  {
   "cell_type": "markdown",
   "metadata": {
    "collapsed": false,
    "run_control": {
     "frozen": false,
     "read_only": false
    }
   },
   "source": [
    "## setting up pylab plotting\n"
   ]
  },
  {
   "cell_type": "code",
   "execution_count": 116,
   "metadata": {
    "ExecuteTime": {
     "end_time": "2017-09-30T08:26:07.299001",
     "start_time": "2017-09-30T08:26:06.893444"
    },
    "collapsed": false,
    "run_control": {
     "frozen": false,
     "read_only": false
    }
   },
   "outputs": [
    {
     "name": "stdout",
     "output_type": "stream",
     "text": [
      "Populating the interactive namespace from numpy and matplotlib\n"
     ]
    },
    {
     "name": "stderr",
     "output_type": "stream",
     "text": [
      "//anaconda/lib/python2.7/site-packages/IPython/core/magics/pylab.py:161: UserWarning: pylab import has clobbered these variables: ['e']\n",
      "`%matplotlib` prevents importing * from pylab and numpy\n",
      "  \"\\n`%matplotlib` prevents importing * from pylab and numpy\"\n"
     ]
    },
    {
     "data": {
      "text/plain": [
       "RcParams({u'_internal.classic_mode': False,\n",
       "          u'agg.path.chunksize': 0,\n",
       "          u'animation.avconv_args': [],\n",
       "          u'animation.avconv_path': u'avconv',\n",
       "          u'animation.bitrate': -1,\n",
       "          u'animation.codec': u'h264',\n",
       "          u'animation.convert_args': [],\n",
       "          u'animation.convert_path': u'convert',\n",
       "          u'animation.ffmpeg_args': [],\n",
       "          u'animation.ffmpeg_path': u'ffmpeg',\n",
       "          u'animation.frame_format': u'png',\n",
       "          u'animation.html': u'none',\n",
       "          u'animation.mencoder_args': [],\n",
       "          u'animation.mencoder_path': u'mencoder',\n",
       "          u'animation.writer': u'ffmpeg',\n",
       "          u'axes.autolimit_mode': u'data',\n",
       "          u'axes.axisbelow': u'line',\n",
       "          u'axes.edgecolor': u'k',\n",
       "          u'axes.facecolor': u'w',\n",
       "          u'axes.formatter.limits': [-7, 7],\n",
       "          u'axes.formatter.offset_threshold': 4,\n",
       "          u'axes.formatter.use_locale': False,\n",
       "          u'axes.formatter.use_mathtext': False,\n",
       "          u'axes.formatter.useoffset': True,\n",
       "          u'axes.grid': False,\n",
       "          u'axes.grid.axis': u'both',\n",
       "          u'axes.grid.which': u'major',\n",
       "          u'axes.hold': None,\n",
       "          u'axes.labelcolor': u'k',\n",
       "          u'axes.labelpad': 4.0,\n",
       "          u'axes.labelsize': u'medium',\n",
       "          u'axes.labelweight': u'normal',\n",
       "          u'axes.linewidth': 0.8,\n",
       "          u'axes.prop_cycle': cycler(u'color', [u'#1f77b4', u'#ff7f0e', u'#2ca02c', u'#d62728', u'#9467bd', u'#8c564b', u'#e377c2', u'#7f7f7f', u'#bcbd22', u'#17becf']),\n",
       "          u'axes.spines.bottom': True,\n",
       "          u'axes.spines.left': True,\n",
       "          u'axes.spines.right': True,\n",
       "          u'axes.spines.top': True,\n",
       "          u'axes.titlepad': 6.0,\n",
       "          u'axes.titlesize': u'large',\n",
       "          u'axes.titleweight': u'normal',\n",
       "          u'axes.unicode_minus': True,\n",
       "          u'axes.xmargin': 0.05,\n",
       "          u'axes.ymargin': 0.05,\n",
       "          u'axes3d.grid': True,\n",
       "          u'backend': 'module://ipykernel.pylab.backend_inline',\n",
       "          u'backend.qt4': u'PyQt4',\n",
       "          u'backend.qt5': u'PyQt5',\n",
       "          u'backend_fallback': True,\n",
       "          u'boxplot.bootstrap': None,\n",
       "          u'boxplot.boxprops.color': u'k',\n",
       "          u'boxplot.boxprops.linestyle': u'-',\n",
       "          u'boxplot.boxprops.linewidth': 1.0,\n",
       "          u'boxplot.capprops.color': u'k',\n",
       "          u'boxplot.capprops.linestyle': u'-',\n",
       "          u'boxplot.capprops.linewidth': 1.0,\n",
       "          u'boxplot.flierprops.color': u'k',\n",
       "          u'boxplot.flierprops.linestyle': u'none',\n",
       "          u'boxplot.flierprops.linewidth': 1.0,\n",
       "          u'boxplot.flierprops.marker': u'o',\n",
       "          u'boxplot.flierprops.markeredgecolor': u'k',\n",
       "          u'boxplot.flierprops.markerfacecolor': u'none',\n",
       "          u'boxplot.flierprops.markersize': 6.0,\n",
       "          u'boxplot.meanline': False,\n",
       "          u'boxplot.meanprops.color': u'C2',\n",
       "          u'boxplot.meanprops.linestyle': u'--',\n",
       "          u'boxplot.meanprops.linewidth': 1.0,\n",
       "          u'boxplot.meanprops.marker': u'^',\n",
       "          u'boxplot.meanprops.markeredgecolor': u'C2',\n",
       "          u'boxplot.meanprops.markerfacecolor': u'C2',\n",
       "          u'boxplot.meanprops.markersize': 6.0,\n",
       "          u'boxplot.medianprops.color': u'C1',\n",
       "          u'boxplot.medianprops.linestyle': u'-',\n",
       "          u'boxplot.medianprops.linewidth': 1.0,\n",
       "          u'boxplot.notch': False,\n",
       "          u'boxplot.patchartist': False,\n",
       "          u'boxplot.showbox': True,\n",
       "          u'boxplot.showcaps': True,\n",
       "          u'boxplot.showfliers': True,\n",
       "          u'boxplot.showmeans': False,\n",
       "          u'boxplot.vertical': True,\n",
       "          u'boxplot.whiskerprops.color': u'k',\n",
       "          u'boxplot.whiskerprops.linestyle': u'-',\n",
       "          u'boxplot.whiskerprops.linewidth': 1.0,\n",
       "          u'boxplot.whiskers': 1.5,\n",
       "          u'contour.corner_mask': True,\n",
       "          u'contour.negative_linestyle': u'dashed',\n",
       "          u'datapath': u'//anaconda/lib/python2.7/site-packages/matplotlib/mpl-data',\n",
       "          u'date.autoformatter.day': u'%Y-%m-%d',\n",
       "          u'date.autoformatter.hour': u'%m-%d %H',\n",
       "          u'date.autoformatter.microsecond': u'%M:%S.%f',\n",
       "          u'date.autoformatter.minute': u'%d %H:%M',\n",
       "          u'date.autoformatter.month': u'%Y-%m',\n",
       "          u'date.autoformatter.second': u'%H:%M:%S',\n",
       "          u'date.autoformatter.year': u'%Y',\n",
       "          u'docstring.hardcopy': False,\n",
       "          u'errorbar.capsize': 0.0,\n",
       "          u'examples.directory': u'',\n",
       "          u'figure.autolayout': False,\n",
       "          u'figure.dpi': 72.0,\n",
       "          u'figure.edgecolor': (1, 1, 1, 0),\n",
       "          u'figure.facecolor': (1, 1, 1, 0),\n",
       "          u'figure.figsize': [6.0, 4.0],\n",
       "          u'figure.frameon': True,\n",
       "          u'figure.max_open_warning': 20,\n",
       "          u'figure.subplot.bottom': 0.125,\n",
       "          u'figure.subplot.hspace': 0.2,\n",
       "          u'figure.subplot.left': 0.125,\n",
       "          u'figure.subplot.right': 0.9,\n",
       "          u'figure.subplot.top': 0.88,\n",
       "          u'figure.subplot.wspace': 0.2,\n",
       "          u'figure.titlesize': u'large',\n",
       "          u'figure.titleweight': u'normal',\n",
       "          u'font.cursive': [u'Apple Chancery',\n",
       "                            u'Textile',\n",
       "                            u'Zapf Chancery',\n",
       "                            u'Sand',\n",
       "                            u'Script MT',\n",
       "                            u'Felipa',\n",
       "                            u'cursive'],\n",
       "          u'font.family': [u'sans-serif'],\n",
       "          u'font.fantasy': [u'Comic Sans MS',\n",
       "                            u'Chicago',\n",
       "                            u'Charcoal',\n",
       "                            u'ImpactWestern',\n",
       "                            u'Humor Sans',\n",
       "                            u'xkcd',\n",
       "                            u'fantasy'],\n",
       "          u'font.monospace': [u'DejaVu Sans Mono',\n",
       "                              u'Bitstream Vera Sans Mono',\n",
       "                              u'Computer Modern Typewriter',\n",
       "                              u'Andale Mono',\n",
       "                              u'Nimbus Mono L',\n",
       "                              u'Courier New',\n",
       "                              u'Courier',\n",
       "                              u'Fixed',\n",
       "                              u'Terminal',\n",
       "                              u'monospace'],\n",
       "          u'font.sans-serif': [u'DejaVu Sans',\n",
       "                               u'Bitstream Vera Sans',\n",
       "                               u'Computer Modern Sans Serif',\n",
       "                               u'Lucida Grande',\n",
       "                               u'Verdana',\n",
       "                               u'Geneva',\n",
       "                               u'Lucid',\n",
       "                               u'Arial',\n",
       "                               u'Helvetica',\n",
       "                               u'Avant Garde',\n",
       "                               u'sans-serif'],\n",
       "          u'font.serif': [u'DejaVu Serif',\n",
       "                          u'Bitstream Vera Serif',\n",
       "                          u'Computer Modern Roman',\n",
       "                          u'New Century Schoolbook',\n",
       "                          u'Century Schoolbook L',\n",
       "                          u'Utopia',\n",
       "                          u'ITC Bookman',\n",
       "                          u'Bookman',\n",
       "                          u'Nimbus Roman No9 L',\n",
       "                          u'Times New Roman',\n",
       "                          u'Times',\n",
       "                          u'Palatino',\n",
       "                          u'Charter',\n",
       "                          u'serif'],\n",
       "          u'font.size': 10.0,\n",
       "          u'font.stretch': u'normal',\n",
       "          u'font.style': u'normal',\n",
       "          u'font.variant': u'normal',\n",
       "          u'font.weight': u'normal',\n",
       "          u'grid.alpha': 1.0,\n",
       "          u'grid.color': u'#b0b0b0',\n",
       "          u'grid.linestyle': u'-',\n",
       "          u'grid.linewidth': 0.8,\n",
       "          u'hatch.color': u'k',\n",
       "          u'hatch.linewidth': 1.0,\n",
       "          u'hist.bins': 10,\n",
       "          u'image.aspect': u'equal',\n",
       "          u'image.cmap': u'viridis',\n",
       "          u'image.composite_image': True,\n",
       "          u'image.interpolation': u'nearest',\n",
       "          u'image.lut': 256,\n",
       "          u'image.origin': u'upper',\n",
       "          u'image.resample': True,\n",
       "          u'interactive': True,\n",
       "          u'keymap.all_axes': [u'a'],\n",
       "          u'keymap.back': [u'left', u'c', u'backspace'],\n",
       "          u'keymap.forward': [u'right', u'v'],\n",
       "          u'keymap.fullscreen': [u'f', u'ctrl+f'],\n",
       "          u'keymap.grid': [u'g'],\n",
       "          u'keymap.home': [u'h', u'r', u'home'],\n",
       "          u'keymap.pan': [u'p'],\n",
       "          u'keymap.quit': [u'ctrl+w', u'cmd+w'],\n",
       "          u'keymap.save': [u's', u'ctrl+s'],\n",
       "          u'keymap.xscale': [u'k', u'L'],\n",
       "          u'keymap.yscale': [u'l'],\n",
       "          u'keymap.zoom': [u'o'],\n",
       "          u'legend.borderaxespad': 0.5,\n",
       "          u'legend.borderpad': 0.4,\n",
       "          u'legend.columnspacing': 2.0,\n",
       "          u'legend.edgecolor': u'0.8',\n",
       "          u'legend.facecolor': u'inherit',\n",
       "          u'legend.fancybox': True,\n",
       "          u'legend.fontsize': u'medium',\n",
       "          u'legend.framealpha': 0.8,\n",
       "          u'legend.frameon': True,\n",
       "          u'legend.handleheight': 0.7,\n",
       "          u'legend.handlelength': 2.0,\n",
       "          u'legend.handletextpad': 0.8,\n",
       "          u'legend.labelspacing': 0.5,\n",
       "          u'legend.loc': u'best',\n",
       "          u'legend.markerscale': 1.0,\n",
       "          u'legend.numpoints': 1,\n",
       "          u'legend.scatterpoints': 1,\n",
       "          u'legend.shadow': False,\n",
       "          u'lines.antialiased': True,\n",
       "          u'lines.color': u'C0',\n",
       "          u'lines.dash_capstyle': u'butt',\n",
       "          u'lines.dash_joinstyle': u'round',\n",
       "          u'lines.dashdot_pattern': [4.8, 1.2, 0.8, 1.2],\n",
       "          u'lines.dashed_pattern': [2.8, 1.2],\n",
       "          u'lines.dotted_pattern': [1.1, 1.1],\n",
       "          u'lines.linestyle': u'-',\n",
       "          u'lines.linewidth': 1.5,\n",
       "          u'lines.marker': u'None',\n",
       "          u'lines.markeredgewidth': 1.0,\n",
       "          u'lines.markersize': 6.0,\n",
       "          u'lines.scale_dashes': True,\n",
       "          u'lines.solid_capstyle': u'projecting',\n",
       "          u'lines.solid_joinstyle': u'round',\n",
       "          u'markers.fillstyle': u'full',\n",
       "          u'mathtext.bf': u'sans:bold',\n",
       "          u'mathtext.cal': u'cursive',\n",
       "          u'mathtext.default': u'it',\n",
       "          u'mathtext.fallback_to_cm': True,\n",
       "          u'mathtext.fontset': u'dejavusans',\n",
       "          u'mathtext.it': u'sans:italic',\n",
       "          u'mathtext.rm': u'sans',\n",
       "          u'mathtext.sf': u'sans',\n",
       "          u'mathtext.tt': u'monospace',\n",
       "          u'nbagg.transparent': True,\n",
       "          u'patch.antialiased': True,\n",
       "          u'patch.edgecolor': u'k',\n",
       "          u'patch.facecolor': u'C0',\n",
       "          u'patch.force_edgecolor': False,\n",
       "          u'patch.linewidth': 1.0,\n",
       "          u'path.effects': [],\n",
       "          u'path.simplify': True,\n",
       "          u'path.simplify_threshold': 0.1111111111111111,\n",
       "          u'path.sketch': None,\n",
       "          u'path.snap': True,\n",
       "          u'pdf.compression': 6,\n",
       "          u'pdf.fonttype': 3,\n",
       "          u'pdf.inheritcolor': False,\n",
       "          u'pdf.use14corefonts': False,\n",
       "          u'pgf.debug': False,\n",
       "          u'pgf.preamble': [],\n",
       "          u'pgf.rcfonts': True,\n",
       "          u'pgf.texsystem': u'xelatex',\n",
       "          u'plugins.directory': u'.matplotlib_plugins',\n",
       "          u'polaraxes.grid': True,\n",
       "          u'ps.distiller.res': 6000,\n",
       "          u'ps.fonttype': 3,\n",
       "          u'ps.papersize': u'letter',\n",
       "          u'ps.useafm': False,\n",
       "          u'ps.usedistiller': False,\n",
       "          u'savefig.bbox': None,\n",
       "          u'savefig.directory': u'~',\n",
       "          u'savefig.dpi': u'figure',\n",
       "          u'savefig.edgecolor': u'w',\n",
       "          u'savefig.facecolor': u'w',\n",
       "          u'savefig.format': u'png',\n",
       "          u'savefig.frameon': True,\n",
       "          u'savefig.jpeg_quality': 95,\n",
       "          u'savefig.orientation': u'portrait',\n",
       "          u'savefig.pad_inches': 0.1,\n",
       "          u'savefig.transparent': False,\n",
       "          u'scatter.marker': u'o',\n",
       "          u'svg.fonttype': u'path',\n",
       "          u'svg.hashsalt': None,\n",
       "          u'svg.image_inline': True,\n",
       "          u'text.antialiased': True,\n",
       "          u'text.color': u'k',\n",
       "          u'text.dvipnghack': None,\n",
       "          u'text.hinting': u'auto',\n",
       "          u'text.hinting_factor': 8,\n",
       "          u'text.latex.preamble': [],\n",
       "          u'text.latex.preview': False,\n",
       "          u'text.latex.unicode': False,\n",
       "          u'text.usetex': False,\n",
       "          u'timezone': u'UTC',\n",
       "          u'tk.window_focus': False,\n",
       "          u'toolbar': u'toolbar2',\n",
       "          u'verbose.fileo': u'sys.stdout',\n",
       "          u'verbose.level': u'silent',\n",
       "          u'webagg.open_in_browser': True,\n",
       "          u'webagg.port': 8988,\n",
       "          u'webagg.port_retries': 50,\n",
       "          u'xtick.bottom': True,\n",
       "          u'xtick.color': u'k',\n",
       "          u'xtick.direction': u'out',\n",
       "          u'xtick.labelsize': u'medium',\n",
       "          u'xtick.major.bottom': True,\n",
       "          u'xtick.major.pad': 3.5,\n",
       "          u'xtick.major.size': 3.5,\n",
       "          u'xtick.major.top': True,\n",
       "          u'xtick.major.width': 0.8,\n",
       "          u'xtick.minor.bottom': True,\n",
       "          u'xtick.minor.pad': 3.4,\n",
       "          u'xtick.minor.size': 2.0,\n",
       "          u'xtick.minor.top': True,\n",
       "          u'xtick.minor.visible': False,\n",
       "          u'xtick.minor.width': 0.6,\n",
       "          u'xtick.top': False,\n",
       "          u'ytick.color': u'k',\n",
       "          u'ytick.direction': u'out',\n",
       "          u'ytick.labelsize': u'medium',\n",
       "          u'ytick.left': True,\n",
       "          u'ytick.major.left': True,\n",
       "          u'ytick.major.pad': 3.5,\n",
       "          u'ytick.major.right': True,\n",
       "          u'ytick.major.size': 3.5,\n",
       "          u'ytick.major.width': 0.8,\n",
       "          u'ytick.minor.left': True,\n",
       "          u'ytick.minor.pad': 3.4,\n",
       "          u'ytick.minor.right': True,\n",
       "          u'ytick.minor.size': 2.0,\n",
       "          u'ytick.minor.visible': False,\n",
       "          u'ytick.minor.width': 0.6,\n",
       "          u'ytick.right': False})"
      ]
     },
     "execution_count": 116,
     "metadata": {},
     "output_type": "execute_result"
    }
   ],
   "source": [
    "import pylab as pl\n",
    "%pylab inline\n",
    "\n",
    "#rcParams is adictionary hosting the pylab settings\n",
    "pylab.rcParams\n"
   ]
  },
  {
   "cell_type": "code",
   "execution_count": 117,
   "metadata": {
    "ExecuteTime": {
     "end_time": "2017-09-30T08:26:07.311407",
     "start_time": "2017-09-30T08:26:07.300983"
    },
    "collapsed": true,
    "run_control": {
     "frozen": false,
     "read_only": false
    }
   },
   "outputs": [],
   "source": [
    "# changing default settings with rcParams\n",
    "s = {'font.size': 20, 'figure.figsize': (10,10)}\n",
    "pylab.rcParams.update(s)"
   ]
  },
  {
   "cell_type": "markdown",
   "metadata": {
    "run_control": {
     "frozen": false,
     "read_only": false
    }
   },
   "source": [
    "### figures"
   ]
  },
  {
   "cell_type": "code",
   "execution_count": 118,
   "metadata": {
    "ExecuteTime": {
     "end_time": "2017-09-30T08:26:08.470706",
     "start_time": "2017-09-30T08:26:08.465934"
    },
    "collapsed": true,
    "run_control": {
     "frozen": false,
     "read_only": false
    }
   },
   "outputs": [],
   "source": [
    "myx = np.arange(10)\n",
    "myy1 = np.arange(0, 100, 10)\n",
    "myy2 = np.linspace(0, 25, 10)"
   ]
  },
  {
   "cell_type": "code",
   "execution_count": 119,
   "metadata": {
    "ExecuteTime": {
     "end_time": "2017-09-30T08:26:09.111330",
     "start_time": "2017-09-30T08:26:08.490023"
    },
    "collapsed": false,
    "run_control": {
     "frozen": false,
     "read_only": false
    }
   },
   "outputs": [
    {
     "data": {
      "image/png": "[encoded data removed]",
      "text/plain": [
       "<matplotlib.figure.Figure at 0x10ab0e2d0>"
      ]
     },
     "metadata": {},
     "output_type": "display_data"
    }
   ],
   "source": [
    "#create a figure object, so you can referto it later\n",
    "fig = pl.figure()\n",
    "#populate it with subplots as axis objects\n",
    "ax1 = fig.add_subplot(121)\n",
    "ax2 = fig.add_subplot(122)\n",
    "\n",
    "ax1.plot(myx, myy1, 'ko', ms=10, label='black plot')#, color='IndianRed')\n",
    "ax2.plot(myx, myy2, 'r--', ms=20, label='red plot', lw=4)#, color='SteelBlue')\n",
    "\n",
    "ax1.set_xlabel(\"some range\")\n",
    "ax2.set_xlabel(\"some other range\", fontsize = 15)\n",
    "ax1.set_ylabel(\"some value\")\n",
    "ax1.set_ylabel(\"some other value\")\n",
    "\n",
    "ax1.set_xticks([0, 2, 4, 9])\n",
    "ax1.set_xlim((0, 12))\n",
    "ax1.set_ylim((0, 115))\n",
    "ax2.set_ylim((0, 27))\n",
    "ax1.legend(fontsize = 15, loc='upper left', shadow=True)\n",
    "ax2.legend(fontsize = 15, loc='upper left', shadow=True)\n",
    "ax1.set_xticklabels(['<$2','$2-4','$4-9','>$9'], fontsize=15);"
   ]
  },
  {
   "cell_type": "markdown",
   "metadata": {
    "run_control": {
     "frozen": false,
     "read_only": false
    }
   },
   "source": [
    "## color maps"
   ]
  },
  {
   "cell_type": "code",
   "execution_count": 120,
   "metadata": {
    "ExecuteTime": {
     "end_time": "2017-09-30T08:26:10.796588",
     "start_time": "2017-09-30T08:26:10.192310"
    },
    "collapsed": false,
    "run_control": {
     "frozen": false,
     "read_only": false
    }
   },
   "outputs": [
    {
     "data": {
      "image/png": "[encoded data removed]",
      "text/plain": [
       "<matplotlib.figure.Figure at 0x10ab0e150>"
      ]
     },
     "metadata": {},
     "output_type": "display_data"
    }
   ],
   "source": [
    "fig = pl.figure()\n",
    "#populate it with subplots as axis objects\n",
    "ax1 = fig.add_subplot(131)\n",
    "ax2 = fig.add_subplot(132)\n",
    "ax3 = fig.add_subplot(1,3,3)\n",
    "ax1.imshow(tt, cmap='bone')\n",
    "ax2.imshow(tt, cmap='bone', interpolation='bilinear')\n",
    "ax3.imshow(tt, cmap='viridis')\n",
    "ax2.axis('off');\n",
    "ax3.axis('off');"
   ]
  },
  {
   "cell_type": "markdown",
   "metadata": {
    "collapsed": true,
    "run_control": {
     "frozen": false,
     "read_only": false
    }
   },
   "source": [
    " more plotting [here](https://github.com/fedhere/UInotebooks/blob/master/visz/some_colors_and_shapes.ipynb)"
   ]
  },
  {
   "cell_type": "code",
   "execution_count": 152,
   "metadata": {
    "ExecuteTime": {
     "end_time": "2017-09-30T13:59:56.461463",
     "start_time": "2017-09-30T13:59:54.874592"
    },
    "collapsed": false,
    "run_control": {
     "frozen": false,
     "read_only": false
    }
   },
   "outputs": [
    {
     "data": {
      "text/plain": [
       "(-0.5, 2402.5, 3590.5, -0.5)"
      ]
     },
     "execution_count": 152,
     "metadata": {},
     "output_type": "execute_result"
    },
    {
     "data": {
      "image/png": "[encoded data removed]",
      "text/plain": [
       "<matplotlib.figure.Figure at 0x10f977910>"
      ]
     },
     "metadata": {},
     "output_type": "display_data"
    }
   ],
   "source": [
    "import scipy as sp\n",
    "from scipy import misc\n",
    "pl.imshow(sp.misc.imread(\"Mona_Lisa.png\"));\n",
    "pl.axis('off')"
   ]
  },
  {
   "cell_type": "code",
   "execution_count": null,
   "metadata": {
    "collapsed": true
   },
   "outputs": [],
   "source": []
  },
  {
   "cell_type": "code",
   "execution_count": null,
   "metadata": {
    "collapsed": true
   },
   "outputs": [],
   "source": []
  }
 ],
 "metadata": {
  "anaconda-cloud": {},
  "kernelspec": {
   "display_name": "Python [default]",
   "language": "python",
   "name": "python2"
  },
  "language_info": {
   "codemirror_mode": {
    "name": "ipython",
    "version": 2
   },
   "file_extension": ".py",
   "mimetype": "text/x-python",
   "name": "python",
   "nbconvert_exporter": "python",
   "pygments_lexer": "ipython2",
   "version": "2.7.12"
  },
  "latex_envs": {
   "LaTeX_envs_menu_present": true,
   "bibliofile": "biblio.bib",
   "cite_by": "apalike",
   "current_citInitial": 1,
   "eqLabelWithNumbers": true,
   "eqNumInitial": 1,
   "hotkeys": {
    "equation": "Ctrl-E",
    "itemize": "Ctrl-I"
   },
   "labels_anchors": false,
   "latex_user_defs": false,
   "report_style_numbering": false,
   "user_envs_cfg": false
  },
  "toc": {
   "colors": {
    "hover_highlight": "#DAA520",
    "running_highlight": "#FF0000",
    "selected_highlight": "#FFD700"
   },
   "moveMenuLeft": true,
   "nav_menu": {
    "height": "426px",
    "width": "252px"
   },
   "navigate_menu": true,
   "number_sections": true,
   "sideBar": true,
   "threshold": 4,
   "toc_cell": true,
   "toc_section_display": "block",
   "toc_window_display": true
  }
 },
 "nbformat": 4,
 "nbformat_minor": 0
}
